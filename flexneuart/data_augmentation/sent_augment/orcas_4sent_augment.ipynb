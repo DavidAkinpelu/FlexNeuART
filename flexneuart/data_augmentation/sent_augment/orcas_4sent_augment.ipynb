{
 "cells": [
  {
   "cell_type": "code",
   "execution_count": 1,
   "id": "8f335a09",
   "metadata": {},
   "outputs": [
    {
     "name": "stdout",
     "output_type": "stream",
     "text": [
      "TESTING This notebook\n"
     ]
    }
   ],
   "source": [
    "# TESTING This notebook\n",
    "print(\"TESTING This notebook\")"
   ]
  },
  {
   "cell_type": "code",
   "execution_count": 2,
   "id": "1c7af8de",
   "metadata": {},
   "outputs": [],
   "source": [
    "from flexneuart import configure_classpath\n",
    "\n",
    "configure_classpath()"
   ]
  },
  {
   "cell_type": "code",
   "execution_count": 3,
   "id": "31ef1e43",
   "metadata": {},
   "outputs": [],
   "source": [
    "COLLECTION_DIR='/home/ubuntu/efs/capstone/data/orcas/orcas'"
   ]
  },
  {
   "cell_type": "code",
   "execution_count": 4,
   "id": "9b9e884c",
   "metadata": {},
   "outputs": [
    {
     "name": "stdout",
     "output_type": "stream",
     "text": [
      "Checking sub-directory: queries\n",
      "Found indexable data file: /home/ubuntu/efs/capstone/data/orcas/orcas/input_data_main/queries/AnswerFields.jsonl.gz\n"
     ]
    },
    {
     "data": {
      "text/plain": [
       "{'index_subdirs': ['queries'],\n",
       " 'query_subdirs': [],\n",
       " 'data_file_name': 'AnswerFields.jsonl.gz'}"
      ]
     },
     "execution_count": 4,
     "metadata": {},
     "output_type": "execute_result"
    }
   ],
   "source": [
    "from flexneuart.indexing import *\n",
    "\n",
    "vars(get_index_query_data_dirs(f'{COLLECTION_DIR}/input_data_main'))"
   ]
  },
  {
   "cell_type": "code",
   "execution_count": 6,
   "id": "428c47dc",
   "metadata": {},
   "outputs": [
    {
     "name": "stdout",
     "output_type": "stream",
     "text": [
      "Checking sub-directory: queries\n",
      "Found indexable data file: /home/ubuntu/efs/capstone/data/orcas/orcas/input_data_main/queries/AnswerFields.jsonl.gz\n"
     ]
    }
   ],
   "source": [
    "# change False to True if inverse index has not been created and run this cell\n",
    "\n",
    "if False:\n",
    "    create_lucene_index(input_data_dir=f'{COLLECTION_DIR}/input_data_main',\n",
    "                        output_dir_name=f'{COLLECTION_DIR}/lucene_index',\n",
    "                        index_field_name='text')"
   ]
  },
  {
   "cell_type": "code",
   "execution_count": null,
   "id": "4496620e",
   "metadata": {},
   "outputs": [
    {
     "name": "stdout",
     "output_type": "stream",
     "text": [
      "Checking sub-directory: queries\n",
      "Found indexable data file: /home/ubuntu/efs/capstone/data/orcas/orcas/input_data_main/queries/AnswerFields.jsonl.gz\n"
     ]
    }
   ],
   "source": [
    "# change False to True if forward index has not been created and run this cell\n",
    "\n",
    "index_field_names=['text_raw']\n",
    "index_field_types=['textRaw']\n",
    "\n",
    "if False:\n",
    "    for field_name, field_type in zip(index_field_names, index_field_types):\n",
    "        create_forward_index(input_data_dir=f'{COLLECTION_DIR}/input_data_main',\n",
    "                            output_dir_name=f'{COLLECTION_DIR}/forward_index',\n",
    "                            index_field_name=field_name,\n",
    "                            field_type=field_type,\n",
    "                            index_type=FORWARD_INDEX_TYPE_DATA_DICT)"
   ]
  },
  {
   "cell_type": "markdown",
   "id": "02d72258",
   "metadata": {},
   "source": [
    "#### retrieval"
   ]
  },
  {
   "cell_type": "code",
   "execution_count": 5,
   "id": "b644e379",
   "metadata": {},
   "outputs": [],
   "source": [
    "from flexneuart.retrieval import create_featextr_resource_manager\n",
    "\n",
    "# create a resource manager\n",
    "resource_manager=create_featextr_resource_manager(resource_root_dir=f'{COLLECTION_DIR}/',\n",
    "                                                  fwd_index_dir='forward_index')"
   ]
  },
  {
   "cell_type": "code",
   "execution_count": 6,
   "id": "a9bdd68b",
   "metadata": {},
   "outputs": [],
   "source": [
    "from flexneuart.retrieval.cand_provider import *\n",
    "# create a candidate provider/generator\n",
    "cand_prov = create_cand_provider(resource_manager, PROVIDER_TYPE_LUCENE, \n",
    "                                 f'lucene_index',\n",
    "                                 add_config_file='exper_desc/lucene_conf.json')\n",
    "\n",
    "from flexneuart.retrieval.fwd_index import get_forward_index\n",
    "# get forward index\n",
    "raw_indx = get_forward_index(resource_manager, 'text_raw')"
   ]
  },
  {
   "cell_type": "code",
   "execution_count": 7,
   "id": "697bcb80",
   "metadata": {},
   "outputs": [],
   "source": [
    "from flexneuart.text_proc.parse import KrovetzStemParser\n",
    "STEMMER_NO_STOPWORDS=KrovetzStemParser(stop_words=[])\n",
    "\n",
    "def jaccard(text1, text2, text_proc):\n",
    "    set1 = set(text_proc(text1.lower()).split())\n",
    "    set2 = set(text_proc(text2.lower()).split())\n",
    "    \n",
    "    len1 = len(set1)\n",
    "    len2 = len(set2)\n",
    "    mxlen = max(len1, len2)\n",
    "    if not mxlen:\n",
    "        return 0\n",
    "    return len(set1 & set2) / len(set1 | set2)"
   ]
  },
  {
   "cell_type": "code",
   "execution_count": 12,
   "id": "59ad4fb0",
   "metadata": {},
   "outputs": [
    {
     "name": "stdout",
     "output_type": "stream",
     "text": [
      "8206135 0.6666666666666666 who composed romeo and juliet\n",
      "=============\n",
      "8950310 0.6666666666666666 who composed romeo and juliet?\n",
      "=============\n",
      "3797844 0.6666666666666666 who marries romeo and juliet\n",
      "=============\n",
      "3502991 0.6666666666666666 who wrote romeo and juliet\n",
      "=============\n",
      "11986085 0.6 juliet romeo and juliet\n",
      "=============\n",
      "4339582 0.8 london in which country\n",
      "=============\n",
      "11561458 0.6666666666666666 london is in which continent\n",
      "=============\n",
      "3598845 0.6666666666666666 london is in which county\n",
      "=============\n",
      "7095800 0.6666666666666666 which county is london in\n",
      "=============\n",
      "11563909 0.6666666666666666 abidjan is in which country\n",
      "=============\n"
     ]
    }
   ],
   "source": [
    "orig_queries = [\"who published romeo and juliet\", \"which country is london in\"]\n",
    "\n",
    "json_array = []\n",
    "\n",
    "K = 5 # total no of new queries cap needed\n",
    "\n",
    "for orig_query in orig_queries:\n",
    "    # An example of running a text query\n",
    "    query_res = run_text_query(cand_prov, 100, orig_query)\n",
    "    # query_res\n",
    "    total_new_queries_added = 0\n",
    "    new_queries_added = []\n",
    "    for e in query_res[1]: # e = CandidateEntry(doc_id='8206135', score=18.488903045654297),\n",
    "        reform_query = raw_indx.get_doc_text_raw(e.doc_id)\n",
    "        simil = jaccard(orig_query, reform_query, STEMMER_NO_STOPWORDS)\n",
    "        if(orig_query==reform_query):\n",
    "            continue\n",
    "        if simil >= 0.6 and simil<1:\n",
    "            print(e.doc_id, simil, reform_query)\n",
    "            print('=============')\n",
    "            new_queries_added.append((e.doc_id, simil, reform_query))\n",
    "            total_new_queries_added +=1\n",
    "            json_array.append({'orig_qry_text' : orig_query, 'replacement_text' : reform_query, 'sim_score': simil})\n",
    "        if(total_new_queries_added==K):\n",
    "            break\n"
   ]
  },
  {
   "cell_type": "code",
   "execution_count": 13,
   "id": "a473819d",
   "metadata": {},
   "outputs": [
    {
     "data": {
      "text/plain": [
       "[{'orig_qry_text': 'who published romeo and juliet',\n",
       "  'replacement_text': 'who composed romeo and juliet',\n",
       "  'sim_score': 0.6666666666666666},\n",
       " {'orig_qry_text': 'who published romeo and juliet',\n",
       "  'replacement_text': 'who composed romeo and juliet?',\n",
       "  'sim_score': 0.6666666666666666},\n",
       " {'orig_qry_text': 'who published romeo and juliet',\n",
       "  'replacement_text': 'who marries romeo and juliet',\n",
       "  'sim_score': 0.6666666666666666},\n",
       " {'orig_qry_text': 'who published romeo and juliet',\n",
       "  'replacement_text': 'who wrote romeo and juliet',\n",
       "  'sim_score': 0.6666666666666666},\n",
       " {'orig_qry_text': 'who published romeo and juliet',\n",
       "  'replacement_text': 'juliet romeo and juliet',\n",
       "  'sim_score': 0.6},\n",
       " {'orig_qry_text': 'which country is london in',\n",
       "  'replacement_text': 'london in which country',\n",
       "  'sim_score': 0.8},\n",
       " {'orig_qry_text': 'which country is london in',\n",
       "  'replacement_text': 'london is in which continent',\n",
       "  'sim_score': 0.6666666666666666},\n",
       " {'orig_qry_text': 'which country is london in',\n",
       "  'replacement_text': 'london is in which county',\n",
       "  'sim_score': 0.6666666666666666},\n",
       " {'orig_qry_text': 'which country is london in',\n",
       "  'replacement_text': 'which county is london in',\n",
       "  'sim_score': 0.6666666666666666},\n",
       " {'orig_qry_text': 'which country is london in',\n",
       "  'replacement_text': 'abidjan is in which country',\n",
       "  'sim_score': 0.6666666666666666}]"
      ]
     },
     "execution_count": 13,
     "metadata": {},
     "output_type": "execute_result"
    }
   ],
   "source": [
    "json_array"
   ]
  },
  {
   "cell_type": "code",
   "execution_count": 14,
   "id": "04e73fc8",
   "metadata": {},
   "outputs": [],
   "source": [
    "import json\n",
    "# write op file\n",
    "outputfilename = 'temp.json'\n",
    "with open(outputfilename, 'w') as outfile:\n",
    "    json.dump(json_array, outfile)"
   ]
  },
  {
   "cell_type": "code",
   "execution_count": 15,
   "id": "691acda3",
   "metadata": {},
   "outputs": [
    {
     "name": "stdout",
     "output_type": "stream",
     "text": [
      "<class 'list'>\n",
      "[{'orig_qry_text': 'who published romeo and juliet', 'replacement_text': 'who composed romeo and juliet', 'sim_score': 0.6666666666666666}, {'orig_qry_text': 'who published romeo and juliet', 'replacement_text': 'who composed romeo and juliet?', 'sim_score': 0.6666666666666666}, {'orig_qry_text': 'who published romeo and juliet', 'replacement_text': 'who marries romeo and juliet', 'sim_score': 0.6666666666666666}, {'orig_qry_text': 'who published romeo and juliet', 'replacement_text': 'who wrote romeo and juliet', 'sim_score': 0.6666666666666666}, {'orig_qry_text': 'who published romeo and juliet', 'replacement_text': 'juliet romeo and juliet', 'sim_score': 0.6}, {'orig_qry_text': 'which country is london in', 'replacement_text': 'london in which country', 'sim_score': 0.8}, {'orig_qry_text': 'which country is london in', 'replacement_text': 'london is in which continent', 'sim_score': 0.6666666666666666}, {'orig_qry_text': 'which country is london in', 'replacement_text': 'london is in which county', 'sim_score': 0.6666666666666666}, {'orig_qry_text': 'which country is london in', 'replacement_text': 'which county is london in', 'sim_score': 0.6666666666666666}, {'orig_qry_text': 'which country is london in', 'replacement_text': 'abidjan is in which country', 'sim_score': 0.6666666666666666}]\n"
     ]
    }
   ],
   "source": [
    "# read ip file\n",
    "with open(outputfilename, 'r') as outfile:\n",
    "    json_array_loaded = json.load(outfile)\n",
    "print(type(json_array_loaded))\n",
    "print(json_array_loaded)"
   ]
  },
  {
   "cell_type": "code",
   "execution_count": 7,
   "id": "50306665",
   "metadata": {},
   "outputs": [
    {
     "data": {
      "text/plain": [
       "(4274,\n",
       " [CandidateEntry(doc_id='8206135', score=18.488903045654297),\n",
       "  CandidateEntry(doc_id='8950310', score=18.488903045654297),\n",
       "  CandidateEntry(doc_id='3797844', score=18.488903045654297),\n",
       "  CandidateEntry(doc_id='3502991', score=18.488903045654297),\n",
       "  CandidateEntry(doc_id='8827722', score=18.292387008666992),\n",
       "  CandidateEntry(doc_id='11975473', score=17.66094970703125),\n",
       "  CandidateEntry(doc_id='10862739', score=17.66094970703125),\n",
       "  CandidateEntry(doc_id='5517033', score=16.903972625732422),\n",
       "  CandidateEntry(doc_id='9328272', score=16.903972625732422),\n",
       "  CandidateEntry(doc_id='3342849', score=16.903972625732422),\n",
       "  CandidateEntry(doc_id='11563115', score=16.903972625732422),\n",
       "  CandidateEntry(doc_id='10428870', score=16.903972625732422),\n",
       "  CandidateEntry(doc_id='3703539', score=16.903972625732422),\n",
       "  CandidateEntry(doc_id='11494031', score=16.903972625732422),\n",
       "  CandidateEntry(doc_id='4593336', score=16.903972625732422),\n",
       "  CandidateEntry(doc_id='7339807', score=16.903972625732422),\n",
       "  CandidateEntry(doc_id='6958826', score=16.903972625732422),\n",
       "  CandidateEntry(doc_id='11986085', score=16.768892288208008),\n",
       "  CandidateEntry(doc_id='2385594', score=16.759552001953125),\n",
       "  CandidateEntry(doc_id='6360652', score=16.40524673461914),\n",
       "  CandidateEntry(doc_id='4906856', score=16.40524673461914),\n",
       "  CandidateEntry(doc_id='10623031', score=16.209218978881836),\n",
       "  CandidateEntry(doc_id='7554173', score=16.209218978881836),\n",
       "  CandidateEntry(doc_id='10124078', score=16.209218978881836),\n",
       "  CandidateEntry(doc_id='9458703', score=16.209218978881836),\n",
       "  CandidateEntry(doc_id='5260669', score=16.209218978881836),\n",
       "  CandidateEntry(doc_id='9388897', score=16.124649047851562),\n",
       "  CandidateEntry(doc_id='3080266', score=16.124649047851562),\n",
       "  CandidateEntry(doc_id='3493191', score=16.124649047851562),\n",
       "  CandidateEntry(doc_id='12553236', score=16.11461639404297),\n",
       "  CandidateEntry(doc_id='11256815', score=16.11461639404297),\n",
       "  CandidateEntry(doc_id='10134369', score=15.598333358764648),\n",
       "  CandidateEntry(doc_id='7056795', score=15.598333358764648),\n",
       "  CandidateEntry(doc_id='8774812', score=15.598333358764648),\n",
       "  CandidateEntry(doc_id='3108727', score=15.598333358764648),\n",
       "  CandidateEntry(doc_id='6419352', score=15.598333358764648),\n",
       "  CandidateEntry(doc_id='10161642', score=15.598333358764648),\n",
       "  CandidateEntry(doc_id='12278312', score=15.598333358764648),\n",
       "  CandidateEntry(doc_id='9728151', score=15.598333358764648),\n",
       "  CandidateEntry(doc_id='5691740', score=15.598333358764648),\n",
       "  CandidateEntry(doc_id='11622721', score=15.598333358764648),\n",
       "  CandidateEntry(doc_id='2977377', score=15.598333358764648),\n",
       "  CandidateEntry(doc_id='12785804', score=15.598333358764648),\n",
       "  CandidateEntry(doc_id='2453444', score=15.598333358764648),\n",
       "  CandidateEntry(doc_id='9662934', score=15.598333358764648),\n",
       "  CandidateEntry(doc_id='4235079', score=15.598333358764648),\n",
       "  CandidateEntry(doc_id='11986165', score=15.598333358764648),\n",
       "  CandidateEntry(doc_id='12699348', score=15.598333358764648),\n",
       "  CandidateEntry(doc_id='9045490', score=15.598333358764648),\n",
       "  CandidateEntry(doc_id='7391726', score=15.598333358764648),\n",
       "  CandidateEntry(doc_id='10016151', score=15.598333358764648),\n",
       "  CandidateEntry(doc_id='7193491', score=15.598333358764648),\n",
       "  CandidateEntry(doc_id='2350325', score=15.598333358764648),\n",
       "  CandidateEntry(doc_id='5671402', score=15.598333358764648),\n",
       "  CandidateEntry(doc_id='6628565', score=15.598333358764648),\n",
       "  CandidateEntry(doc_id='9913893', score=15.598333358764648),\n",
       "  CandidateEntry(doc_id='2283168', score=15.598333358764648),\n",
       "  CandidateEntry(doc_id='8765677', score=15.598333358764648),\n",
       "  CandidateEntry(doc_id='7055497', score=15.598333358764648),\n",
       "  CandidateEntry(doc_id='2393909', score=15.598333358764648),\n",
       "  CandidateEntry(doc_id='6053448', score=15.598333358764648),\n",
       "  CandidateEntry(doc_id='12560509', score=15.598333358764648),\n",
       "  CandidateEntry(doc_id='7289070', score=15.598333358764648),\n",
       "  CandidateEntry(doc_id='7991454', score=15.598333358764648),\n",
       "  CandidateEntry(doc_id='3696986', score=15.598333358764648),\n",
       "  CandidateEntry(doc_id='5080941', score=15.598333358764648),\n",
       "  CandidateEntry(doc_id='8406677', score=15.598333358764648),\n",
       "  CandidateEntry(doc_id='4301659', score=15.598333358764648),\n",
       "  CandidateEntry(doc_id='10058715', score=15.598333358764648),\n",
       "  CandidateEntry(doc_id='9626880', score=15.598333358764648),\n",
       "  CandidateEntry(doc_id='5517966', score=15.598333358764648),\n",
       "  CandidateEntry(doc_id='5348438', score=15.598333358764648),\n",
       "  CandidateEntry(doc_id='3302116', score=15.598333358764648),\n",
       "  CandidateEntry(doc_id='10110424', score=15.598333358764648),\n",
       "  CandidateEntry(doc_id='9274387', score=15.598333358764648),\n",
       "  CandidateEntry(doc_id='3372796', score=15.598333358764648),\n",
       "  CandidateEntry(doc_id='11760823', score=15.598333358764648),\n",
       "  CandidateEntry(doc_id='4688389', score=15.598333358764648),\n",
       "  CandidateEntry(doc_id='5651697', score=15.598333358764648),\n",
       "  CandidateEntry(doc_id='4943603', score=15.598333358764648),\n",
       "  CandidateEntry(doc_id='10545330', score=15.598333358764648),\n",
       "  CandidateEntry(doc_id='7405050', score=15.598333358764648),\n",
       "  CandidateEntry(doc_id='3853435', score=15.598333358764648),\n",
       "  CandidateEntry(doc_id='3937717', score=15.598333358764648),\n",
       "  CandidateEntry(doc_id='4097049', score=15.598333358764648),\n",
       "  CandidateEntry(doc_id='12715764', score=15.598333358764648),\n",
       "  CandidateEntry(doc_id='9104475', score=15.598333358764648),\n",
       "  CandidateEntry(doc_id='3493432', score=15.598333358764648),\n",
       "  CandidateEntry(doc_id='12683414', score=15.598333358764648),\n",
       "  CandidateEntry(doc_id='10210749', score=15.598333358764648),\n",
       "  CandidateEntry(doc_id='11404564', score=15.598333358764648),\n",
       "  CandidateEntry(doc_id='2636407', score=15.598333358764648),\n",
       "  CandidateEntry(doc_id='2552541', score=15.598333358764648),\n",
       "  CandidateEntry(doc_id='8874462', score=15.598333358764648),\n",
       "  CandidateEntry(doc_id='2464673', score=15.598333358764648),\n",
       "  CandidateEntry(doc_id='5510491', score=15.598333358764648),\n",
       "  CandidateEntry(doc_id='6165580', score=15.598333358764648),\n",
       "  CandidateEntry(doc_id='4427814', score=15.598333358764648),\n",
       "  CandidateEntry(doc_id='10937345', score=15.598333358764648),\n",
       "  CandidateEntry(doc_id='9038294', score=15.598333358764648)])"
      ]
     },
     "execution_count": 7,
     "metadata": {},
     "output_type": "execute_result"
    }
   ],
   "source": [
    "# example runs -->\n",
    "# orig_query = \"who published romeo and juliet\"\n",
    "\n",
    "# # An example of running a text query\n",
    "# query_res = run_text_query(cand_prov, 100, orig_query)\n",
    "# query_res"
   ]
  },
  {
   "cell_type": "code",
   "execution_count": null,
   "id": "3f19dcfe",
   "metadata": {},
   "outputs": [],
   "source": []
  }
 ],
 "metadata": {
  "kernelspec": {
   "display_name": "Python 3",
   "language": "python",
   "name": "python3"
  },
  "language_info": {
   "codemirror_mode": {
    "name": "ipython",
    "version": 3
   },
   "file_extension": ".py",
   "mimetype": "text/x-python",
   "name": "python",
   "nbconvert_exporter": "python",
   "pygments_lexer": "ipython3",
   "version": "3.6.15"
  }
 },
 "nbformat": 4,
 "nbformat_minor": 5
}
