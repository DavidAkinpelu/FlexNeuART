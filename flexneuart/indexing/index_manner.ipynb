{
 "cells": [
  {
   "cell_type": "markdown",
   "id": "d674ea0c",
   "metadata": {},
   "source": [
    "### Importing the library, configuring Java paths (CLASSPATH)"
   ]
  },
  {
   "cell_type": "code",
   "execution_count": 1,
   "id": "6b4dd944",
   "metadata": {},
   "outputs": [],
   "source": [
    "from flexneuart import configure_classpath\n",
    "\n",
    "configure_classpath()"
   ]
  },
  {
   "cell_type": "code",
   "execution_count": 2,
   "id": "cbcf2bfc",
   "metadata": {},
   "outputs": [],
   "source": [
    "from flexneuart.indexing import *"
   ]
  },
  {
   "cell_type": "markdown",
   "id": "5896a8c0",
   "metadata": {},
   "source": [
    "### Checking function that `discoveres` data and query file in a given sub-directory"
   ]
  },
  {
   "cell_type": "code",
   "execution_count": 3,
   "id": "78a97af4",
   "metadata": {},
   "outputs": [],
   "source": [
    "COLLECTION_DIR='/Users/leo/TextCollect/knn4qa/manner'"
   ]
  },
  {
   "cell_type": "code",
   "execution_count": 4,
   "id": "6b254b72",
   "metadata": {},
   "outputs": [
    {
     "name": "stdout",
     "output_type": "stream",
     "text": [
      "Checking sub-directory: dev1\n",
      "Found indexable data file: /Users/leo/TextCollect/knn4qa/manner/input_data/dev1/AnswerFields.jsonl.gz\n",
      "Checking sub-directory: test\n",
      "Found indexable data file: /Users/leo/TextCollect/knn4qa/manner/input_data/test/AnswerFields.jsonl.gz\n",
      "Checking sub-directory: bitext\n",
      "Found indexable data file: /Users/leo/TextCollect/knn4qa/manner/input_data/bitext/AnswerFields.jsonl.gz\n",
      "Checking sub-directory: dev2\n",
      "Found indexable data file: /Users/leo/TextCollect/knn4qa/manner/input_data/dev2/AnswerFields.jsonl.gz\n",
      "Checking sub-directory: train\n",
      "Found indexable data file: /Users/leo/TextCollect/knn4qa/manner/input_data/train/AnswerFields.jsonl.gz\n"
     ]
    },
    {
     "data": {
      "text/plain": [
       "{'index_subdirs': ['dev1', 'test', 'bitext', 'dev2', 'train'],\n",
       " 'query_subdirs': ['dev1', 'test', 'bitext', 'dev2', 'train'],\n",
       " 'data_file_name': 'AnswerFields.jsonl.gz'}"
      ]
     },
     "execution_count": 4,
     "metadata": {},
     "output_type": "execute_result"
    }
   ],
   "source": [
    "vars(get_index_query_data_dirs(f'{COLLECTION_DIR}/input_data'))"
   ]
  },
  {
   "cell_type": "markdown",
   "id": "930f3d34",
   "metadata": {},
   "source": [
    "### Create a simple Lucene index"
   ]
  },
  {
   "cell_type": "code",
   "execution_count": null,
   "id": "0fc5bc51",
   "metadata": {},
   "outputs": [],
   "source": [
    "create_lucene_index(input_data_dir=f'{COLLECTION_DIR}/input_data',\n",
    "                    output_dir_name=f'{COLLECTION_DIR}/lucene_index',\n",
    "                    index_field_name='text')"
   ]
  },
  {
   "cell_type": "markdown",
   "id": "347800d7",
   "metadata": {},
   "source": [
    "### Create forward indices"
   ]
  },
  {
   "cell_type": "markdown",
   "id": "71fe8142",
   "metadata": {},
   "source": [
    "#### storage backend types"
   ]
  },
  {
   "cell_type": "code",
   "execution_count": 5,
   "id": "27be0aaa",
   "metadata": {},
   "outputs": [
    {
     "data": {
      "text/plain": [
       "['mapdb', 'lucene']"
      ]
     },
     "execution_count": 5,
     "metadata": {},
     "output_type": "execute_result"
    }
   ],
   "source": [
    "STORE_TYPES"
   ]
  },
  {
   "cell_type": "markdown",
   "id": "cbf6f743",
   "metadata": {},
   "source": [
    "#### forward index types (`inmem` is for testing purposes only)"
   ]
  },
  {
   "cell_type": "code",
   "execution_count": 6,
   "id": "b5dc6ea8",
   "metadata": {},
   "outputs": [
    {
     "data": {
      "text/plain": [
       "['dataDict', 'offsetDict', 'inmem']"
      ]
     },
     "execution_count": 6,
     "metadata": {},
     "output_type": "execute_result"
    }
   ],
   "source": [
    "FORWARD_INDEX_TYPES"
   ]
  },
  {
   "cell_type": "markdown",
   "id": "771c0e0d",
   "metadata": {},
   "source": [
    "#### Types of data stored in the forward index (field types)"
   ]
  },
  {
   "cell_type": "code",
   "execution_count": 7,
   "id": "e0975ca3",
   "metadata": {},
   "outputs": [
    {
     "data": {
      "text/plain": [
       "['textRaw', 'binary', 'parsedText', 'parsedBOW']"
      ]
     },
     "execution_count": 7,
     "metadata": {},
     "output_type": "execute_result"
    }
   ],
   "source": [
    "FORWARD_INDEX_FIELD_TYPES"
   ]
  },
  {
   "cell_type": "markdown",
   "id": "7966c258",
   "metadata": {},
   "source": [
    "#### Here we create several indices for different input fields"
   ]
  },
  {
   "cell_type": "code",
   "execution_count": null,
   "id": "8b963b57",
   "metadata": {},
   "outputs": [],
   "source": [
    "index_field_names=['text',      'text_unlemm', 'text_bert_tok', 'text_raw']\n",
    "index_field_types=['parsedBOW', 'parsedText',  'parsedText',    'textRaw']\n",
    "\n",
    "for field_name, field_type in zip(index_field_names, index_field_types):\n",
    "    create_forward_index(input_data_dir=f'{COLLECTION_DIR}/input_data',\n",
    "                        output_dir_name=f'{COLLECTION_DIR}/forward_index',\n",
    "                        index_field_name=field_name,\n",
    "                        field_type=field_type,\n",
    "                        index_type=FORWARD_INDEX_TYPE_DATA_DICT)"
   ]
  },
  {
   "cell_type": "code",
   "execution_count": null,
   "id": "9761f34f",
   "metadata": {},
   "outputs": [],
   "source": []
  }
 ],
 "metadata": {
  "kernelspec": {
   "display_name": "Python 3 (ipykernel)",
   "language": "python",
   "name": "python3"
  },
  "language_info": {
   "codemirror_mode": {
    "name": "ipython",
    "version": 3
   },
   "file_extension": ".py",
   "mimetype": "text/x-python",
   "name": "python",
   "nbconvert_exporter": "python",
   "pygments_lexer": "ipython3",
   "version": "3.8.12"
  }
 },
 "nbformat": 4,
 "nbformat_minor": 5
}
