{
 "cells": [
  {
   "cell_type": "markdown",
   "metadata": {},
   "source": [
    "## Notes & pre-requisites"
   ]
  },
  {
   "cell_type": "markdown",
   "metadata": {},
   "source": [
    "This an **end-to-end** reproduction notebook that:\n",
    "1. Downloads & unpacks data\n",
    "2. Converts data to FlexNeuART JSONL format\n",
    "3. Creates indices & trains IBM Model 1 using GIZA\n",
    "4. The installation procedure is covered in a [separate notebook](https://github.com/oaqa/FlexNeuART/blob/master/INSTALL.md).\n",
    "5. It is best to use a mini-release:\n",
    "```\n",
    "git checkout tags/repr2020-12-06\n",
    "```\n",
    "6. The performance of **your fusion model may vary somewhat** (and be slightly different from what we got here), but we expect the difference to be small."
   ]
  },
  {
   "cell_type": "markdown",
   "metadata": {},
   "source": [
    "## Data download"
   ]
  },
  {
   "cell_type": "markdown",
   "metadata": {},
   "source": [
    "### Go to the root source directory"
   ]
  },
  {
   "cell_type": "code",
   "execution_count": null,
   "metadata": {},
   "outputs": [],
   "source": [
    "%cd ../../.."
   ]
  },
  {
   "cell_type": "markdown",
   "metadata": {},
   "source": [
    "### Create raw-data directory and download data:"
   ]
  },
  {
   "cell_type": "code",
   "execution_count": 2,
   "metadata": {},
   "outputs": [],
   "source": [
    "!mkdir -p collections/msmarco_doc/input_raw"
   ]
  },
  {
   "cell_type": "code",
   "execution_count": 3,
   "metadata": {},
   "outputs": [
    {
     "name": "stdout",
     "output_type": "stream",
     "text": [
      "Downloading https://msmarco.blob.core.windows.net/msmarcoranking/msmarco-docdev-qrels.tsv.gz\n",
      "--2020-12-09 15:09:49--  https://msmarco.blob.core.windows.net/msmarcoranking/msmarco-docdev-qrels.tsv.gz\n",
      "Resolving msmarco.blob.core.windows.net (msmarco.blob.core.windows.net)... 40.112.152.16\n",
      "Connecting to msmarco.blob.core.windows.net (msmarco.blob.core.windows.net)|40.112.152.16|:443... connected.\n",
      "HTTP request sent, awaiting response... 200 OK\n",
      "Length: 38553 (38K) [application/x-gzip]\n",
      "Saving to: ‘msmarco-docdev-qrels.tsv.gz’\n",
      "\n",
      "msmarco-docdev-qrel 100%[===================>]  37.65K  --.-KB/s    in 0.09s   \n",
      "\n",
      "2020-12-09 15:09:50 (409 KB/s) - ‘msmarco-docdev-qrels.tsv.gz’ saved [38553/38553]\n",
      "\n",
      "Downloading https://msmarco.blob.core.windows.net/msmarcoranking/msmarco-docs.tsv.gz\n",
      "--2020-12-09 15:09:50--  https://msmarco.blob.core.windows.net/msmarcoranking/msmarco-docs.tsv.gz\n",
      "Resolving msmarco.blob.core.windows.net (msmarco.blob.core.windows.net)... 40.112.152.16\n",
      "Connecting to msmarco.blob.core.windows.net (msmarco.blob.core.windows.net)|40.112.152.16|:443... connected.\n",
      "HTTP request sent, awaiting response... 200 OK\n",
      "Length: 8446274598 (7.9G) [application/x-gzip]\n",
      "Saving to: ‘msmarco-docs.tsv.gz’\n",
      "\n",
      "msmarco-docs.tsv.gz  54%[=========>          ]   4.25G  1.67MB/s    in 44m 2s  \n",
      "\n",
      "2020-12-09 16:08:52 (1.65 MB/s) - Read error at byte 4564516864/8446274598 (Success). Retrying.\n",
      "\n",
      "--2020-12-09 16:08:53--  (try: 2)  https://msmarco.blob.core.windows.net/msmarcoranking/msmarco-docs.tsv.gz\n",
      "Connecting to msmarco.blob.core.windows.net (msmarco.blob.core.windows.net)|40.112.152.16|:443... connected.\n",
      "HTTP request sent, awaiting response... 200 OK\n",
      "Length: 8446274598 (7.9G) [application/x-gzip]\n",
      "Saving to: ‘msmarco-docs.tsv.gz’\n",
      "\n",
      "msmarco-docs.tsv.gz  93%[=================>  ]   7.39G  1.64MB/s    in 76m 50s \n",
      "\n",
      "2020-12-09 17:40:44 (1.64 MB/s) - Read error at byte 7937556480/8446274598 (Success). Retrying.\n",
      "\n",
      "--2020-12-09 17:40:46--  (try: 3)  https://msmarco.blob.core.windows.net/msmarcoranking/msmarco-docs.tsv.gz\n",
      "Connecting to msmarco.blob.core.windows.net (msmarco.blob.core.windows.net)|40.112.152.16|:443... connected.\n",
      "HTTP request sent, awaiting response... 200 OK\n",
      "Length: 8446274598 (7.9G) [application/x-gzip]\n",
      "Saving to: ‘msmarco-docs.tsv.gz’\n",
      "\n",
      "msmarco-docs.tsv.gz 100%[===================>]   7.87G  1.70MB/s    in 81m 27s \n",
      "\n",
      "2020-12-09 19:02:14 (1.65 MB/s) - ‘msmarco-docs.tsv.gz’ saved [8446274598/8446274598]\n",
      "\n",
      "Downloading https://msmarco.blob.core.windows.net/msmarcoranking/msmarco-doctrain-queries.tsv.gz\n",
      "--2020-12-09 19:02:14--  https://msmarco.blob.core.windows.net/msmarcoranking/msmarco-doctrain-queries.tsv.gz\n",
      "Resolving msmarco.blob.core.windows.net (msmarco.blob.core.windows.net)... 40.112.152.16\n",
      "Connecting to msmarco.blob.core.windows.net (msmarco.blob.core.windows.net)|40.112.152.16|:443... connected.\n",
      "HTTP request sent, awaiting response... 200 OK\n",
      "Length: 6457962 (6.2M) [application/x-gzip]\n",
      "Saving to: ‘msmarco-doctrain-queries.tsv.gz’\n",
      "\n",
      "msmarco-doctrain-qu 100%[===================>]   6.16M  1.66MB/s    in 3.9s    \n",
      "\n",
      "2020-12-09 19:02:19 (1.59 MB/s) - ‘msmarco-doctrain-queries.tsv.gz’ saved [6457962/6457962]\n",
      "\n",
      "Downloading https://msmarco.blob.core.windows.net/msmarcoranking/msmarco-docdev-queries.tsv.gz\n",
      "--2020-12-09 19:02:19--  https://msmarco.blob.core.windows.net/msmarcoranking/msmarco-docdev-queries.tsv.gz\n",
      "Resolving msmarco.blob.core.windows.net (msmarco.blob.core.windows.net)... 40.112.152.16\n",
      "Connecting to msmarco.blob.core.windows.net (msmarco.blob.core.windows.net)|40.112.152.16|:443... connected.\n",
      "HTTP request sent, awaiting response... 200 OK\n",
      "Length: 91837 (90K) [application/x-gzip]\n",
      "Saving to: ‘msmarco-docdev-queries.tsv.gz’\n",
      "\n",
      "msmarco-docdev-quer 100%[===================>]  89.68K   491KB/s    in 0.2s    \n",
      "\n",
      "2020-12-09 19:02:19 (491 KB/s) - ‘msmarco-docdev-queries.tsv.gz’ saved [91837/91837]\n",
      "\n",
      "Downloading https://msmarco.blob.core.windows.net/msmarcoranking/msmarco-doctrain-qrels.tsv.gz\n",
      "--2020-12-09 19:02:19--  https://msmarco.blob.core.windows.net/msmarcoranking/msmarco-doctrain-qrels.tsv.gz\n",
      "Resolving msmarco.blob.core.windows.net (msmarco.blob.core.windows.net)... 40.112.152.16\n",
      "Connecting to msmarco.blob.core.windows.net (msmarco.blob.core.windows.net)|40.112.152.16|:443... connected.\n",
      "HTTP request sent, awaiting response... 200 OK\n",
      "Length: 2385717 (2.3M) [application/x-gzip]\n",
      "Saving to: ‘msmarco-doctrain-qrels.tsv.gz’\n",
      "\n",
      "msmarco-doctrain-qr 100%[===================>]   2.27M  1.50MB/s    in 1.5s    \n",
      "\n",
      "2020-12-09 19:02:21 (1.50 MB/s) - ‘msmarco-doctrain-qrels.tsv.gz’ saved [2385717/2385717]\n",
      "\n",
      "Downloading https://msmarco.blob.core.windows.net/msmarcoranking/msmarco-test2019-queries.tsv.gz\n",
      "--2020-12-09 19:02:21--  https://msmarco.blob.core.windows.net/msmarcoranking/msmarco-test2019-queries.tsv.gz\n",
      "Resolving msmarco.blob.core.windows.net (msmarco.blob.core.windows.net)... 40.112.152.16\n",
      "Connecting to msmarco.blob.core.windows.net (msmarco.blob.core.windows.net)|40.112.152.16|:443... connected.\n",
      "HTTP request sent, awaiting response... 200 OK\n",
      "Length: 4276 (4.2K) [application/x-gzip]\n",
      "Saving to: ‘msmarco-test2019-queries.tsv.gz’\n",
      "\n",
      "msmarco-test2019-qu 100%[===================>]   4.18K  --.-KB/s    in 0s      \n",
      "\n",
      "2020-12-09 19:02:22 (417 MB/s) - ‘msmarco-test2019-queries.tsv.gz’ saved [4276/4276]\n",
      "\n",
      "Downloading https://msmarco.blob.core.windows.net/msmarcoranking/msmarco-test2020-queries.tsv.gz\n",
      "--2020-12-09 19:02:22--  https://msmarco.blob.core.windows.net/msmarcoranking/msmarco-test2020-queries.tsv.gz\n",
      "Resolving msmarco.blob.core.windows.net (msmarco.blob.core.windows.net)... 40.112.152.16\n",
      "Connecting to msmarco.blob.core.windows.net (msmarco.blob.core.windows.net)|40.112.152.16|:443... connected.\n",
      "HTTP request sent, awaiting response... 200 OK\n",
      "Length: 4131 (4.0K) [application/x-gzip]\n",
      "Saving to: ‘msmarco-test2020-queries.tsv.gz’\n",
      "\n",
      "msmarco-test2020-qu 100%[===================>]   4.03K  --.-KB/s    in 0s      \n",
      "\n",
      "2020-12-09 19:02:22 (406 MB/s) - ‘msmarco-test2020-queries.tsv.gz’ saved [4131/4131]\n",
      "\n",
      "--2020-12-09 19:02:22--  https://trec.nist.gov/data/deep/2019qrels-docs.txt\n",
      "Resolving trec.nist.gov (trec.nist.gov)... 129.6.13.51, 2610:20:6b01:4::36\n",
      "Connecting to trec.nist.gov (trec.nist.gov)|129.6.13.51|:443... connected.\n",
      "HTTP request sent, awaiting response... 200 OK\n",
      "Length: 339438 (331K) [text/plain]\n",
      "Saving to: ‘2019qrels-docs.txt’\n",
      "\n",
      "2019qrels-docs.txt  100%[===================>] 331.48K  1.72MB/s    in 0.2s    \n",
      "\n",
      "2020-12-09 19:02:23 (1.72 MB/s) - ‘2019qrels-docs.txt’ saved [339438/339438]\n",
      "\n"
     ]
    }
   ],
   "source": [
    "!scripts/data_convert/msmarco/download_msmarco_doc.sh \\\n",
    "  collections/msmarco_doc/input_raw"
   ]
  },
  {
   "cell_type": "markdown",
   "metadata": {},
   "source": [
    "## Preprocessing"
   ]
  },
  {
   "cell_type": "markdown",
   "metadata": {},
   "source": [
    "### Create the directory to store pre-processed data and run the conversion:"
   ]
  },
  {
   "cell_type": "code",
   "execution_count": 4,
   "metadata": {},
   "outputs": [],
   "source": [
    "!mkdir -p collections/msmarco_doc/input_data "
   ]
  },
  {
   "cell_type": "code",
   "execution_count": null,
   "metadata": {},
   "outputs": [],
   "source": [
    "!scripts/data_convert/msmarco/convert_msmarco_doc.sh \\\n",
    "  collections/msmarco_doc/input_raw  \\\n",
    "  msmarco_doc"
   ]
  },
  {
   "cell_type": "markdown",
   "metadata": {},
   "source": [
    "### Split the training queries to carve-out a separate development and fusion sets"
   ]
  },
  {
   "cell_type": "code",
   "execution_count": 6,
   "metadata": {},
   "outputs": [],
   "source": [
    "!mv collections/msmarco_doc/input_data/dev/ collections/msmarco_doc/input_data/dev_official"
   ]
  },
  {
   "cell_type": "code",
   "execution_count": 12,
   "metadata": {},
   "outputs": [
    {
     "name": "stdout",
     "output_type": "stream",
     "text": [
      "Namespace(data_dir='collections/msmarco_doc/input_data', input_subdir='train', out_subdir1='train_fusion', out_subdir2='tmp', part1_fract=None, part1_qty=10000, seed=0)\n",
      "Read all the queries\n",
      "Read all the QRELs                                      \n",
      "# of QRELs with query IDs not present in any part 0\n",
      "The first part will have 10000 documents\n",
      "Part train_fusion # of queries: 10000 # of QRELs: 10000\n",
      "Part tmp # of queries: 357013 # of QRELs: 357013\n"
     ]
    }
   ],
   "source": [
    "!scripts/data_convert/split_queries.sh msmarco_doc train train_fusion tmp -part1_qty 10000"
   ]
  },
  {
   "cell_type": "code",
   "execution_count": 13,
   "metadata": {},
   "outputs": [
    {
     "name": "stdout",
     "output_type": "stream",
     "text": [
      "Namespace(data_dir='collections/msmarco_doc/input_data', input_subdir='train', out_subdir1='train_fusion', out_subdir2='tmp')\n",
      "Read all the queries from the main dir\n",
      "Read all the QRELs from the main dir                    \n",
      "Part train_fusion # of queries # 10000 of queries with at least one QREL: 10000\n",
      "Part tmp # of queries # 357013 of queries with at least one QREL: 357013\n",
      "# of queries in the original folder: 367013 # of queries in split folders: 367013 # of queries in the symmetric diff. 0\n",
      "Check is successful!\n"
     ]
    }
   ],
   "source": [
    "!scripts/check_utils/check_split_queries.sh     msmarco_doc train train_fusion tmp"
   ]
  },
  {
   "cell_type": "code",
   "execution_count": 14,
   "metadata": {},
   "outputs": [
    {
     "name": "stdout",
     "output_type": "stream",
     "text": [
      "Namespace(data_dir='collections/msmarco_doc/input_data', input_subdir='tmp', out_subdir1='dev', out_subdir2='bitext', part1_fract=None, part1_qty=5000, seed=0)\n",
      "Read all the queries\n",
      "Read all the QRELs                                      \n",
      "# of QRELs with query IDs not present in any part 0\n",
      "The first part will have 5000 documents\n",
      "Part dev # of queries: 5000 # of QRELs: 5000\n",
      "Part bitext # of queries: 352013 # of QRELs: 352013\n"
     ]
    }
   ],
   "source": [
    "!scripts/data_convert/split_queries.sh msmarco_doc tmp dev bitext -part1_qty 5000"
   ]
  },
  {
   "cell_type": "code",
   "execution_count": 15,
   "metadata": {},
   "outputs": [
    {
     "name": "stdout",
     "output_type": "stream",
     "text": [
      "Namespace(data_dir='collections/msmarco_doc/input_data', input_subdir='tmp', out_subdir1='dev', out_subdir2='bitext')\n",
      "Read all the queries from the main dir\n",
      "Read all the QRELs from the main dir                    \n",
      "Part dev # of queries # 5000 of queries with at least one QREL: 5000\n",
      "Part bitext # of queries # 352013 of queries with at least one QREL: 352013\n",
      "# of queries in the original folder: 357013 # of queries in split folders: 357013 # of queries in the symmetric diff. 0\n",
      "Check is successful!\n"
     ]
    }
   ],
   "source": [
    "!scripts/check_utils/check_split_queries.sh     msmarco_doc tmp dev bitext"
   ]
  },
  {
   "cell_type": "code",
   "execution_count": 16,
   "metadata": {},
   "outputs": [],
   "source": [
    "!rm -rf collections/msmarco_doc/input_data/tmp/"
   ]
  },
  {
   "cell_type": "code",
   "execution_count": 19,
   "metadata": {},
   "outputs": [],
   "source": [
    "!rm -rf collections/msmarco_doc/input_data/train/"
   ]
  },
  {
   "cell_type": "markdown",
   "metadata": {},
   "source": [
    "## Sanity check: dataset statistics"
   ]
  },
  {
   "cell_type": "code",
   "execution_count": 20,
   "metadata": {},
   "outputs": [
    {
     "name": "stdout",
     "output_type": "stream",
     "text": [
      "Checking data sub-directory: bitext\n",
      "Checking data sub-directory: dev\n",
      "Checking data sub-directory: dev_official\n",
      "Checking data sub-directory: docs\n",
      "Found indexable data file: docs/AnswerFields.jsonl.gz\n",
      "Checking data sub-directory: test2019\n",
      "Checking data sub-directory: test2020\n",
      "Checking data sub-directory: train_fusion\n",
      "Found query file: bitext/QuestionFields.jsonl\n",
      "Found query file: dev/QuestionFields.jsonl\n",
      "Found query file: dev_official/QuestionFields.jsonl\n",
      "Found query file: test2019/QuestionFields.jsonl\n",
      "Found query file: test2020/QuestionFields.jsonl\n",
      "Found query file: train_fusion/QuestionFields.jsonl\n",
      "getIndexQueryDataInfo return value:  docs AnswerFields.jsonl.gz ,bitext,dev,dev_official,test2019,test2020,train_fusion QuestionFields.jsonl\n",
      "Using the data input files: AnswerFields.jsonl.gz, QuestionFields.jsonl\n",
      "Index dirs: docs\n",
      "Query dirs:  bitext dev dev_official test2019 test2020 train_fusion\n",
      "Queries/questions:\n",
      "bitext 352013\n",
      "dev 5000\n",
      "dev_official 5193\n",
      "test2019 200\n",
      "test2020 200\n",
      "train_fusion 10000\n",
      "Documents/passages/answers:\n",
      "docs 45175731\n"
     ]
    }
   ],
   "source": [
    "!scripts/report/get_basic_collect_stat.sh msmarco_doc"
   ]
  },
  {
   "cell_type": "markdown",
   "metadata": {},
   "source": [
    "## Indexing"
   ]
  },
  {
   "cell_type": "markdown",
   "metadata": {},
   "source": [
    "### Lucene index"
   ]
  },
  {
   "cell_type": "code",
   "execution_count": null,
   "metadata": {},
   "outputs": [],
   "source": [
    "!scripts/index/create_lucene_index.sh msmarco_doc"
   ]
  },
  {
   "cell_type": "markdown",
   "metadata": {},
   "source": [
    "### Forward indices (text_raw is not really necessary for this notebook)"
   ]
  },
  {
   "cell_type": "code",
   "execution_count": null,
   "metadata": {},
   "outputs": [],
   "source": [
    "!field_def=\"title_unlemm:parsedText url_unlemm:parsedText \\\n",
    "            text:parsedText body:parsedText \\\n",
    "            text_bert_tok:parsedText \\\n",
    "            text_raw:raw\"   ;\\\n",
    "scripts/index/create_fwd_index.sh msmarco_doc mapdb \"$field_def\"\n"
   ]
  },
  {
   "cell_type": "markdown",
   "metadata": {},
   "source": [
    "## Training Model 1"
   ]
  },
  {
   "cell_type": "markdown",
   "metadata": {},
   "source": [
    "## Generating parallel corpora (bitext) for fields: title_unlemm, url_unlemm, body, text_bert_tok"
   ]
  },
  {
   "cell_type": "markdown",
   "metadata": {},
   "source": [
    "### Note that bitext is generated for a pair of (index) and (query) fields. Query fields may be different, but they should have a similar tokenization/lemmatization approach!"
   ]
  },
  {
   "cell_type": "code",
   "execution_count": null,
   "metadata": {},
   "outputs": [],
   "source": [
    "!scripts/giza/export_bitext_plain.sh msmarco_doc title_unlemm text_unlemm 1.5"
   ]
  },
  {
   "cell_type": "code",
   "execution_count": null,
   "metadata": {},
   "outputs": [],
   "source": [
    "!scripts/giza/export_bitext_plain.sh msmarco_doc url_unlemm text_unlemm 1.5"
   ]
  },
  {
   "cell_type": "code",
   "execution_count": null,
   "metadata": {},
   "outputs": [],
   "source": [
    "!scripts/giza/export_bitext_plain.sh msmarco_doc body text_unlemm 1.5"
   ]
  },
  {
   "cell_type": "code",
   "execution_count": null,
   "metadata": {},
   "outputs": [],
   "source": [
    "!scripts/giza/export_bitext_plain.sh msmarco_doc text_bert_tok text_bert_tok 1.5"
   ]
  },
  {
   "cell_type": "markdown",
   "metadata": {},
   "source": [
    "### Training Model 1 (using MGIZA) for fields title_unlemm, url_unlemm, body, text_bert_tok"
   ]
  },
  {
   "cell_type": "code",
   "execution_count": null,
   "metadata": {},
   "outputs": [],
   "source": [
    "!time scripts/giza/create_tran.sh msmarco_doc title_unlemm"
   ]
  },
  {
   "cell_type": "code",
   "execution_count": null,
   "metadata": {},
   "outputs": [],
   "source": [
    "!time scripts/giza/create_tran.sh msmarco_doc url_unlemm"
   ]
  },
  {
   "cell_type": "code",
   "execution_count": null,
   "metadata": {},
   "outputs": [],
   "source": [
    "!time scripts/giza/create_tran.sh msmarco_doc body"
   ]
  },
  {
   "cell_type": "code",
   "execution_count": null,
   "metadata": {},
   "outputs": [],
   "source": [
    "!time scripts/giza/create_tran.sh msmarco_doc text_bert_tok"
   ]
  },
  {
   "cell_type": "markdown",
   "metadata": {},
   "source": [
    "### Output train/test perplexity (sanity check)"
   ]
  },
  {
   "cell_type": "code",
   "execution_count": 34,
   "metadata": {},
   "outputs": [
    {
     "name": "stdout",
     "output_type": "stream",
     "text": [
      "#trnsz\ttstsz\titer\tmodel\ttrn-pp\t\ttest-pp\t\ttrn-vit-pp\t\ttst-vit-pp\r\n",
      "779240\t0\t0\tModel1\t261200\t\tN/A\t\t1.06565e+06\t\tN/A\r\n",
      "779240\t0\t1\tModel1\t115.107\t\tN/A\t\t159.934\t\tN/A\r\n",
      "779240\t0\t2\tModel1\t73.5553\t\tN/A\t\t91.3005\t\tN/A\r\n",
      "779240\t0\t3\tModel1\t68.0878\t\tN/A\t\t80.6573\t\tN/A\r\n",
      "779240\t0\t4\tModel1\t66.5902\t\tN/A\t\t77.0477\t\tN/A\r\n"
     ]
    }
   ],
   "source": [
    "!cat /hdd2/BOL1PI/msrepro/FlexNeuART/collections/msmarco_doc/derived_data/giza/title_unlemm.orig/output.perp "
   ]
  },
  {
   "cell_type": "code",
   "execution_count": 35,
   "metadata": {},
   "outputs": [
    {
     "name": "stdout",
     "output_type": "stream",
     "text": [
      "#trnsz\ttstsz\titer\tmodel\ttrn-pp\t\ttest-pp\t\ttrn-vit-pp\t\ttst-vit-pp\r\n",
      "1378916\t0\t0\tModel1\t576745\t\tN/A\t\t2.50217e+06\t\tN/A\r\n",
      "1378916\t0\t1\tModel1\t195.208\t\tN/A\t\t303.526\t\tN/A\r\n",
      "1378916\t0\t2\tModel1\t135.157\t\tN/A\t\t187.91\t\tN/A\r\n",
      "1378916\t0\t3\tModel1\t124.333\t\tN/A\t\t160.974\t\tN/A\r\n",
      "1378916\t0\t4\tModel1\t120.828\t\tN/A\t\t150.774\t\tN/A\r\n"
     ]
    }
   ],
   "source": [
    "!cat /hdd2/BOL1PI/msrepro/FlexNeuART/collections/msmarco_doc/derived_data/giza/url_unlemm.orig/output.perp "
   ]
  },
  {
   "cell_type": "code",
   "execution_count": 36,
   "metadata": {},
   "outputs": [
    {
     "name": "stdout",
     "output_type": "stream",
     "text": [
      "#trnsz\ttstsz\titer\tmodel\ttrn-pp\t\ttest-pp\t\ttrn-vit-pp\t\ttst-vit-pp\r\n",
      "86566782\t0\t0\tModel1\t5.45427e+06\t\tN/A\t\t2.49975e+07\t\tN/A\r\n",
      "86566782\t0\t1\tModel1\t2566.44\t\tN/A\t\t4654.73\t\tN/A\r\n",
      "86566782\t0\t2\tModel1\t2003.74\t\tN/A\t\t3260.64\t\tN/A\r\n",
      "86566782\t0\t3\tModel1\t1890.31\t\tN/A\t\t2886.05\t\tN/A\r\n",
      "86566782\t0\t4\tModel1\t1848.82\t\tN/A\t\t2719.57\t\tN/A\r\n"
     ]
    }
   ],
   "source": [
    "!cat /hdd2/BOL1PI/msrepro/FlexNeuART/collections/msmarco_doc/derived_data/giza/body.orig/output.perp "
   ]
  },
  {
   "cell_type": "code",
   "execution_count": 37,
   "metadata": {},
   "outputs": [
    {
     "name": "stdout",
     "output_type": "stream",
     "text": [
      "#trnsz\ttstsz\titer\tmodel\ttrn-pp\t\ttest-pp\t\ttrn-vit-pp\t\ttst-vit-pp\r\n",
      "98617546\t0\t0\tModel1\t60743.3\t\tN/A\t\tinf\t\tN/A\r\n",
      "98617546\t0\t1\tModel1\t1422.96\t\tN/A\t\t6025.25\t\tN/A\r\n",
      "98617546\t0\t2\tModel1\t1160.37\t\tN/A\t\t3929.42\t\tN/A\r\n",
      "98617546\t0\t3\tModel1\t1096.46\t\tN/A\t\t3276.15\t\tN/A\r\n",
      "98617546\t0\t4\tModel1\t1069.87\t\tN/A\t\t2959.66\t\tN/A\r\n"
     ]
    }
   ],
   "source": [
    "!cat /hdd2/BOL1PI/msrepro/FlexNeuART/collections/msmarco_doc/derived_data/giza/text_bert_tok.orig/output.perp "
   ]
  },
  {
   "cell_type": "markdown",
   "metadata": {},
   "source": [
    "### Convert MGIZA output to our format and filter out lower-frequency entries"
   ]
  },
  {
   "cell_type": "code",
   "execution_count": null,
   "metadata": {},
   "outputs": [],
   "source": [
    "!col=msmarco_doc ; \\\n",
    " min_prob=0.001 ; \\\n",
    " max_word_qty=1000000 ; \\\n",
    "for field in title_unlemm url_unlemm body text_bert_tok ; do \\\n",
    "  scripts/giza/filter_tran_table_and_voc.sh $col $field $min_prob $max_word_qty ; \\\n",
    "  if [ \"$?\" != \"0\" ] ; then echo \"Failure for field: $field!!!\" ; break ; fi \\\n",
    "done ; \\\n",
    "echo \"All is done!\""
   ]
  },
  {
   "cell_type": "markdown",
   "metadata": {},
   "source": [
    "## Run experiments"
   ]
  },
  {
   "cell_type": "markdown",
   "metadata": {},
   "source": [
    "### Optionally warm up the indices"
   ]
  },
  {
   "cell_type": "code",
   "execution_count": null,
   "metadata": {},
   "outputs": [],
   "source": [
    "!scripts/exper/warmup_indices.sh msmarco_doc"
   ]
  },
  {
   "cell_type": "markdown",
   "metadata": {},
   "source": [
    "### Copying experimental descriptors from the github repo to the respective collection sub-folder"
   ]
  },
  {
   "cell_type": "code",
   "execution_count": 64,
   "metadata": {},
   "outputs": [],
   "source": [
    "!cp -r scripts/data_convert/msmarco/exper_desc.lb2020-12-04/ collections/msmarco_doc"
   ]
  },
  {
   "cell_type": "markdown",
   "metadata": {},
   "source": [
    "### Baseline: BM25 run on the \"official\" development set"
   ]
  },
  {
   "cell_type": "code",
   "execution_count": null,
   "metadata": {},
   "outputs": [],
   "source": [
    "!scripts/exper/run_experiments.sh   \\\n",
    "   msmarco_doc  \\\n",
    "   exper_desc.lb2020-12-04/bm25_test.json  \\\n",
    "   -test_part dev_official \\\n",
    "   -no_separate_shell   \\\n",
    "   -metric_type RR@100 \\\n",
    "   -test_cand_qty_list 100,1000"
   ]
  },
  {
   "cell_type": "markdown",
   "metadata": {},
   "source": [
    "### In the end this script should output:"
   ]
  },
  {
   "cell_type": "markdown",
   "metadata": {},
   "source": [
    "```\n",
    "================================================================================\n",
    "N=100\n",
    "================================================================================\n",
    "# of queries:    5193\n",
    "NDCG@10:        0.313800\n",
    "NDCG@20:        0.339600\n",
    "NDCG@100:       0.372600\n",
    "ERR@20:         0.016410\n",
    "P20:            0.030200\n",
    "MAP:            0.267100\n",
    "MRR:            0.267100\n",
    "Recall:         0.781822\n",
    "GDEVAL NDCG@20: 0.339560\n",
    "```"
   ]
  },
  {
   "cell_type": "markdown",
   "metadata": {},
   "source": [
    "### Train the LAMBDAMART model using train_fusion and test it on dev_official"
   ]
  },
  {
   "cell_type": "code",
   "execution_count": null,
   "metadata": {},
   "outputs": [],
   "source": [
    "!scripts/exper/run_experiments.sh   \\\n",
    "   msmarco_doc  \\\n",
    "   exper_desc.lb2020-12-04/best_classic_ir_expand_full_lmart_train.json  \\\n",
    "   -train_part train_fusion \\\n",
    "   -test_part dev_official \\\n",
    "   -no_separate_shell   \\\n",
    "   -metric_type RR@100 \\\n",
    "   -test_cand_qty_list 100,1000"
   ]
  },
  {
   "cell_type": "markdown",
   "metadata": {},
   "source": [
    "### In the end this script should output:"
   ]
  },
  {
   "cell_type": "markdown",
   "metadata": {},
   "source": [
    "```\n",
    "================================================================================\n",
    "N=100\n",
    "================================================================================\n",
    "# of queries:    5193\n",
    "NDCG@10:        0.396600\n",
    "NDCG@20:        0.421000\n",
    "NDCG@100:       0.447700\n",
    "ERR@20:         0.020940\n",
    "P20:            0.035600\n",
    "MAP:            0.338900\n",
    "MRR:            0.338900\n",
    "Recall:         0.851916\n",
    "GDEVAL NDCG@20: 0.421030\n",
    "```"
   ]
  },
  {
   "cell_type": "markdown",
   "metadata": {},
   "source": [
    "### Location of logs, trained models, and TREC-style runs"
   ]
  },
  {
   "cell_type": "code",
   "execution_count": 74,
   "metadata": {},
   "outputs": [
    {
     "name": "stdout",
     "output_type": "stream",
     "text": [
      "exper.log  letor  rep  trec_runs\r\n"
     ]
    }
   ],
   "source": [
    "!ls collections/msmarco_doc/results/dev_official/feat_exper/best_classic_ir_full_lmart_expand"
   ]
  },
  {
   "cell_type": "markdown",
   "metadata": {},
   "source": [
    "### Copy the trained model to the location specified in the descriptors and test it on TREC NIST 2019 data."
   ]
  },
  {
   "cell_type": "code",
   "execution_count": 67,
   "metadata": {},
   "outputs": [],
   "source": [
    "!cp collections/msmarco_doc/results/dev_official/feat_exper/best_classic_ir_full_lmart_expand/letor/out_msmarco_doc_train_fusion_20.model collections/msmarco_doc/exper_desc.lb2020-12-04/models/lmart.model"
   ]
  },
  {
   "cell_type": "code",
   "execution_count": null,
   "metadata": {},
   "outputs": [],
   "source": [
    "!scripts/exper/run_experiments.sh   \\\n",
    "   msmarco_doc  \\\n",
    "   exper_desc.lb2020-12-04/best_classic_ir_expand_full_lmart_test.json  \\\n",
    "   -test_part test2019 \\\n",
    "   -no_separate_shell   \\\n",
    "   -metric_type RR@100 \\\n",
    "   -test_cand_qty_list 100,1000"
   ]
  },
  {
   "cell_type": "markdown",
   "metadata": {},
   "source": [
    "### In the end the script should output:"
   ]
  },
  {
   "cell_type": "markdown",
   "metadata": {},
   "source": [
    "```\n",
    "================================================================================\n",
    "N=100\n",
    "================================================================================\n",
    "# of queries:    43\n",
    "NDCG@10:        0.589900\n",
    "NDCG@20:        0.561800\n",
    "NDCG@100:       0.544500\n",
    "ERR@20:         0.394260\n",
    "P20:            0.577900\n",
    "MAP:            0.262600\n",
    "MRR:            0.888400\n",
    "Recall:         0.219494\n",
    "GDEVAL NDCG@20: 0.520620\n",
    "```"
   ]
  },
  {
   "cell_type": "code",
   "execution_count": null,
   "metadata": {},
   "outputs": [],
   "source": []
  }
 ],
 "metadata": {
  "kernelspec": {
   "display_name": "Python 3",
   "language": "python",
   "name": "python3"
  },
  "language_info": {
   "codemirror_mode": {
    "name": "ipython",
    "version": 3
   },
   "file_extension": ".py",
   "mimetype": "text/x-python",
   "name": "python",
   "nbconvert_exporter": "python",
   "pygments_lexer": "ipython3",
   "version": "3.6.12"
  }
 },
 "nbformat": 4,
 "nbformat_minor": 4
}
