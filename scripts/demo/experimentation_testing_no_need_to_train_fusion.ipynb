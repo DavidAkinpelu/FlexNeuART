{
 "cells": [
  {
   "cell_type": "markdown",
   "metadata": {},
   "source": [
    "# Experimentation: Testing models that do not require training a fusion model (no learning to rank)"
   ]
  },
  {
   "cell_type": "markdown",
   "metadata": {},
   "source": [
    "### First we need to move to the top-level directory ..."
   ]
  },
  {
   "cell_type": "code",
   "execution_count": null,
   "metadata": {},
   "outputs": [],
   "source": [
    "cd ../.."
   ]
  },
  {
   "cell_type": "markdown",
   "metadata": {},
   "source": [
    "## Testing BM25\n",
    "We use optimal BM25 parameters obtained during tuning:"
   ]
  },
  {
   "cell_type": "code",
   "execution_count": 2,
   "metadata": {},
   "outputs": [
    {
     "name": "stdout",
     "output_type": "stream",
     "text": [
      "Using collection root: collections\n",
      "The number of CPU cores:      8\n",
      "The number of || experiments: 1\n",
      "The number of threads:        8\n",
      "================================================================================\n",
      "Experiment descriptor file:                                 collections/wikipedia_dpr_nq_sample/exper_desc.best/bm25.json\n",
      "Default test set:                                           dev\n",
      "Number of parallel experiments:                             1\n",
      "Number of threads in feature extractors/query applications: 8\n",
      "================================================================================\n",
      "Parsed experiment parameters:\n",
      "experSubdir:final_exper/bm25\n",
      "candProvAddConfParam:exper_desc.best/lucene.json\n",
      "extrType:exper_desc.best/extractors/bm25.json\n",
      "modelFinal:exper_desc.best/models/one_feat.model\n",
      "testOnly:1\n",
      "========================================\n",
      "Experimental directory already exists (ignoring): collections/wikipedia_dpr_nq_sample/results/dev/final_exper/bm25\n",
      "Waiting for 0 child processes\n",
      "================================================================================\n",
      "0 experiments executed\n",
      "0 experiments failed\n",
      "================================================================================\n"
     ]
    }
   ],
   "source": [
    "!scripts/exper/run_experiments.sh \\\n",
    "  wikipedia_dpr_nq_sample \\\n",
    "  exper_desc.best/bm25.json \\\n",
    "  -test_part dev"
   ]
  },
  {
   "cell_type": "markdown",
   "metadata": {},
   "source": [
    "All the results are available in the directory `collections/wikipedia_dpr_nq_sample/results/dev/final_exper/bm25`. \n",
    "\n",
    "The following is a summary report (top-100):"
   ]
  },
  {
   "cell_type": "code",
   "execution_count": 3,
   "metadata": {},
   "outputs": [
    {
     "name": "stdout",
     "output_type": "stream",
     "text": [
      "# of queries:    2500\r\n",
      "NDCG@10:  0.400400\r\n",
      "NDCG@20:  0.433900\r\n",
      "NDCG@100: 0.507400\r\n",
      "P20:      0.164800\r\n",
      "MAP:      0.346200\r\n",
      "MRR:      0.487300\r\n",
      "Recall:   0.817879\r\n"
     ]
    }
   ],
   "source": [
    "!cat collections/wikipedia_dpr_nq_sample/results/dev/final_exper/bm25/rep/out_100.rep"
   ]
  },
  {
   "cell_type": "markdown",
   "metadata": {},
   "source": [
    "## Testing dense retrieval (ANCE) in the re-ranking mode"
   ]
  },
  {
   "cell_type": "code",
   "execution_count": 4,
   "metadata": {},
   "outputs": [
    {
     "name": "stdout",
     "output_type": "stream",
     "text": [
      "Using collection root: collections\n",
      "The number of CPU cores:      8\n",
      "The number of || experiments: 1\n",
      "The number of threads:        8\n",
      "================================================================================\n",
      "Experiment descriptor file:                                 collections/wikipedia_dpr_nq_sample/exper_desc.best/ance.json\n",
      "Default test set:                                           dev\n",
      "Number of parallel experiments:                             1\n",
      "Number of threads in feature extractors/query applications: 8\n",
      "================================================================================\n",
      "Parsed experiment parameters:\n",
      "experSubdir:final_exper/ance\n",
      "candProvAddConfParam:exper_desc.best/lucene.json\n",
      "extrType:exper_desc.best/extractors/ance.json\n",
      "modelFinal:exper_desc.best/models/one_feat.model\n",
      "testOnly:1\n",
      "========================================\n",
      "Experimental directory already exists (ignoring): collections/wikipedia_dpr_nq_sample/results/dev/final_exper/ance\n",
      "Waiting for 0 child processes\n",
      "================================================================================\n",
      "0 experiments executed\n",
      "0 experiments failed\n",
      "================================================================================\n"
     ]
    }
   ],
   "source": [
    "!scripts/exper/run_experiments.sh \\\n",
    "  wikipedia_dpr_nq_sample \\\n",
    "  exper_desc.best/ance.json \\\n",
    "  -test_part dev"
   ]
  },
  {
   "cell_type": "markdown",
   "metadata": {},
   "source": [
    "To-100 report:"
   ]
  },
  {
   "cell_type": "code",
   "execution_count": 5,
   "metadata": {},
   "outputs": [
    {
     "name": "stdout",
     "output_type": "stream",
     "text": [
      "# of queries:    2500\r\n",
      "NDCG@10:  0.649200\r\n",
      "NDCG@20:  0.651800\r\n",
      "NDCG@100: 0.692400\r\n",
      "P20:      0.152300\r\n",
      "MAP:      0.555200\r\n",
      "MRR:      0.865100\r\n",
      "Recall:   0.639348\r\n"
     ]
    }
   ],
   "source": [
    "!cat collections/wikipedia_dpr_nq_sample/results/dev/final_exper/ance/rep/out_100.rep"
   ]
  },
  {
   "cell_type": "markdown",
   "metadata": {},
   "source": [
    "## Testing dense retrieval (averaged glove embeddings) in the re-ranking mode"
   ]
  },
  {
   "cell_type": "code",
   "execution_count": 7,
   "metadata": {},
   "outputs": [
    {
     "name": "stdout",
     "output_type": "stream",
     "text": [
      "Using collection root: collections\n",
      "The number of CPU cores:      8\n",
      "The number of || experiments: 1\n",
      "The number of threads:        8\n",
      "================================================================================\n",
      "Experiment descriptor file:                                 collections/wikipedia_dpr_nq_sample/exper_desc.best/avgembed.json\n",
      "Default test set:                                           dev\n",
      "Number of parallel experiments:                             1\n",
      "Number of threads in feature extractors/query applications: 8\n",
      "================================================================================\n",
      "Parsed experiment parameters:\n",
      "experSubdir:final_exper/avgembed\n",
      "candProvAddConfParam:exper_desc.best/lucene.json\n",
      "extrType:exper_desc.best/extractors/avgembed.json\n",
      "modelFinal:exper_desc.best/models/one_feat.model\n",
      "testOnly:1\n",
      "========================================\n",
      "Started a process 4502, working dir: collections/wikipedia_dpr_nq_sample/results/dev/final_exper/avgembed\n",
      "Process log file: collections/wikipedia_dpr_nq_sample/results/dev/final_exper/avgembed/exper.log\n",
      "Waiting for 1 child processes\n",
      "Process with pid=4502 finished successfully.\n",
      "Waiting for 0 child processes\n",
      "================================================================================\n",
      "1 experiments executed\n",
      "0 experiments failed\n",
      "================================================================================\n"
     ]
    }
   ],
   "source": [
    "!scripts/exper/run_experiments.sh \\\n",
    "  wikipedia_dpr_nq_sample \\\n",
    "  exper_desc.best/avgembed.json \\\n",
    "  -test_part dev"
   ]
  },
  {
   "cell_type": "markdown",
   "metadata": {},
   "source": [
    "To-100 report:"
   ]
  },
  {
   "cell_type": "code",
   "execution_count": 9,
   "metadata": {},
   "outputs": [
    {
     "name": "stdout",
     "output_type": "stream",
     "text": [
      "# of queries:    2500\r\n",
      "NDCG@10:  0.144400\r\n",
      "NDCG@20:  0.157400\r\n",
      "NDCG@100: 0.216500\r\n",
      "P20:      0.067500\r\n",
      "MAP:      0.101900\r\n",
      "MRR:      0.225200\r\n",
      "Recall:   0.419530\r\n"
     ]
    }
   ],
   "source": [
    "!cat collections/wikipedia_dpr_nq_sample/results/dev/final_exper/avgembed/rep/out_100.rep"
   ]
  },
  {
   "cell_type": "markdown",
   "metadata": {},
   "source": [
    "## Testing a BERT ranking model\n",
    "One needs to start a query server that binds to the port 8080 as shown below. This needs to be done in __a separate terminal__, because notebooks do not support background processes. Please, note we have to specify __the same maximum query and document lengths__ as during the training process."
   ]
  },
  {
   "cell_type": "markdown",
   "metadata": {},
   "source": [
    "```\n",
    "scripts/py_featextr_server/cedr_server.py  \\\n",
    "   --init_model collections/wikipedia_dpr_nq_sample/derived_data/ir_models/vanilla_bert/model.best \\\n",
    "   --max_query_len 64 \\\n",
    "   --max_doc_len 445 \\\n",
    "   --port 8080\n",
    "```\n",
    "\n",
    "Note that we ask to re-rank only 50 candidates. The ranking of candidates below 50th position will not change."
   ]
  },
  {
   "cell_type": "code",
   "execution_count": 8,
   "metadata": {},
   "outputs": [
    {
     "name": "stdout",
     "output_type": "stream",
     "text": [
      "Using collection root: collections\n",
      "The number of CPU cores:      8\n",
      "The number of || experiments: 1\n",
      "The number of threads:        2\n",
      "================================================================================\n",
      "Experiment descriptor file:                                 collections/wikipedia_dpr_nq_sample/exper_desc.best/cedr8080.json\n",
      "Default test set:                                           dev\n",
      "Number of parallel experiments:                             1\n",
      "Number of threads in feature extractors/query applications: 2\n",
      "================================================================================\n",
      "Parsed experiment parameters:\n",
      "experSubdir:final_exper/cedr8080\n",
      "extrType:exper_desc.best/extractors/cedr8080.json\n",
      "modelFinal:exper_desc.best/models/one_feat.model\n",
      "testOnly:1\n",
      "========================================\n",
      "Started a process 10654, working dir: collections/wikipedia_dpr_nq_sample/results/dev/final_exper/cedr8080\n",
      "Process log file: collections/wikipedia_dpr_nq_sample/results/dev/final_exper/cedr8080/exper.log\n",
      "Waiting for 1 child processes\n",
      "Process with pid=10654 finished successfully.\n",
      "Waiting for 0 child processes\n",
      "================================================================================\n",
      "1 experiments executed\n",
      "0 experiments failed\n",
      "================================================================================\n"
     ]
    }
   ],
   "source": [
    "!scripts/exper/run_experiments.sh \\\n",
    "  wikipedia_dpr_nq_sample \\\n",
    "  exper_desc.best/cedr8080.json \\\n",
    "  -thread_qty 2 \\\n",
    "  -max_final_rerank_qty 50 \\\n",
    "  -test_part dev"
   ]
  },
  {
   "cell_type": "markdown",
   "metadata": {},
   "source": [
    "Top-100 report:"
   ]
  },
  {
   "cell_type": "code",
   "execution_count": 9,
   "metadata": {},
   "outputs": [
    {
     "name": "stdout",
     "output_type": "stream",
     "text": [
      "# of queries:    2500\r\n",
      "NDCG@10:  0.560500\r\n",
      "NDCG@20:  0.575100\r\n",
      "NDCG@100: 0.619300\r\n",
      "P20:      0.188900\r\n",
      "MAP:      0.487700\r\n",
      "MRR:      0.671100\r\n",
      "Recall:   0.808288\r\n"
     ]
    }
   ],
   "source": [
    "!cat collections/wikipedia_dpr_nq_sample/results/dev/final_exper/cedr8080/rep/out_100.rep"
   ]
  }
 ],
 "metadata": {
  "kernelspec": {
   "display_name": "Python 3",
   "language": "python",
   "name": "python3"
  },
  "language_info": {
   "codemirror_mode": {
    "name": "ipython",
    "version": 3
   },
   "file_extension": ".py",
   "mimetype": "text/x-python",
   "name": "python",
   "nbconvert_exporter": "python",
   "pygments_lexer": "ipython3",
   "version": "3.6.8"
  }
 },
 "nbformat": 4,
 "nbformat_minor": 4
}
