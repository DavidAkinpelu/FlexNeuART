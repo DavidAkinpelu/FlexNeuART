{
 "cells": [
  {
   "cell_type": "markdown",
   "metadata": {},
   "source": [
    "# Indexing notebook"
   ]
  },
  {
   "cell_type": "markdown",
   "metadata": {},
   "source": [
    "### First we need to move to the top-level directory."
   ]
  },
  {
   "cell_type": "code",
   "execution_count": 1,
   "metadata": {},
   "outputs": [
    {
     "name": "stdout",
     "output_type": "stream",
     "text": [
      "/Users/leo/SourceTreeGit/FlexNeuART.refact2021\n"
     ]
    }
   ],
   "source": [
    "cd ../.."
   ]
  },
  {
   "cell_type": "markdown",
   "metadata": {},
   "source": [
    "### Lucene indexer options"
   ]
  },
  {
   "cell_type": "code",
   "execution_count": 2,
   "metadata": {},
   "outputs": [
    {
     "name": "stdout",
     "output_type": "stream",
     "text": [
      "Using collection root: collections\r\n",
      "Specify collection sub-directory, e.g., msmarco_pass (1st arg)\r\n",
      "Usage: <collection> [additional options]\r\n",
      "Additional options:\r\n",
      "-h print help\r\n",
      "-exact_match create index for exact match\r\n",
      "-index_field indexing field name (default text)\r\n",
      "-input_subdir input data sub-directory (default input_data)\r\n",
      "-index_subdir index subdirectory (default lucene_index)\r\n"
     ]
    }
   ],
   "source": [
    "!scripts/index/create_lucene_index.sh"
   ]
  },
  {
   "cell_type": "markdown",
   "metadata": {},
   "source": [
    "By default Lucene using the context of the field `text` to create the full-text index, which is stored in the sub-directory `lucene_index`, but it is possible to create an index for an exact match, use a content of a different field, or store the inde"
   ]
  },
  {
   "cell_type": "markdown",
   "metadata": {},
   "source": [
    "### Lucene index"
   ]
  },
  {
   "cell_type": "code",
   "execution_count": null,
   "metadata": {},
   "outputs": [],
   "source": [
    "!scripts/index/create_lucene_index.sh wikipedia_dpr_nq_sample"
   ]
  },
  {
   "cell_type": "markdown",
   "metadata": {},
   "source": [
    "### Forward indices"
   ]
  },
  {
   "cell_type": "markdown",
   "metadata": {},
   "source": [
    "A forward index allows one to retrieve an original or parsed field content using a document identifier. The forward index can be stored using two backends (storage \"engines\"). There are four types of the field, which include:\n",
    "1. two parsed textual field formats: \n",
    "    - Parsed text without positional information (bag-of-words): **parsedBOW**   \n",
    "    - Parsed text with positional information: **parsedText**\n",
    "2. original/unparsed/raw text: **textRaw**\n",
    "3. binary (can be anything): **binary**\n",
    "\n",
    "The options are printed by the indexing script:"
   ]
  },
  {
   "cell_type": "code",
   "execution_count": null,
   "metadata": {},
   "outputs": [],
   "source": [
    "!scripts/index/create_fwd_index.sh "
   ]
  },
  {
   "cell_type": "markdown",
   "metadata": {},
   "source": [
    "Here we create indices sequentially, but they can also be created **in parallel** (independently for each field):"
   ]
  },
  {
   "cell_type": "code",
   "execution_count": null,
   "metadata": {},
   "outputs": [],
   "source": [
    "!scripts/index/create_fwd_index.sh wikipedia_dpr_nq_sample mapdb \\\n",
    "'dense:binary text:parsedText text_unlemm:parsedText title:parsedBOW text_bert_tok:parsedText text_raw:textRaw'"
   ]
  },
  {
   "cell_type": "code",
   "execution_count": null,
   "metadata": {},
   "outputs": [],
   "source": []
  }
 ],
 "metadata": {
  "kernelspec": {
   "display_name": "Python 3",
   "language": "python",
   "name": "python3"
  },
  "language_info": {
   "codemirror_mode": {
    "name": "ipython",
    "version": 3
   },
   "file_extension": ".py",
   "mimetype": "text/x-python",
   "name": "python",
   "nbconvert_exporter": "python",
   "pygments_lexer": "ipython3",
   "version": "3.6.12"
  }
 },
 "nbformat": 4,
 "nbformat_minor": 4
}
