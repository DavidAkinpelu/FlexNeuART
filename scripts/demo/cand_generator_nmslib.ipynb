{
 "cells": [
  {
   "cell_type": "markdown",
   "metadata": {},
   "source": [
    "# Using k-NN search on dense and dense-sparse representation for candidate generation"
   ]
  },
  {
   "cell_type": "markdown",
   "metadata": {},
   "source": [
    "### First we need to move to the top-level directory."
   ]
  },
  {
   "cell_type": "code",
   "execution_count": 1,
   "metadata": {},
   "outputs": [
    {
     "name": "stdout",
     "output_type": "stream",
     "text": [
      "/home/leo/SourceTreeGit/FlexNeuART.refact2021\n"
     ]
    }
   ],
   "source": [
    "cd ../.."
   ]
  },
  {
   "cell_type": "markdown",
   "metadata": {},
   "source": [
    "## Generating purely dense (ANCE) embeddings"
   ]
  },
  {
   "cell_type": "markdown",
   "metadata": {},
   "source": [
    "### Exporting data (currently we have no convenience wrapper scripts)"
   ]
  },
  {
   "cell_type": "code",
   "execution_count": 7,
   "metadata": {},
   "outputs": [],
   "source": [
    "!mkdir -p collections/wikipedia_dpr_nq_sample/derived_data/nmslib/ance"
   ]
  },
  {
   "cell_type": "code",
   "execution_count": 8,
   "metadata": {},
   "outputs": [
    {
     "name": "stdout",
     "output_type": "stream",
     "text": [
      "[main] INFO edu.cmu.lti.oaqa.flexneuart.fwdindx.ForwardIndexBinaryMapDb - Finished loading context from file: collections/wikipedia_dpr_nq_sample/forward_index//dense.mapdb\n",
      "[main] INFO edu.cmu.lti.oaqa.flexneuart.apps.ExportToNMSLIBDenseSparseFusion - Writing the number of entries (774392) to the output file\n",
      "[main] INFO edu.cmu.lti.oaqa.flexneuart.apps.ExportToNMSLIBDenseSparseFusion - Exported 10000 docs\n",
      "[main] INFO edu.cmu.lti.oaqa.flexneuart.apps.ExportToNMSLIBDenseSparseFusion - Exported 20000 docs\n",
      "[main] INFO edu.cmu.lti.oaqa.flexneuart.apps.ExportToNMSLIBDenseSparseFusion - Exported 30000 docs\n",
      "[main] INFO edu.cmu.lti.oaqa.flexneuart.apps.ExportToNMSLIBDenseSparseFusion - Exported 40000 docs\n",
      "[main] INFO edu.cmu.lti.oaqa.flexneuart.apps.ExportToNMSLIBDenseSparseFusion - Exported 50000 docs\n",
      "[main] INFO edu.cmu.lti.oaqa.flexneuart.apps.ExportToNMSLIBDenseSparseFusion - Exported 60000 docs\n",
      "[main] INFO edu.cmu.lti.oaqa.flexneuart.apps.ExportToNMSLIBDenseSparseFusion - Exported 70000 docs\n",
      "[main] INFO edu.cmu.lti.oaqa.flexneuart.apps.ExportToNMSLIBDenseSparseFusion - Exported 80000 docs\n",
      "[main] INFO edu.cmu.lti.oaqa.flexneuart.apps.ExportToNMSLIBDenseSparseFusion - Exported 90000 docs\n",
      "[main] INFO edu.cmu.lti.oaqa.flexneuart.apps.ExportToNMSLIBDenseSparseFusion - Exported 100000 docs\n",
      "[main] INFO edu.cmu.lti.oaqa.flexneuart.apps.ExportToNMSLIBDenseSparseFusion - Exported 110000 docs\n",
      "[main] INFO edu.cmu.lti.oaqa.flexneuart.apps.ExportToNMSLIBDenseSparseFusion - Exported 120000 docs\n",
      "[main] INFO edu.cmu.lti.oaqa.flexneuart.apps.ExportToNMSLIBDenseSparseFusion - Exported 130000 docs\n",
      "[main] INFO edu.cmu.lti.oaqa.flexneuart.apps.ExportToNMSLIBDenseSparseFusion - Exported 140000 docs\n",
      "[main] INFO edu.cmu.lti.oaqa.flexneuart.apps.ExportToNMSLIBDenseSparseFusion - Exported 150000 docs\n",
      "[main] INFO edu.cmu.lti.oaqa.flexneuart.apps.ExportToNMSLIBDenseSparseFusion - Exported 160000 docs\n",
      "[main] INFO edu.cmu.lti.oaqa.flexneuart.apps.ExportToNMSLIBDenseSparseFusion - Exported 170000 docs\n",
      "[main] INFO edu.cmu.lti.oaqa.flexneuart.apps.ExportToNMSLIBDenseSparseFusion - Exported 180000 docs\n",
      "[main] INFO edu.cmu.lti.oaqa.flexneuart.apps.ExportToNMSLIBDenseSparseFusion - Exported 190000 docs\n",
      "[main] INFO edu.cmu.lti.oaqa.flexneuart.apps.ExportToNMSLIBDenseSparseFusion - Exported 200000 docs\n",
      "[main] INFO edu.cmu.lti.oaqa.flexneuart.apps.ExportToNMSLIBDenseSparseFusion - Exported 210000 docs\n",
      "[main] INFO edu.cmu.lti.oaqa.flexneuart.apps.ExportToNMSLIBDenseSparseFusion - Exported 220000 docs\n",
      "[main] INFO edu.cmu.lti.oaqa.flexneuart.apps.ExportToNMSLIBDenseSparseFusion - Exported 230000 docs\n",
      "[main] INFO edu.cmu.lti.oaqa.flexneuart.apps.ExportToNMSLIBDenseSparseFusion - Exported 240000 docs\n",
      "[main] INFO edu.cmu.lti.oaqa.flexneuart.apps.ExportToNMSLIBDenseSparseFusion - Exported 250000 docs\n",
      "[main] INFO edu.cmu.lti.oaqa.flexneuart.apps.ExportToNMSLIBDenseSparseFusion - Exported 260000 docs\n",
      "[main] INFO edu.cmu.lti.oaqa.flexneuart.apps.ExportToNMSLIBDenseSparseFusion - Exported 270000 docs\n",
      "[main] INFO edu.cmu.lti.oaqa.flexneuart.apps.ExportToNMSLIBDenseSparseFusion - Exported 280000 docs\n",
      "[main] INFO edu.cmu.lti.oaqa.flexneuart.apps.ExportToNMSLIBDenseSparseFusion - Exported 290000 docs\n",
      "[main] INFO edu.cmu.lti.oaqa.flexneuart.apps.ExportToNMSLIBDenseSparseFusion - Exported 300000 docs\n",
      "[main] INFO edu.cmu.lti.oaqa.flexneuart.apps.ExportToNMSLIBDenseSparseFusion - Exported 310000 docs\n",
      "[main] INFO edu.cmu.lti.oaqa.flexneuart.apps.ExportToNMSLIBDenseSparseFusion - Exported 320000 docs\n",
      "[main] INFO edu.cmu.lti.oaqa.flexneuart.apps.ExportToNMSLIBDenseSparseFusion - Exported 330000 docs\n",
      "[main] INFO edu.cmu.lti.oaqa.flexneuart.apps.ExportToNMSLIBDenseSparseFusion - Exported 340000 docs\n",
      "[main] INFO edu.cmu.lti.oaqa.flexneuart.apps.ExportToNMSLIBDenseSparseFusion - Exported 350000 docs\n",
      "[main] INFO edu.cmu.lti.oaqa.flexneuart.apps.ExportToNMSLIBDenseSparseFusion - Exported 360000 docs\n",
      "[main] INFO edu.cmu.lti.oaqa.flexneuart.apps.ExportToNMSLIBDenseSparseFusion - Exported 370000 docs\n",
      "[main] INFO edu.cmu.lti.oaqa.flexneuart.apps.ExportToNMSLIBDenseSparseFusion - Exported 380000 docs\n",
      "[main] INFO edu.cmu.lti.oaqa.flexneuart.apps.ExportToNMSLIBDenseSparseFusion - Exported 390000 docs\n",
      "[main] INFO edu.cmu.lti.oaqa.flexneuart.apps.ExportToNMSLIBDenseSparseFusion - Exported 400000 docs\n",
      "[main] INFO edu.cmu.lti.oaqa.flexneuart.apps.ExportToNMSLIBDenseSparseFusion - Exported 410000 docs\n",
      "[main] INFO edu.cmu.lti.oaqa.flexneuart.apps.ExportToNMSLIBDenseSparseFusion - Exported 420000 docs\n",
      "[main] INFO edu.cmu.lti.oaqa.flexneuart.apps.ExportToNMSLIBDenseSparseFusion - Exported 430000 docs\n",
      "[main] INFO edu.cmu.lti.oaqa.flexneuart.apps.ExportToNMSLIBDenseSparseFusion - Exported 440000 docs\n",
      "[main] INFO edu.cmu.lti.oaqa.flexneuart.apps.ExportToNMSLIBDenseSparseFusion - Exported 450000 docs\n",
      "[main] INFO edu.cmu.lti.oaqa.flexneuart.apps.ExportToNMSLIBDenseSparseFusion - Exported 460000 docs\n",
      "[main] INFO edu.cmu.lti.oaqa.flexneuart.apps.ExportToNMSLIBDenseSparseFusion - Exported 470000 docs\n",
      "[main] INFO edu.cmu.lti.oaqa.flexneuart.apps.ExportToNMSLIBDenseSparseFusion - Exported 480000 docs\n",
      "[main] INFO edu.cmu.lti.oaqa.flexneuart.apps.ExportToNMSLIBDenseSparseFusion - Exported 490000 docs\n",
      "[main] INFO edu.cmu.lti.oaqa.flexneuart.apps.ExportToNMSLIBDenseSparseFusion - Exported 500000 docs\n",
      "[main] INFO edu.cmu.lti.oaqa.flexneuart.apps.ExportToNMSLIBDenseSparseFusion - Exported 510000 docs\n",
      "[main] INFO edu.cmu.lti.oaqa.flexneuart.apps.ExportToNMSLIBDenseSparseFusion - Exported 520000 docs\n",
      "[main] INFO edu.cmu.lti.oaqa.flexneuart.apps.ExportToNMSLIBDenseSparseFusion - Exported 530000 docs\n",
      "[main] INFO edu.cmu.lti.oaqa.flexneuart.apps.ExportToNMSLIBDenseSparseFusion - Exported 540000 docs\n",
      "[main] INFO edu.cmu.lti.oaqa.flexneuart.apps.ExportToNMSLIBDenseSparseFusion - Exported 550000 docs\n",
      "[main] INFO edu.cmu.lti.oaqa.flexneuart.apps.ExportToNMSLIBDenseSparseFusion - Exported 560000 docs\n",
      "[main] INFO edu.cmu.lti.oaqa.flexneuart.apps.ExportToNMSLIBDenseSparseFusion - Exported 570000 docs\n",
      "[main] INFO edu.cmu.lti.oaqa.flexneuart.apps.ExportToNMSLIBDenseSparseFusion - Exported 580000 docs\n",
      "[main] INFO edu.cmu.lti.oaqa.flexneuart.apps.ExportToNMSLIBDenseSparseFusion - Exported 590000 docs\n",
      "[main] INFO edu.cmu.lti.oaqa.flexneuart.apps.ExportToNMSLIBDenseSparseFusion - Exported 600000 docs\n",
      "[main] INFO edu.cmu.lti.oaqa.flexneuart.apps.ExportToNMSLIBDenseSparseFusion - Exported 610000 docs\n",
      "[main] INFO edu.cmu.lti.oaqa.flexneuart.apps.ExportToNMSLIBDenseSparseFusion - Exported 620000 docs\n",
      "[main] INFO edu.cmu.lti.oaqa.flexneuart.apps.ExportToNMSLIBDenseSparseFusion - Exported 630000 docs\n",
      "[main] INFO edu.cmu.lti.oaqa.flexneuart.apps.ExportToNMSLIBDenseSparseFusion - Exported 640000 docs\n",
      "[main] INFO edu.cmu.lti.oaqa.flexneuart.apps.ExportToNMSLIBDenseSparseFusion - Exported 650000 docs\n",
      "[main] INFO edu.cmu.lti.oaqa.flexneuart.apps.ExportToNMSLIBDenseSparseFusion - Exported 660000 docs\n",
      "[main] INFO edu.cmu.lti.oaqa.flexneuart.apps.ExportToNMSLIBDenseSparseFusion - Exported 670000 docs\n",
      "[main] INFO edu.cmu.lti.oaqa.flexneuart.apps.ExportToNMSLIBDenseSparseFusion - Exported 680000 docs\n",
      "[main] INFO edu.cmu.lti.oaqa.flexneuart.apps.ExportToNMSLIBDenseSparseFusion - Exported 690000 docs\n",
      "[main] INFO edu.cmu.lti.oaqa.flexneuart.apps.ExportToNMSLIBDenseSparseFusion - Exported 700000 docs\n",
      "[main] INFO edu.cmu.lti.oaqa.flexneuart.apps.ExportToNMSLIBDenseSparseFusion - Exported 710000 docs\n",
      "[main] INFO edu.cmu.lti.oaqa.flexneuart.apps.ExportToNMSLIBDenseSparseFusion - Exported 720000 docs\n",
      "[main] INFO edu.cmu.lti.oaqa.flexneuart.apps.ExportToNMSLIBDenseSparseFusion - Exported 730000 docs\n",
      "[main] INFO edu.cmu.lti.oaqa.flexneuart.apps.ExportToNMSLIBDenseSparseFusion - Exported 740000 docs\n",
      "[main] INFO edu.cmu.lti.oaqa.flexneuart.apps.ExportToNMSLIBDenseSparseFusion - Exported 750000 docs\n",
      "[main] INFO edu.cmu.lti.oaqa.flexneuart.apps.ExportToNMSLIBDenseSparseFusion - Exported 760000 docs\n",
      "[main] INFO edu.cmu.lti.oaqa.flexneuart.apps.ExportToNMSLIBDenseSparseFusion - Exported 770000 docs\n",
      "[main] INFO edu.cmu.lti.oaqa.flexneuart.apps.ExportToNMSLIBDenseSparseFusion - Exported 774392 docs\n"
     ]
    }
   ],
   "source": [
    "!target/appassembler/bin/ExportToNMSLIBDenseSparseFusion  \\\n",
    "    -extr_json collections/wikipedia_dpr_nq_sample/exper_desc.best/extractors/ance.json \\\n",
    "    -fwd_index_dir collections/wikipedia_dpr_nq_sample/forward_index/ \\\n",
    "    -out_file collections/wikipedia_dpr_nq_sample/derived_data/nmslib/ance/export.data"
   ]
  },
  {
   "cell_type": "markdown",
   "metadata": {},
   "source": [
    "We need to compile the latest NMSLIB [query server (details)](https://github.com/nmslib/nmslib/blob/master/manual/query_server.md). Then it needs to be started from the FlexNeuART source tree root as shown below. In our example, the server is going to carry out the brute-force search. It is also possible to create an index using, e.g., HNSW:\n",
    "\n",
    "```\n",
    "<path to the query server>/query_server \\\n",
    "    -p 8000 \\\n",
    "     -s sparse_dense_fusion:weightfilename=\\\n",
    "collections/wikipedia_dpr_nq_sample/exper_desc.best/nmslib/ance/fusion_weights \\\n",
    "     -i collections/wikipedia_dpr_nq_sample/derived_data/nmslib/ance/export.data \\\n",
    "     -m brute_force\n",
    "\n",
    "\n",
    "```\n",
    "\n",
    "Now we can run a benchmark:"
   ]
  },
  {
   "cell_type": "code",
   "execution_count": 3,
   "metadata": {},
   "outputs": [
    {
     "name": "stdout",
     "output_type": "stream",
     "text": [
      "Using collection root: collections\n",
      "The number of CPU cores:      8\n",
      "The number of || experiments: 1\n",
      "The number of threads:        8\n",
      "================================================================================\n",
      "Experiment descriptor file:                                 collections/wikipedia_dpr_nq_sample/exper_desc.best/nmslib_ance.json\n",
      "Default test set:                                           dev\n",
      "Number of parallel experiments:                             1\n",
      "Number of threads in feature extractors/query applications: 8\n",
      "================================================================================\n",
      "Parsed experiment parameters:\n",
      "experSubdir:final_exper/ance_knn\n",
      "candProv:nmslib\n",
      "candProvAddConfParam:exper_desc.best/nmslib/ance/cand_prov.json\n",
      "candProvURI:localhost:8000\n",
      "candQty:1000\n",
      "testOnly:1\n",
      "========================================\n",
      "Started a process 3153, working dir: collections/wikipedia_dpr_nq_sample/results/dev/final_exper/ance_knn\n",
      "Process log file: collections/wikipedia_dpr_nq_sample/results/dev/final_exper/ance_knn/exper.log\n",
      "Waiting for 1 child processes\n",
      "Process with pid=3153 finished successfully.\n",
      "Waiting for 0 child processes\n",
      "================================================================================\n",
      "1 experiments executed\n",
      "0 experiments failed\n",
      "================================================================================\n"
     ]
    }
   ],
   "source": [
    "!scripts/exper/run_experiments.sh \\\n",
    "    wikipedia_dpr_nq_sample \\\n",
    "    exper_desc.best/nmslib_ance.json \\\n",
    "    -test_part dev"
   ]
  },
  {
   "cell_type": "markdown",
   "metadata": {},
   "source": [
    "__Top-100 report:__"
   ]
  },
  {
   "cell_type": "code",
   "execution_count": 4,
   "metadata": {},
   "outputs": [
    {
     "name": "stdout",
     "output_type": "stream",
     "text": [
      "# of queries:    2500\r\n",
      "NDCG@10:  0.705800\r\n",
      "NDCG@20:  0.702400\r\n",
      "NDCG@100: 0.728700\r\n",
      "P20:      0.145400\r\n",
      "MAP:      0.595500\r\n",
      "MRR:      0.946100\r\n",
      "Recall:   0.546620\r\n"
     ]
    }
   ],
   "source": [
    "!cat collections/wikipedia_dpr_nq_sample/results/dev/final_exper/ance_knn/rep/out_100.rep"
   ]
  },
  {
   "cell_type": "markdown",
   "metadata": {},
   "source": [
    "## Generating mixed dense-sparse (BM25+ANCE) embeddings"
   ]
  },
  {
   "cell_type": "markdown",
   "metadata": {},
   "source": [
    "### Exporting data (currently we have no convenience wrapper scripts)"
   ]
  },
  {
   "cell_type": "code",
   "execution_count": 11,
   "metadata": {},
   "outputs": [],
   "source": [
    "!mkdir -p collections/wikipedia_dpr_nq_sample/derived_data/nmslib/bm25_ance"
   ]
  },
  {
   "cell_type": "code",
   "execution_count": 12,
   "metadata": {},
   "outputs": [
    {
     "name": "stdout",
     "output_type": "stream",
     "text": [
      "[main] INFO edu.cmu.lti.oaqa.flexneuart.fwdindx.ForwardIndexBinaryMapDb - Finished loading context from file: collections/wikipedia_dpr_nq_sample/forward_index//text.mapdb\n",
      "[main] INFO edu.cmu.lti.oaqa.flexneuart.fwdindx.ForwardIndexBinaryMapDb - Finished loading context from file: collections/wikipedia_dpr_nq_sample/forward_index//dense.mapdb\n",
      "[main] INFO edu.cmu.lti.oaqa.flexneuart.apps.ExportToNMSLIBDenseSparseFusion - Writing the number of entries (774392) to the output file\n",
      "[main] INFO edu.cmu.lti.oaqa.flexneuart.apps.ExportToNMSLIBDenseSparseFusion - Exported 10000 docs\n",
      "[main] INFO edu.cmu.lti.oaqa.flexneuart.apps.ExportToNMSLIBDenseSparseFusion - Exported 20000 docs\n",
      "[main] INFO edu.cmu.lti.oaqa.flexneuart.apps.ExportToNMSLIBDenseSparseFusion - Exported 30000 docs\n",
      "[main] INFO edu.cmu.lti.oaqa.flexneuart.apps.ExportToNMSLIBDenseSparseFusion - Exported 40000 docs\n",
      "[main] INFO edu.cmu.lti.oaqa.flexneuart.apps.ExportToNMSLIBDenseSparseFusion - Exported 50000 docs\n",
      "[main] INFO edu.cmu.lti.oaqa.flexneuart.apps.ExportToNMSLIBDenseSparseFusion - Exported 60000 docs\n",
      "[main] INFO edu.cmu.lti.oaqa.flexneuart.apps.ExportToNMSLIBDenseSparseFusion - Exported 70000 docs\n",
      "[main] INFO edu.cmu.lti.oaqa.flexneuart.apps.ExportToNMSLIBDenseSparseFusion - Exported 80000 docs\n",
      "[main] INFO edu.cmu.lti.oaqa.flexneuart.apps.ExportToNMSLIBDenseSparseFusion - Exported 90000 docs\n",
      "[main] INFO edu.cmu.lti.oaqa.flexneuart.apps.ExportToNMSLIBDenseSparseFusion - Exported 100000 docs\n",
      "[main] INFO edu.cmu.lti.oaqa.flexneuart.apps.ExportToNMSLIBDenseSparseFusion - Exported 110000 docs\n",
      "[main] INFO edu.cmu.lti.oaqa.flexneuart.apps.ExportToNMSLIBDenseSparseFusion - Exported 120000 docs\n",
      "[main] INFO edu.cmu.lti.oaqa.flexneuart.apps.ExportToNMSLIBDenseSparseFusion - Exported 130000 docs\n",
      "[main] INFO edu.cmu.lti.oaqa.flexneuart.apps.ExportToNMSLIBDenseSparseFusion - Exported 140000 docs\n",
      "[main] INFO edu.cmu.lti.oaqa.flexneuart.apps.ExportToNMSLIBDenseSparseFusion - Exported 150000 docs\n",
      "[main] INFO edu.cmu.lti.oaqa.flexneuart.apps.ExportToNMSLIBDenseSparseFusion - Exported 160000 docs\n",
      "[main] INFO edu.cmu.lti.oaqa.flexneuart.apps.ExportToNMSLIBDenseSparseFusion - Exported 170000 docs\n",
      "[main] INFO edu.cmu.lti.oaqa.flexneuart.apps.ExportToNMSLIBDenseSparseFusion - Exported 180000 docs\n",
      "[main] INFO edu.cmu.lti.oaqa.flexneuart.apps.ExportToNMSLIBDenseSparseFusion - Exported 190000 docs\n",
      "[main] INFO edu.cmu.lti.oaqa.flexneuart.apps.ExportToNMSLIBDenseSparseFusion - Exported 200000 docs\n",
      "[main] INFO edu.cmu.lti.oaqa.flexneuart.apps.ExportToNMSLIBDenseSparseFusion - Exported 210000 docs\n",
      "[main] INFO edu.cmu.lti.oaqa.flexneuart.apps.ExportToNMSLIBDenseSparseFusion - Exported 220000 docs\n",
      "[main] INFO edu.cmu.lti.oaqa.flexneuart.apps.ExportToNMSLIBDenseSparseFusion - Exported 230000 docs\n",
      "[main] INFO edu.cmu.lti.oaqa.flexneuart.apps.ExportToNMSLIBDenseSparseFusion - Exported 240000 docs\n",
      "[main] INFO edu.cmu.lti.oaqa.flexneuart.apps.ExportToNMSLIBDenseSparseFusion - Exported 250000 docs\n",
      "[main] INFO edu.cmu.lti.oaqa.flexneuart.apps.ExportToNMSLIBDenseSparseFusion - Exported 260000 docs\n",
      "[main] INFO edu.cmu.lti.oaqa.flexneuart.apps.ExportToNMSLIBDenseSparseFusion - Exported 270000 docs\n",
      "[main] INFO edu.cmu.lti.oaqa.flexneuart.apps.ExportToNMSLIBDenseSparseFusion - Exported 280000 docs\n",
      "[main] INFO edu.cmu.lti.oaqa.flexneuart.apps.ExportToNMSLIBDenseSparseFusion - Exported 290000 docs\n",
      "[main] INFO edu.cmu.lti.oaqa.flexneuart.apps.ExportToNMSLIBDenseSparseFusion - Exported 300000 docs\n",
      "[main] INFO edu.cmu.lti.oaqa.flexneuart.apps.ExportToNMSLIBDenseSparseFusion - Exported 310000 docs\n",
      "[main] INFO edu.cmu.lti.oaqa.flexneuart.apps.ExportToNMSLIBDenseSparseFusion - Exported 320000 docs\n",
      "[main] INFO edu.cmu.lti.oaqa.flexneuart.apps.ExportToNMSLIBDenseSparseFusion - Exported 330000 docs\n",
      "[main] INFO edu.cmu.lti.oaqa.flexneuart.apps.ExportToNMSLIBDenseSparseFusion - Exported 340000 docs\n",
      "[main] INFO edu.cmu.lti.oaqa.flexneuart.apps.ExportToNMSLIBDenseSparseFusion - Exported 350000 docs\n",
      "[main] INFO edu.cmu.lti.oaqa.flexneuart.apps.ExportToNMSLIBDenseSparseFusion - Exported 360000 docs\n",
      "[main] INFO edu.cmu.lti.oaqa.flexneuart.apps.ExportToNMSLIBDenseSparseFusion - Exported 370000 docs\n",
      "[main] INFO edu.cmu.lti.oaqa.flexneuart.apps.ExportToNMSLIBDenseSparseFusion - Exported 380000 docs\n",
      "[main] INFO edu.cmu.lti.oaqa.flexneuart.apps.ExportToNMSLIBDenseSparseFusion - Exported 390000 docs\n",
      "[main] INFO edu.cmu.lti.oaqa.flexneuart.apps.ExportToNMSLIBDenseSparseFusion - Exported 400000 docs\n",
      "[main] INFO edu.cmu.lti.oaqa.flexneuart.apps.ExportToNMSLIBDenseSparseFusion - Exported 410000 docs\n",
      "[main] INFO edu.cmu.lti.oaqa.flexneuart.apps.ExportToNMSLIBDenseSparseFusion - Exported 420000 docs\n",
      "[main] INFO edu.cmu.lti.oaqa.flexneuart.apps.ExportToNMSLIBDenseSparseFusion - Exported 430000 docs\n",
      "[main] INFO edu.cmu.lti.oaqa.flexneuart.apps.ExportToNMSLIBDenseSparseFusion - Exported 440000 docs\n",
      "[main] INFO edu.cmu.lti.oaqa.flexneuart.apps.ExportToNMSLIBDenseSparseFusion - Exported 450000 docs\n",
      "[main] INFO edu.cmu.lti.oaqa.flexneuart.apps.ExportToNMSLIBDenseSparseFusion - Exported 460000 docs\n",
      "[main] INFO edu.cmu.lti.oaqa.flexneuart.apps.ExportToNMSLIBDenseSparseFusion - Exported 470000 docs\n",
      "[main] INFO edu.cmu.lti.oaqa.flexneuart.apps.ExportToNMSLIBDenseSparseFusion - Exported 480000 docs\n",
      "[main] INFO edu.cmu.lti.oaqa.flexneuart.apps.ExportToNMSLIBDenseSparseFusion - Exported 490000 docs\n",
      "[main] INFO edu.cmu.lti.oaqa.flexneuart.apps.ExportToNMSLIBDenseSparseFusion - Exported 500000 docs\n",
      "[main] INFO edu.cmu.lti.oaqa.flexneuart.apps.ExportToNMSLIBDenseSparseFusion - Exported 510000 docs\n",
      "[main] INFO edu.cmu.lti.oaqa.flexneuart.apps.ExportToNMSLIBDenseSparseFusion - Exported 520000 docs\n",
      "[main] INFO edu.cmu.lti.oaqa.flexneuart.apps.ExportToNMSLIBDenseSparseFusion - Exported 530000 docs\n",
      "[main] INFO edu.cmu.lti.oaqa.flexneuart.apps.ExportToNMSLIBDenseSparseFusion - Exported 540000 docs\n",
      "[main] INFO edu.cmu.lti.oaqa.flexneuart.apps.ExportToNMSLIBDenseSparseFusion - Exported 550000 docs\n",
      "[main] INFO edu.cmu.lti.oaqa.flexneuart.apps.ExportToNMSLIBDenseSparseFusion - Exported 560000 docs\n",
      "[main] INFO edu.cmu.lti.oaqa.flexneuart.apps.ExportToNMSLIBDenseSparseFusion - Exported 570000 docs\n",
      "[main] INFO edu.cmu.lti.oaqa.flexneuart.apps.ExportToNMSLIBDenseSparseFusion - Exported 580000 docs\n",
      "[main] INFO edu.cmu.lti.oaqa.flexneuart.apps.ExportToNMSLIBDenseSparseFusion - Exported 590000 docs\n",
      "[main] INFO edu.cmu.lti.oaqa.flexneuart.apps.ExportToNMSLIBDenseSparseFusion - Exported 600000 docs\n",
      "[main] INFO edu.cmu.lti.oaqa.flexneuart.apps.ExportToNMSLIBDenseSparseFusion - Exported 610000 docs\n",
      "[main] INFO edu.cmu.lti.oaqa.flexneuart.apps.ExportToNMSLIBDenseSparseFusion - Exported 620000 docs\n",
      "[main] INFO edu.cmu.lti.oaqa.flexneuart.apps.ExportToNMSLIBDenseSparseFusion - Exported 630000 docs\n",
      "[main] INFO edu.cmu.lti.oaqa.flexneuart.apps.ExportToNMSLIBDenseSparseFusion - Exported 640000 docs\n",
      "[main] INFO edu.cmu.lti.oaqa.flexneuart.apps.ExportToNMSLIBDenseSparseFusion - Exported 650000 docs\n",
      "[main] INFO edu.cmu.lti.oaqa.flexneuart.apps.ExportToNMSLIBDenseSparseFusion - Exported 660000 docs\n",
      "[main] INFO edu.cmu.lti.oaqa.flexneuart.apps.ExportToNMSLIBDenseSparseFusion - Exported 670000 docs\n",
      "[main] INFO edu.cmu.lti.oaqa.flexneuart.apps.ExportToNMSLIBDenseSparseFusion - Exported 680000 docs\n",
      "[main] INFO edu.cmu.lti.oaqa.flexneuart.apps.ExportToNMSLIBDenseSparseFusion - Exported 690000 docs\n",
      "[main] INFO edu.cmu.lti.oaqa.flexneuart.apps.ExportToNMSLIBDenseSparseFusion - Exported 700000 docs\n",
      "[main] INFO edu.cmu.lti.oaqa.flexneuart.apps.ExportToNMSLIBDenseSparseFusion - Exported 710000 docs\n",
      "[main] INFO edu.cmu.lti.oaqa.flexneuart.apps.ExportToNMSLIBDenseSparseFusion - Exported 720000 docs\n",
      "[main] INFO edu.cmu.lti.oaqa.flexneuart.apps.ExportToNMSLIBDenseSparseFusion - Exported 730000 docs\n",
      "[main] INFO edu.cmu.lti.oaqa.flexneuart.apps.ExportToNMSLIBDenseSparseFusion - Exported 740000 docs\n",
      "[main] INFO edu.cmu.lti.oaqa.flexneuart.apps.ExportToNMSLIBDenseSparseFusion - Exported 750000 docs\n",
      "[main] INFO edu.cmu.lti.oaqa.flexneuart.apps.ExportToNMSLIBDenseSparseFusion - Exported 760000 docs\n",
      "[main] INFO edu.cmu.lti.oaqa.flexneuart.apps.ExportToNMSLIBDenseSparseFusion - Exported 770000 docs\n",
      "[main] INFO edu.cmu.lti.oaqa.flexneuart.apps.ExportToNMSLIBDenseSparseFusion - Exported 774392 docs\n"
     ]
    }
   ],
   "source": [
    "!target/appassembler/bin/ExportToNMSLIBDenseSparseFusion  \\\n",
    "    -extr_json collections/wikipedia_dpr_nq_sample/exper_desc.best/extractors/bm25_ance.json \\\n",
    "    -fwd_index_dir collections/wikipedia_dpr_nq_sample/forward_index/ \\\n",
    "    -out_file collections/wikipedia_dpr_nq_sample/derived_data/nmslib/bm25_ance/export.data"
   ]
  },
  {
   "cell_type": "markdown",
   "metadata": {},
   "source": [
    "We need to compile the latest NMSLIB [query server (details)](https://github.com/nmslib/nmslib/blob/master/manual/query_server.md). Then it needs to be started from the FlexNeuART source tree root as shown below. In our example, the server is going to carry out the brute-force search. It is also possible to create an index using, e.g., HNSW:\n",
    "\n",
    "```\n",
    "<path to the query server>/query_server \\\n",
    "    -p 8000 \\\n",
    "     -s sparse_dense_fusion:weightfilename=\\\n",
    "collections/wikipedia_dpr_nq_sample/exper_desc.best/nmslib/bm25_ance/fusion_weights \\\n",
    "     -i collections/wikipedia_dpr_nq_sample/derived_data/nmslib/bm25_ance/export.data \\\n",
    "     -m brute_force\n",
    "```\n",
    "\n",
    "Now we can run a benchmark:"
   ]
  },
  {
   "cell_type": "code",
   "execution_count": 5,
   "metadata": {},
   "outputs": [
    {
     "name": "stdout",
     "output_type": "stream",
     "text": [
      "Using collection root: collections\n",
      "The number of CPU cores:      8\n",
      "The number of || experiments: 1\n",
      "The number of threads:        8\n",
      "================================================================================\n",
      "Experiment descriptor file:                                 collections/wikipedia_dpr_nq_sample/exper_desc.best/nmslib_bm25_ance.json\n",
      "Default test set:                                           dev\n",
      "Number of parallel experiments:                             1\n",
      "Number of threads in feature extractors/query applications: 8\n",
      "================================================================================\n",
      "Parsed experiment parameters:\n",
      "experSubdir:final_exper/bm25_ance_knn\n",
      "candProv:nmslib\n",
      "candProvAddConfParam:exper_desc.best/nmslib/bm25_ance/cand_prov.json\n",
      "candProvURI:localhost:8000\n",
      "candQty:1000\n",
      "testOnly:1\n",
      "========================================\n",
      "Started a process 3391, working dir: collections/wikipedia_dpr_nq_sample/results/dev/final_exper/bm25_ance_knn\n",
      "Process log file: collections/wikipedia_dpr_nq_sample/results/dev/final_exper/bm25_ance_knn/exper.log\n",
      "Waiting for 1 child processes\n",
      "Process with pid=3391 finished successfully.\n",
      "Waiting for 0 child processes\n",
      "================================================================================\n",
      "1 experiments executed\n",
      "0 experiments failed\n",
      "================================================================================\n"
     ]
    }
   ],
   "source": [
    "!scripts/exper/run_experiments.sh \\\n",
    "    wikipedia_dpr_nq_sample \\\n",
    "    exper_desc.best/nmslib_bm25_ance.json \\\n",
    "    -test_part dev"
   ]
  },
  {
   "cell_type": "markdown",
   "metadata": {},
   "source": [
    "__Top 100 report__:"
   ]
  },
  {
   "cell_type": "code",
   "execution_count": 11,
   "metadata": {},
   "outputs": [
    {
     "name": "stdout",
     "output_type": "stream",
     "text": [
      "# of queries:    2500\r\n",
      "NDCG@10:  0.714900\r\n",
      "NDCG@20:  0.712100\r\n",
      "NDCG@100: 0.740300\r\n",
      "P20:      0.151700\r\n",
      "MAP:      0.606000\r\n",
      "MRR:      0.945300\r\n",
      "Recall:   0.577034\r\n"
     ]
    }
   ],
   "source": [
    "!cat collections/wikipedia_dpr_nq_sample/results/dev/final_exper/bm25_ance_knn/rep/out_100.rep"
   ]
  },
  {
   "cell_type": "markdown",
   "metadata": {},
   "source": [
    "## Generating mixed dense-sparse (BM25+ANCE) embeddings"
   ]
  },
  {
   "cell_type": "markdown",
   "metadata": {},
   "source": [
    "## Note, we expect this mode is going primarily useful for purely sparse mixes. Otherwise, its efficiency is not great"
   ]
  },
  {
   "cell_type": "markdown",
   "metadata": {},
   "source": [
    "### Exporting data (currently we have no convenience wrapper scripts)"
   ]
  },
  {
   "cell_type": "code",
   "execution_count": 15,
   "metadata": {},
   "outputs": [],
   "source": [
    "!mkdir -p collections/wikipedia_dpr_nq_sample/derived_data/nmslib/bm25_ance_interleaved"
   ]
  },
  {
   "cell_type": "code",
   "execution_count": 16,
   "metadata": {},
   "outputs": [
    {
     "name": "stdout",
     "output_type": "stream",
     "text": [
      "[main] INFO edu.cmu.lti.oaqa.flexneuart.fwdindx.ForwardIndexBinaryMapDb - Finished loading context from file: collections/wikipedia_dpr_nq_sample/forward_index//text.mapdb\n",
      "[main] INFO edu.cmu.lti.oaqa.flexneuart.fwdindx.ForwardIndexBinaryMapDb - Finished loading context from file: collections/wikipedia_dpr_nq_sample/forward_index//dense.mapdb\n",
      "Writing the number of entries (774392) to the output file\n",
      "Exported 10000 docs\n",
      "Exported 20000 docs\n",
      "Exported 30000 docs\n",
      "Exported 40000 docs\n",
      "Exported 50000 docs\n",
      "Exported 60000 docs\n",
      "Exported 70000 docs\n",
      "Exported 80000 docs\n",
      "Exported 90000 docs\n",
      "Exported 100000 docs\n",
      "Exported 110000 docs\n",
      "Exported 120000 docs\n",
      "Exported 130000 docs\n",
      "Exported 140000 docs\n",
      "Exported 150000 docs\n",
      "Exported 160000 docs\n",
      "Exported 170000 docs\n",
      "Exported 180000 docs\n",
      "Exported 190000 docs\n",
      "Exported 200000 docs\n",
      "Exported 210000 docs\n",
      "Exported 220000 docs\n",
      "Exported 230000 docs\n",
      "Exported 240000 docs\n",
      "Exported 250000 docs\n",
      "Exported 260000 docs\n",
      "Exported 270000 docs\n",
      "Exported 280000 docs\n",
      "Exported 290000 docs\n",
      "Exported 300000 docs\n",
      "Exported 310000 docs\n",
      "Exported 320000 docs\n",
      "Exported 330000 docs\n",
      "Exported 340000 docs\n",
      "Exported 350000 docs\n",
      "Exported 360000 docs\n",
      "Exported 370000 docs\n",
      "Exported 380000 docs\n",
      "Exported 390000 docs\n",
      "Exported 400000 docs\n",
      "Exported 410000 docs\n",
      "Exported 420000 docs\n",
      "Exported 430000 docs\n",
      "Exported 440000 docs\n",
      "Exported 450000 docs\n",
      "Exported 460000 docs\n",
      "Exported 470000 docs\n",
      "Exported 480000 docs\n",
      "Exported 490000 docs\n",
      "Exported 500000 docs\n",
      "Exported 510000 docs\n",
      "Exported 520000 docs\n",
      "Exported 530000 docs\n",
      "Exported 540000 docs\n",
      "Exported 550000 docs\n",
      "Exported 560000 docs\n",
      "Exported 570000 docs\n",
      "Exported 580000 docs\n",
      "Exported 590000 docs\n",
      "Exported 600000 docs\n",
      "Exported 610000 docs\n",
      "Exported 620000 docs\n",
      "Exported 630000 docs\n",
      "Exported 640000 docs\n",
      "Exported 650000 docs\n",
      "Exported 660000 docs\n",
      "Exported 670000 docs\n",
      "Exported 680000 docs\n",
      "Exported 690000 docs\n",
      "Exported 700000 docs\n",
      "Exported 710000 docs\n",
      "Exported 720000 docs\n",
      "Exported 730000 docs\n",
      "Exported 740000 docs\n",
      "Exported 750000 docs\n",
      "Exported 760000 docs\n",
      "Exported 770000 docs\n",
      "Exported 774392 docs\n"
     ]
    }
   ],
   "source": [
    "!target/appassembler/bin/ExportToNMSLIBSparse  \\\n",
    "    -extr_json collections/wikipedia_dpr_nq_sample/exper_desc.best/extractors/bm25_ance.json \\\n",
    "    -model_file collections/wikipedia_dpr_nq_sample/exper_desc.best/models/bm25_ance.model \\\n",
    "    -fwd_index_dir collections/wikipedia_dpr_nq_sample/forward_index/ \\\n",
    "    -out_file collections/wikipedia_dpr_nq_sample/derived_data/nmslib/bm25_ance_interleaved/export.data"
   ]
  },
  {
   "cell_type": "markdown",
   "metadata": {},
   "source": [
    "We need to compile the latest NMSLIB [query server (details)](https://github.com/nmslib/nmslib/blob/master/manual/query_server.md). Then it needs to be started from the FlexNeuART source tree root as shown below. In our example, the server is going to carry out the brute-force search. It is also possible to create an index using, e.g., HNSW. The __difference__ from the previous examples is that the similarity function here is a simple unweighted inner product between sparse vectors:\n",
    "\n",
    "```\n",
    "<path to the query server>/query_server \\\n",
    "    -p 8000 \\\n",
    "     -s negdotprod_sparse_bin_fast \\\n",
    "     -i collections/wikipedia_dpr_nq_sample/derived_data/nmslib/bm25_ance_interleaved/export.data \\\n",
    "     -m brute_force\n",
    "```\n",
    "\n",
    "Now we can run a benchmark:"
   ]
  },
  {
   "cell_type": "code",
   "execution_count": 9,
   "metadata": {},
   "outputs": [
    {
     "name": "stdout",
     "output_type": "stream",
     "text": [
      "Using collection root: collections\n",
      "The number of CPU cores:      8\n",
      "The number of || experiments: 1\n",
      "The number of threads:        8\n",
      "================================================================================\n",
      "Experiment descriptor file:                                 collections/wikipedia_dpr_nq_sample/exper_desc.best/nmslib_bm25_ance_interleaved.json\n",
      "Default test set:                                           dev\n",
      "Number of parallel experiments:                             1\n",
      "Number of threads in feature extractors/query applications: 8\n",
      "================================================================================\n",
      "Parsed experiment parameters:\n",
      "experSubdir:final_exper/bm25_ance_knn_interleaved\n",
      "candProv:nmslib\n",
      "candProvAddConfParam:exper_desc.best/nmslib/bm25_ance_interleaved/cand_prov.json\n",
      "candProvURI:localhost:8000\n",
      "candQty:1000\n",
      "testOnly:1\n",
      "========================================\n",
      "Started a process 3686, working dir: collections/wikipedia_dpr_nq_sample/results/dev/final_exper/bm25_ance_knn_interleaved\n",
      "Process log file: collections/wikipedia_dpr_nq_sample/results/dev/final_exper/bm25_ance_knn_interleaved/exper.log\n",
      "Waiting for 1 child processes\n",
      "Process with pid=3686 finished successfully.\n",
      "Waiting for 0 child processes\n",
      "================================================================================\n",
      "1 experiments executed\n",
      "0 experiments failed\n",
      "================================================================================\n"
     ]
    }
   ],
   "source": [
    "!scripts/exper/run_experiments.sh \\\n",
    "    wikipedia_dpr_nq_sample \\\n",
    "    exper_desc.best/nmslib_bm25_ance_interleaved.json \\\n",
    "    -test_part dev"
   ]
  },
  {
   "cell_type": "markdown",
   "metadata": {},
   "source": [
    "__Top 100 report__:"
   ]
  },
  {
   "cell_type": "code",
   "execution_count": 6,
   "metadata": {},
   "outputs": [
    {
     "name": "stdout",
     "output_type": "stream",
     "text": [
      "# of queries:    2500\r\n",
      "NDCG@10:  0.714900\r\n",
      "NDCG@20:  0.712100\r\n",
      "NDCG@100: 0.740300\r\n",
      "P20:      0.151700\r\n",
      "MAP:      0.606000\r\n",
      "MRR:      0.945300\r\n",
      "Recall:   0.577034\r\n"
     ]
    }
   ],
   "source": [
    "!cat collections/wikipedia_dpr_nq_sample/results/dev/final_exper/bm25_ance_knn/rep/out_100.rep"
   ]
  },
  {
   "cell_type": "markdown",
   "metadata": {},
   "source": [
    "## Generating mixed dense-sparse (BM25+glove averaged) embeddings"
   ]
  },
  {
   "cell_type": "markdown",
   "metadata": {},
   "source": [
    "### Exporting data (currently we have no convenience wrapper scripts)"
   ]
  },
  {
   "cell_type": "code",
   "execution_count": 4,
   "metadata": {},
   "outputs": [],
   "source": [
    "!mkdir -p collections/wikipedia_dpr_nq_sample/derived_data/nmslib/bm25_avgembed"
   ]
  },
  {
   "cell_type": "code",
   "execution_count": 6,
   "metadata": {},
   "outputs": [
    {
     "name": "stdout",
     "output_type": "stream",
     "text": [
      "[main] INFO edu.cmu.lti.oaqa.flexneuart.fwdindx.ForwardIndexBinaryMapDb - Finished loading context from file: collections/wikipedia_dpr_nq_sample/forward_index//text.mapdb\n",
      "[main] INFO edu.cmu.lti.oaqa.flexneuart.fwdindx.ForwardIndexBinaryMapDb - Finished loading context from file: collections/wikipedia_dpr_nq_sample/forward_index//text_unlemm.mapdb\n",
      "[main] INFO edu.cmu.lti.oaqa.flexneuart.letor.EmbeddingReaderAndRecoder - Loaded 50000 source word vectors from 'collections/wikipedia_dpr_nq_sample/derived_data/embeddings/glove/glove.6B.50d.txt.bz2'\n",
      "[main] INFO edu.cmu.lti.oaqa.flexneuart.letor.EmbeddingReaderAndRecoder - Loaded 100000 source word vectors from 'collections/wikipedia_dpr_nq_sample/derived_data/embeddings/glove/glove.6B.50d.txt.bz2'\n",
      "[main] INFO edu.cmu.lti.oaqa.flexneuart.letor.EmbeddingReaderAndRecoder - Loaded 150000 source word vectors from 'collections/wikipedia_dpr_nq_sample/derived_data/embeddings/glove/glove.6B.50d.txt.bz2'\n",
      "[main] INFO edu.cmu.lti.oaqa.flexneuart.letor.EmbeddingReaderAndRecoder - Loaded 200000 source word vectors from 'collections/wikipedia_dpr_nq_sample/derived_data/embeddings/glove/glove.6B.50d.txt.bz2'\n",
      "[main] INFO edu.cmu.lti.oaqa.flexneuart.letor.EmbeddingReaderAndRecoder - Loaded 250000 source word vectors from 'collections/wikipedia_dpr_nq_sample/derived_data/embeddings/glove/glove.6B.50d.txt.bz2'\n",
      "[main] INFO edu.cmu.lti.oaqa.flexneuart.letor.EmbeddingReaderAndRecoder - Loaded 300000 source word vectors from 'collections/wikipedia_dpr_nq_sample/derived_data/embeddings/glove/glove.6B.50d.txt.bz2'\n",
      "[main] INFO edu.cmu.lti.oaqa.flexneuart.letor.EmbeddingReaderAndRecoder - Loaded 350000 source word vectors from 'collections/wikipedia_dpr_nq_sample/derived_data/embeddings/glove/glove.6B.50d.txt.bz2'\n",
      "[main] INFO edu.cmu.lti.oaqa.flexneuart.letor.EmbeddingReaderAndRecoder - Loaded 400000 source word vectors from 'collections/wikipedia_dpr_nq_sample/derived_data/embeddings/glove/glove.6B.50d.txt.bz2'\n",
      "[main] INFO edu.cmu.lti.oaqa.flexneuart.letor.EmbeddingReaderAndRecoder - Finished loading 271158 word vectors from 'collections/wikipedia_dpr_nq_sample/derived_data/embeddings/glove/glove.6B.50d.txt.bz2' (out of 400000), dimensionality: 50\n",
      "[main] INFO edu.cmu.lti.oaqa.flexneuart.apps.ExportToNMSLIBDenseSparseFusion - Writing the number of entries (774392) to the output file\n",
      "[main] INFO edu.cmu.lti.oaqa.flexneuart.apps.ExportToNMSLIBDenseSparseFusion - Exported 10000 docs\n",
      "[main] INFO edu.cmu.lti.oaqa.flexneuart.apps.ExportToNMSLIBDenseSparseFusion - Exported 20000 docs\n",
      "[main] INFO edu.cmu.lti.oaqa.flexneuart.apps.ExportToNMSLIBDenseSparseFusion - Exported 30000 docs\n",
      "[main] INFO edu.cmu.lti.oaqa.flexneuart.apps.ExportToNMSLIBDenseSparseFusion - Exported 40000 docs\n",
      "[main] INFO edu.cmu.lti.oaqa.flexneuart.apps.ExportToNMSLIBDenseSparseFusion - Exported 50000 docs\n",
      "[main] INFO edu.cmu.lti.oaqa.flexneuart.apps.ExportToNMSLIBDenseSparseFusion - Exported 60000 docs\n",
      "[main] INFO edu.cmu.lti.oaqa.flexneuart.apps.ExportToNMSLIBDenseSparseFusion - Exported 70000 docs\n",
      "[main] INFO edu.cmu.lti.oaqa.flexneuart.apps.ExportToNMSLIBDenseSparseFusion - Exported 80000 docs\n",
      "[main] INFO edu.cmu.lti.oaqa.flexneuart.apps.ExportToNMSLIBDenseSparseFusion - Exported 90000 docs\n",
      "[main] INFO edu.cmu.lti.oaqa.flexneuart.apps.ExportToNMSLIBDenseSparseFusion - Exported 100000 docs\n",
      "[main] INFO edu.cmu.lti.oaqa.flexneuart.apps.ExportToNMSLIBDenseSparseFusion - Exported 110000 docs\n",
      "[main] INFO edu.cmu.lti.oaqa.flexneuart.apps.ExportToNMSLIBDenseSparseFusion - Exported 120000 docs\n",
      "[main] INFO edu.cmu.lti.oaqa.flexneuart.apps.ExportToNMSLIBDenseSparseFusion - Exported 130000 docs\n",
      "[main] INFO edu.cmu.lti.oaqa.flexneuart.apps.ExportToNMSLIBDenseSparseFusion - Exported 140000 docs\n",
      "[main] INFO edu.cmu.lti.oaqa.flexneuart.apps.ExportToNMSLIBDenseSparseFusion - Exported 150000 docs\n",
      "[main] INFO edu.cmu.lti.oaqa.flexneuart.apps.ExportToNMSLIBDenseSparseFusion - Exported 160000 docs\n",
      "[main] INFO edu.cmu.lti.oaqa.flexneuart.apps.ExportToNMSLIBDenseSparseFusion - Exported 170000 docs\n",
      "[main] INFO edu.cmu.lti.oaqa.flexneuart.apps.ExportToNMSLIBDenseSparseFusion - Exported 180000 docs\n",
      "[main] INFO edu.cmu.lti.oaqa.flexneuart.apps.ExportToNMSLIBDenseSparseFusion - Exported 190000 docs\n",
      "[main] INFO edu.cmu.lti.oaqa.flexneuart.apps.ExportToNMSLIBDenseSparseFusion - Exported 200000 docs\n",
      "[main] INFO edu.cmu.lti.oaqa.flexneuart.apps.ExportToNMSLIBDenseSparseFusion - Exported 210000 docs\n",
      "[main] INFO edu.cmu.lti.oaqa.flexneuart.apps.ExportToNMSLIBDenseSparseFusion - Exported 220000 docs\n",
      "[main] INFO edu.cmu.lti.oaqa.flexneuart.apps.ExportToNMSLIBDenseSparseFusion - Exported 230000 docs\n",
      "[main] INFO edu.cmu.lti.oaqa.flexneuart.apps.ExportToNMSLIBDenseSparseFusion - Exported 240000 docs\n",
      "[main] INFO edu.cmu.lti.oaqa.flexneuart.apps.ExportToNMSLIBDenseSparseFusion - Exported 250000 docs\n",
      "[main] INFO edu.cmu.lti.oaqa.flexneuart.apps.ExportToNMSLIBDenseSparseFusion - Exported 260000 docs\n",
      "[main] INFO edu.cmu.lti.oaqa.flexneuart.apps.ExportToNMSLIBDenseSparseFusion - Exported 270000 docs\n",
      "[main] INFO edu.cmu.lti.oaqa.flexneuart.apps.ExportToNMSLIBDenseSparseFusion - Exported 280000 docs\n",
      "[main] INFO edu.cmu.lti.oaqa.flexneuart.apps.ExportToNMSLIBDenseSparseFusion - Exported 290000 docs\n",
      "[main] INFO edu.cmu.lti.oaqa.flexneuart.apps.ExportToNMSLIBDenseSparseFusion - Exported 300000 docs\n",
      "[main] INFO edu.cmu.lti.oaqa.flexneuart.apps.ExportToNMSLIBDenseSparseFusion - Exported 310000 docs\n",
      "[main] INFO edu.cmu.lti.oaqa.flexneuart.apps.ExportToNMSLIBDenseSparseFusion - Exported 320000 docs\n",
      "[main] INFO edu.cmu.lti.oaqa.flexneuart.apps.ExportToNMSLIBDenseSparseFusion - Exported 330000 docs\n",
      "[main] INFO edu.cmu.lti.oaqa.flexneuart.apps.ExportToNMSLIBDenseSparseFusion - Exported 340000 docs\n",
      "[main] INFO edu.cmu.lti.oaqa.flexneuart.apps.ExportToNMSLIBDenseSparseFusion - Exported 350000 docs\n",
      "[main] INFO edu.cmu.lti.oaqa.flexneuart.apps.ExportToNMSLIBDenseSparseFusion - Exported 360000 docs\n",
      "[main] INFO edu.cmu.lti.oaqa.flexneuart.apps.ExportToNMSLIBDenseSparseFusion - Exported 370000 docs\n",
      "[main] INFO edu.cmu.lti.oaqa.flexneuart.apps.ExportToNMSLIBDenseSparseFusion - Exported 380000 docs\n",
      "[main] INFO edu.cmu.lti.oaqa.flexneuart.apps.ExportToNMSLIBDenseSparseFusion - Exported 390000 docs\n",
      "[main] INFO edu.cmu.lti.oaqa.flexneuart.apps.ExportToNMSLIBDenseSparseFusion - Exported 400000 docs\n",
      "[main] INFO edu.cmu.lti.oaqa.flexneuart.apps.ExportToNMSLIBDenseSparseFusion - Exported 410000 docs\n",
      "[main] INFO edu.cmu.lti.oaqa.flexneuart.apps.ExportToNMSLIBDenseSparseFusion - Exported 420000 docs\n",
      "[main] INFO edu.cmu.lti.oaqa.flexneuart.apps.ExportToNMSLIBDenseSparseFusion - Exported 430000 docs\n",
      "[main] INFO edu.cmu.lti.oaqa.flexneuart.apps.ExportToNMSLIBDenseSparseFusion - Exported 440000 docs\n",
      "[main] INFO edu.cmu.lti.oaqa.flexneuart.apps.ExportToNMSLIBDenseSparseFusion - Exported 450000 docs\n",
      "[main] INFO edu.cmu.lti.oaqa.flexneuart.apps.ExportToNMSLIBDenseSparseFusion - Exported 460000 docs\n",
      "[main] INFO edu.cmu.lti.oaqa.flexneuart.apps.ExportToNMSLIBDenseSparseFusion - Exported 470000 docs\n",
      "[main] INFO edu.cmu.lti.oaqa.flexneuart.apps.ExportToNMSLIBDenseSparseFusion - Exported 480000 docs\n",
      "[main] INFO edu.cmu.lti.oaqa.flexneuart.apps.ExportToNMSLIBDenseSparseFusion - Exported 490000 docs\n",
      "[main] INFO edu.cmu.lti.oaqa.flexneuart.apps.ExportToNMSLIBDenseSparseFusion - Exported 500000 docs\n",
      "[main] INFO edu.cmu.lti.oaqa.flexneuart.apps.ExportToNMSLIBDenseSparseFusion - Exported 510000 docs\n",
      "[main] INFO edu.cmu.lti.oaqa.flexneuart.apps.ExportToNMSLIBDenseSparseFusion - Exported 520000 docs\n",
      "[main] INFO edu.cmu.lti.oaqa.flexneuart.apps.ExportToNMSLIBDenseSparseFusion - Exported 530000 docs\n",
      "[main] INFO edu.cmu.lti.oaqa.flexneuart.apps.ExportToNMSLIBDenseSparseFusion - Exported 540000 docs\n",
      "[main] INFO edu.cmu.lti.oaqa.flexneuart.apps.ExportToNMSLIBDenseSparseFusion - Exported 550000 docs\n",
      "[main] INFO edu.cmu.lti.oaqa.flexneuart.apps.ExportToNMSLIBDenseSparseFusion - Exported 560000 docs\n",
      "[main] INFO edu.cmu.lti.oaqa.flexneuart.apps.ExportToNMSLIBDenseSparseFusion - Exported 570000 docs\n",
      "[main] INFO edu.cmu.lti.oaqa.flexneuart.apps.ExportToNMSLIBDenseSparseFusion - Exported 580000 docs\n",
      "[main] INFO edu.cmu.lti.oaqa.flexneuart.apps.ExportToNMSLIBDenseSparseFusion - Exported 590000 docs\n"
     ]
    },
    {
     "name": "stdout",
     "output_type": "stream",
     "text": [
      "[main] INFO edu.cmu.lti.oaqa.flexneuart.apps.ExportToNMSLIBDenseSparseFusion - Exported 600000 docs\n",
      "[main] INFO edu.cmu.lti.oaqa.flexneuart.apps.ExportToNMSLIBDenseSparseFusion - Exported 610000 docs\n",
      "[main] INFO edu.cmu.lti.oaqa.flexneuart.apps.ExportToNMSLIBDenseSparseFusion - Exported 620000 docs\n",
      "[main] INFO edu.cmu.lti.oaqa.flexneuart.apps.ExportToNMSLIBDenseSparseFusion - Exported 630000 docs\n",
      "[main] INFO edu.cmu.lti.oaqa.flexneuart.apps.ExportToNMSLIBDenseSparseFusion - Exported 640000 docs\n",
      "[main] INFO edu.cmu.lti.oaqa.flexneuart.apps.ExportToNMSLIBDenseSparseFusion - Exported 650000 docs\n",
      "[main] INFO edu.cmu.lti.oaqa.flexneuart.apps.ExportToNMSLIBDenseSparseFusion - Exported 660000 docs\n",
      "[main] INFO edu.cmu.lti.oaqa.flexneuart.apps.ExportToNMSLIBDenseSparseFusion - Exported 670000 docs\n",
      "[main] INFO edu.cmu.lti.oaqa.flexneuart.apps.ExportToNMSLIBDenseSparseFusion - Exported 680000 docs\n",
      "[main] INFO edu.cmu.lti.oaqa.flexneuart.apps.ExportToNMSLIBDenseSparseFusion - Exported 690000 docs\n",
      "[main] INFO edu.cmu.lti.oaqa.flexneuart.apps.ExportToNMSLIBDenseSparseFusion - Exported 700000 docs\n",
      "[main] INFO edu.cmu.lti.oaqa.flexneuart.apps.ExportToNMSLIBDenseSparseFusion - Exported 710000 docs\n",
      "[main] INFO edu.cmu.lti.oaqa.flexneuart.apps.ExportToNMSLIBDenseSparseFusion - Exported 720000 docs\n",
      "[main] INFO edu.cmu.lti.oaqa.flexneuart.apps.ExportToNMSLIBDenseSparseFusion - Exported 730000 docs\n",
      "[main] INFO edu.cmu.lti.oaqa.flexneuart.apps.ExportToNMSLIBDenseSparseFusion - Exported 740000 docs\n",
      "[main] INFO edu.cmu.lti.oaqa.flexneuart.apps.ExportToNMSLIBDenseSparseFusion - Exported 750000 docs\n",
      "[main] INFO edu.cmu.lti.oaqa.flexneuart.apps.ExportToNMSLIBDenseSparseFusion - Exported 760000 docs\n",
      "[main] INFO edu.cmu.lti.oaqa.flexneuart.apps.ExportToNMSLIBDenseSparseFusion - Exported 770000 docs\n",
      "[main] INFO edu.cmu.lti.oaqa.flexneuart.apps.ExportToNMSLIBDenseSparseFusion - Exported 774392 docs\n"
     ]
    }
   ],
   "source": [
    "!target/appassembler/bin/ExportToNMSLIBDenseSparseFusion  \\\n",
    "    -extr_json collections/wikipedia_dpr_nq_sample/exper_desc.best/extractors/bm25_avgembed.json \\\n",
    "    -fwd_index_dir collections/wikipedia_dpr_nq_sample/forward_index/ \\\n",
    "    -embed_dir collections/wikipedia_dpr_nq_sample/derived_data/embeddings \\\n",
    "    -out_file collections/wikipedia_dpr_nq_sample/derived_data/nmslib/bm25_avgembed/export.data"
   ]
  },
  {
   "cell_type": "markdown",
   "metadata": {},
   "source": [
    "We need to compile the latest NMSLIB [query server (details)](https://github.com/nmslib/nmslib/blob/master/manual/query_server.md). Then it needs to be started from the FlexNeuART source tree root as shown below. In our example, the server is going to carry out the brute-force search. It is also possible to create an index using, e.g., HNSW. The __difference__ from the previous examples is that the similarity function here is a simple unweighted inner product between sparse vectors:\n",
    "\n",
    "```\n",
    "<path to the query server>/query_server \\\n",
    "    -p 8000 \\\n",
    "     -s sparse_dense_fusion:weightfilename=\\\n",
    "collections/wikipedia_dpr_nq_sample/exper_desc.best/nmslib/bm25_avgembed/fusion_weights \\\n",
    "     -i collections/wikipedia_dpr_nq_sample/derived_data/nmslib/bm25_avgembed/export.data \\\n",
    "     -m brute_force\n",
    "```\n",
    "\n",
    "Now we can run a benchmark:"
   ]
  },
  {
   "cell_type": "code",
   "execution_count": 7,
   "metadata": {},
   "outputs": [
    {
     "name": "stdout",
     "output_type": "stream",
     "text": [
      "Using collection root: collections\n",
      "The number of CPU cores:      8\n",
      "The number of || experiments: 1\n",
      "The number of threads:        8\n",
      "================================================================================\n",
      "Experiment descriptor file:                                 collections/wikipedia_dpr_nq_sample/exper_desc.best/nmslib_bm25_avgembed.json\n",
      "Default test set:                                           dev\n",
      "Number of parallel experiments:                             1\n",
      "Number of threads in feature extractors/query applications: 8\n",
      "================================================================================\n",
      "Parsed experiment parameters:\n",
      "experSubdir:final_exper/bm25_avgembed_knn\n",
      "candProv:nmslib\n",
      "candProvAddConfParam:exper_desc.best/nmslib/bm25_avgembed/cand_prov.json\n",
      "candProvURI:localhost:8000\n",
      "candQty:1000\n",
      "testOnly:1\n",
      "========================================\n",
      "Started a process 5616, working dir: collections/wikipedia_dpr_nq_sample/results/dev/final_exper/bm25_avgembed_knn\n",
      "Process log file: collections/wikipedia_dpr_nq_sample/results/dev/final_exper/bm25_avgembed_knn/exper.log\n",
      "Waiting for 1 child processes\n",
      "Process with pid=5616 finished successfully.\n",
      "Waiting for 0 child processes\n",
      "================================================================================\n",
      "1 experiments executed\n",
      "0 experiments failed\n",
      "================================================================================\n"
     ]
    }
   ],
   "source": [
    "!scripts/exper/run_experiments.sh \\\n",
    "    wikipedia_dpr_nq_sample \\\n",
    "    exper_desc.best/nmslib_bm25_avgembed.json \\\n",
    "    -test_part dev"
   ]
  },
  {
   "cell_type": "markdown",
   "metadata": {},
   "source": [
    "__Top 100 report__:"
   ]
  },
  {
   "cell_type": "code",
   "execution_count": 8,
   "metadata": {},
   "outputs": [
    {
     "name": "stdout",
     "output_type": "stream",
     "text": [
      "# of queries:    2500\r\n",
      "NDCG@10:  0.402300\r\n",
      "NDCG@20:  0.434900\r\n",
      "NDCG@100: 0.507800\r\n",
      "P20:      0.165600\r\n",
      "MAP:      0.345600\r\n",
      "MRR:      0.486600\r\n",
      "Recall:   0.820033\r\n"
     ]
    }
   ],
   "source": [
    "!cat collections/wikipedia_dpr_nq_sample/results/dev/final_exper/bm25_avgembed_knn/rep/out_100.rep"
   ]
  }
 ],
 "metadata": {
  "kernelspec": {
   "display_name": "Python 3",
   "language": "python",
   "name": "python3"
  },
  "language_info": {
   "codemirror_mode": {
    "name": "ipython",
    "version": 3
   },
   "file_extension": ".py",
   "mimetype": "text/x-python",
   "name": "python",
   "nbconvert_exporter": "python",
   "pygments_lexer": "ipython3",
   "version": "3.8.5"
  }
 },
 "nbformat": 4,
 "nbformat_minor": 4
}
