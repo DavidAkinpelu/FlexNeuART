{
 "cells": [
  {
   "cell_type": "markdown",
   "metadata": {},
   "source": [
    "# Training (non-neural) Model 1"
   ]
  },
  {
   "cell_type": "markdown",
   "metadata": {},
   "source": [
    "### First we need to move to the top-level directory."
   ]
  },
  {
   "cell_type": "code",
   "execution_count": 2,
   "metadata": {},
   "outputs": [
    {
     "name": "stdout",
     "output_type": "stream",
     "text": [
      "/Users/leo/SourceTreeGit/FlexNeuART.refact2021\n"
     ]
    }
   ],
   "source": [
    "cd ../.."
   ]
  },
  {
   "cell_type": "markdown",
   "metadata": {},
   "source": [
    "Training an IBM Model 1 model\n",
    "Here we create a model for the field text_bert_tok. This script requires MGIZA to be compiled (make sure you ran the script install_packages.sh):"
   ]
  },
  {
   "cell_type": "code",
   "execution_count": null,
   "metadata": {},
   "outputs": [],
   "source": [
    "!scripts/giza/create_tran.sh wikipedia_dpr_nq_sample text_bert_tok"
   ]
  },
  {
   "cell_type": "markdown",
   "metadata": {},
   "source": [
    "Sanity check, inspect training perplexity:"
   ]
  },
  {
   "cell_type": "code",
   "execution_count": 5,
   "metadata": {},
   "outputs": [
    {
     "name": "stdout",
     "output_type": "stream",
     "text": [
      "#trnsz\ttstsz\titer\tmodel\ttrn-pp\t\ttest-pp\t\ttrn-vit-pp\t\ttst-vit-pp\r\n",
      "1190942\t0\t0\tModel1\t120288\t\tN/A\t\tinf\t\tN/A\r\n",
      "1190942\t0\t1\tModel1\t932.098\t\tN/A\t\t4438.64\t\tN/A\r\n",
      "1190942\t0\t2\tModel1\t651.752\t\tN/A\t\t2432.73\t\tN/A\r\n",
      "1190942\t0\t3\tModel1\t582.679\t\tN/A\t\t1863.23\t\tN/A\r\n",
      "1190942\t0\t4\tModel1\t556.998\t\tN/A\t\t1619.48\t\tN/A\r\n"
     ]
    }
   ],
   "source": [
    "!cat collections/wikipedia_dpr_nq_sample/derived_data/giza/text_bert_tok.orig/output.perp"
   ]
  },
  {
   "cell_type": "markdown",
   "metadata": {},
   "source": [
    "It further needs to cleaned-up and converted to a binary format (infrequent tokens need to be filtered out as well). \n",
    "Note that for BERT-tokenized text, which has less than\n",
    "100K unique tokens, the __specified__ maximum number of most frequent words\n",
    "is too high. However, it makes sense for, e.g.,\n",
    "unlemmatized text fields with large vocabularies."
   ]
  },
  {
   "cell_type": "code",
   "execution_count": null,
   "metadata": {},
   "outputs": [],
   "source": [
    "!min_tran_prob=0.001 ; top_word_qty=1000000 ; echo $min_tran_prob ; top_word_qty=100000 ; \\\n",
    "scripts/giza/filter_tran_table_and_voc.sh \\\n",
    "    wikipedia_dpr_nq_sample \\\n",
    "    text_bert_tok \\\n",
    "    $min_tran_prob \\\n",
    "    $top_word_qty"
   ]
  }
 ],
 "metadata": {
  "kernelspec": {
   "display_name": "Python 3",
   "language": "python",
   "name": "python3"
  },
  "language_info": {
   "codemirror_mode": {
    "name": "ipython",
    "version": 3
   },
   "file_extension": ".py",
   "mimetype": "text/x-python",
   "name": "python",
   "nbconvert_exporter": "python",
   "pygments_lexer": "ipython3",
   "version": "3.6.12"
  }
 },
 "nbformat": 4,
 "nbformat_minor": 4
}
