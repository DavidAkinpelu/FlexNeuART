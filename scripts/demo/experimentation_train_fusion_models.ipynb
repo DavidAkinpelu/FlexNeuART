{
 "cells": [
  {
   "cell_type": "markdown",
   "metadata": {},
   "source": [
    "# Experimentation: Training & testing fusion models"
   ]
  },
  {
   "cell_type": "markdown",
   "metadata": {},
   "source": [
    "### First we need to move to the top-level directory ..."
   ]
  },
  {
   "cell_type": "code",
   "execution_count": 1,
   "metadata": {},
   "outputs": [
    {
     "name": "stdout",
     "output_type": "stream",
     "text": [
      "/home/leo/SourceTreeGit/FlexNeuART.refact2021\n"
     ]
    }
   ],
   "source": [
    "cd ../.."
   ]
  },
  {
   "cell_type": "markdown",
   "metadata": {},
   "source": [
    "## Training a fusion of BM25 and Model1 using the optimal configuration obtained during the fine-tuning step\n",
    "\n",
    "Training uses only the first 5000 queries from the fusion set:"
   ]
  },
  {
   "cell_type": "code",
   "execution_count": 9,
   "metadata": {},
   "outputs": [
    {
     "name": "stdout",
     "output_type": "stream",
     "text": [
      "Using collection root: collections\n",
      "The number of CPU cores:      8\n",
      "The number of || experiments: 1\n",
      "The number of threads:        8\n",
      "================================================================================\n",
      "Experiment descriptor file:                                 collections/wikipedia_dpr_nq_sample/exper_desc.best/bm25_model1.json\n",
      "Default test set:                                           dev\n",
      "Number of parallel experiments:                             1\n",
      "Number of threads in feature extractors/query applications: 8\n",
      "================================================================================\n",
      "Parsed experiment parameters:\n",
      "experSubdir:feat_exper/bm25_model1\n",
      "extrType:exper_desc.best/extractors/bm25=text+model1=text_bert_tok+lambda=0.3+probSelfTran=0.35.json\n",
      "testOnly:0\n",
      "========================================\n",
      "Started a process 18046, working dir: collections/wikipedia_dpr_nq_sample/results/dev/feat_exper/bm25_model1\n",
      "Process log file: collections/wikipedia_dpr_nq_sample/results/dev/feat_exper/bm25_model1/exper.log\n",
      "Waiting for 1 child processes\n",
      "Process with pid=18046 finished successfully.\n",
      "Waiting for 0 child processes\n",
      "================================================================================\n",
      "1 experiments executed\n",
      "0 experiments failed\n",
      "================================================================================\n"
     ]
    }
   ],
   "source": [
    "!scripts/exper/run_experiments.sh \\\n",
    "   wikipedia_dpr_nq_sample \\\n",
    "   exper_desc.best/bm25_model1.json \\\n",
    "   -max_num_query_train 5000 \\\n",
    "   -train_cand_qty 20 \\\n",
    "   -test_part dev"
   ]
  },
  {
   "cell_type": "markdown",
   "metadata": {},
   "source": [
    "Top-100 report:"
   ]
  },
  {
   "cell_type": "code",
   "execution_count": 10,
   "metadata": {},
   "outputs": [
    {
     "name": "stdout",
     "output_type": "stream",
     "text": [
      "# of queries:    2500\r\n",
      "NDCG@10:  0.500700\r\n",
      "NDCG@20:  0.534900\r\n",
      "NDCG@100: 0.598400\r\n",
      "P20:      0.198700\r\n",
      "MAP:      0.439500\r\n",
      "MRR:      0.586900\r\n",
      "Recall:   0.887168\r\n"
     ]
    }
   ],
   "source": [
    "!cat collections/wikipedia_dpr_nq_sample/results/dev/feat_exper/bm25_model1/rep/out_100.rep"
   ]
  },
  {
   "cell_type": "markdown",
   "metadata": {},
   "source": [
    "## Training a fusion of (query-normalized) BM25 and BERT-model scores\n",
    "One needs to start a query server that binds to the port 8080 as shown below. This needs to be done in __a separate terminal__, because notebooks do not support background processes. Please, note we have to specify __the same maximum query and document lengths__ as during the training process."
   ]
  },
  {
   "cell_type": "markdown",
   "metadata": {},
   "source": [
    "```\n",
    "scripts/py_featextr_server/cedr_server.py  \\\n",
    "   --init_model collections/wikipedia_dpr_nq_sample/derived_data/ir_models/vanilla_bert/model.best \\\n",
    "   --max_query_len 64 \\\n",
    "   --max_doc_len 445 \\\n",
    "   --port 8080\n",
    "```"
   ]
  },
  {
   "cell_type": "markdown",
   "metadata": {},
   "source": [
    "Now we can run an experiment by training using a `train_fusion` subset of queries and testing on the `dev` subset. Please, note the following:\n",
    "1. During training time use 20 candidates, but for testing on `dev` we re-rank 50 candidates. The ranking of candidates below 50th position will not change.\n",
    "2. We use two threads and output log to the screen (i.e., the process is no started in a separate shell).\n",
    "3. Training uses only the __first 5000__ queries from the fusion set."
   ]
  },
  {
   "cell_type": "code",
   "execution_count": null,
   "metadata": {},
   "outputs": [],
   "source": [
    "!scripts/exper/run_experiments.sh \\\n",
    "   wikipedia_dpr_nq_sample \\\n",
    "   exper_desc.best/bm25_cedr8080.json \\\n",
    "   -max_num_query_train 5000 \\\n",
    "   -train_cand_qty 20 \\\n",
    "   -max_final_rerank_qty 50 \\\n",
    "   -test_part dev \\\n",
    "   -thread_qty 2 \\\n",
    "   -no_separate_shell"
   ]
  },
  {
   "cell_type": "markdown",
   "metadata": {},
   "source": [
    "All the results are available in the directory `collections/wikipedia_dpr_nq_sample/results/dev/feat_exper/bm25_cedr8080`.\n",
    "\n",
    "The following is a summary report (top-100):"
   ]
  },
  {
   "cell_type": "code",
   "execution_count": 6,
   "metadata": {},
   "outputs": [
    {
     "name": "stdout",
     "output_type": "stream",
     "text": [
      "# of queries:    2500\r\n",
      "NDCG@10:  0.570300\r\n",
      "NDCG@20:  0.583000\r\n",
      "NDCG@100: 0.625100\r\n",
      "P20:      0.191000\r\n",
      "MAP:      0.496600\r\n",
      "MRR:      0.677900\r\n",
      "Recall:   0.808288\r\n"
     ]
    }
   ],
   "source": [
    "!cat collections/wikipedia_dpr_nq_sample/results/dev/feat_exper/bm25_cedr8080/rep/out_100.rep"
   ]
  },
  {
   "cell_type": "markdown",
   "metadata": {},
   "source": [
    "## Training a fusion of BM25 and ANCE"
   ]
  },
  {
   "cell_type": "code",
   "execution_count": 15,
   "metadata": {},
   "outputs": [
    {
     "name": "stdout",
     "output_type": "stream",
     "text": [
      "Using collection root: collections\n",
      "The number of CPU cores:      8\n",
      "The number of || experiments: 1\n",
      "The number of threads:        8\n",
      "================================================================================\n",
      "Experiment descriptor file:                                 collections/wikipedia_dpr_nq_sample/exper_desc.best/bm25_ance.json\n",
      "Default test set:                                           dev\n",
      "Number of parallel experiments:                             1\n",
      "Number of threads in feature extractors/query applications: 8\n",
      "================================================================================\n",
      "Parsed experiment parameters:\n",
      "experSubdir:feat_exper/bm25_ance\n",
      "candProvAddConfParam:exper_desc.best/lucene.json\n",
      "extrType:exper_desc.best/extractors/bm25_ance.json\n",
      "testOnly:0\n",
      "========================================\n",
      "Started a process 32022, working dir: collections/wikipedia_dpr_nq_sample/results/dev/feat_exper/bm25_ance\n",
      "Process log file: collections/wikipedia_dpr_nq_sample/results/dev/feat_exper/bm25_ance/exper.log\n",
      "Waiting for 1 child processes\n",
      "Process with pid=32022 finished successfully.\n",
      "Waiting for 0 child processes\n",
      "================================================================================\n",
      "1 experiments executed\n",
      "0 experiments failed\n",
      "================================================================================\n"
     ]
    }
   ],
   "source": [
    "!scripts/exper/run_experiments.sh \\\n",
    "   wikipedia_dpr_nq_sample \\\n",
    "   exper_desc.best/bm25_ance.json \\\n",
    "   -max_num_query_train 5000 \\\n",
    "   -train_cand_qty 20 \\\n",
    "   -test_part dev\n"
   ]
  },
  {
   "cell_type": "markdown",
   "metadata": {},
   "source": [
    "Top-100 results:"
   ]
  },
  {
   "cell_type": "code",
   "execution_count": 16,
   "metadata": {},
   "outputs": [
    {
     "name": "stdout",
     "output_type": "stream",
     "text": [
      "# of queries:    2500\r\n",
      "NDCG@10:  0.655400\r\n",
      "NDCG@20:  0.657300\r\n",
      "NDCG@100: 0.698300\r\n",
      "P20:      0.155500\r\n",
      "MAP:      0.561800\r\n",
      "MRR:      0.866000\r\n",
      "Recall:   0.652528\r\n"
     ]
    }
   ],
   "source": [
    "!cat collections/wikipedia_dpr_nq_sample/results/dev/feat_exper/bm25_ance/rep/out_100.rep"
   ]
  },
  {
   "cell_type": "code",
   "execution_count": null,
   "metadata": {},
   "outputs": [],
   "source": []
  }
 ],
 "metadata": {
  "kernelspec": {
   "display_name": "Python 3",
   "language": "python",
   "name": "python3"
  },
  "language_info": {
   "codemirror_mode": {
    "name": "ipython",
    "version": 3
   },
   "file_extension": ".py",
   "mimetype": "text/x-python",
   "name": "python",
   "nbconvert_exporter": "python",
   "pygments_lexer": "ipython3",
   "version": "3.6.10"
  }
 },
 "nbformat": 4,
 "nbformat_minor": 4
}
