{
 "cells": [
  {
   "cell_type": "markdown",
   "metadata": {},
   "source": [
    "### First we need to move to the top-level directory."
   ]
  },
  {
   "cell_type": "code",
   "execution_count": 1,
   "metadata": {},
   "outputs": [
    {
     "name": "stdout",
     "output_type": "stream",
     "text": [
      "/home/leo/SourceTreeGit/FlexNeuART.refact2021\n"
     ]
    }
   ],
   "source": [
    "cd ../.."
   ]
  },
  {
   "cell_type": "code",
   "execution_count": 2,
   "metadata": {},
   "outputs": [],
   "source": [
    "COLLECTION='wikipedia_dpr_nq_sample'"
   ]
  },
  {
   "cell_type": "code",
   "execution_count": 3,
   "metadata": {},
   "outputs": [],
   "source": [
    "from scripts.py_flexneuart.setup import *"
   ]
  },
  {
   "cell_type": "code",
   "execution_count": 4,
   "metadata": {},
   "outputs": [],
   "source": [
    "# add Java JAR to the class path\n",
    "configure_classpath('target')"
   ]
  },
  {
   "cell_type": "code",
   "execution_count": 5,
   "metadata": {},
   "outputs": [],
   "source": [
    "# create a resource manager\n",
    "resource_manager=create_featextr_resource_manager(f'collections/{COLLECTION}/forward_index',\n",
    "                                                  model1_root_dir=f'collections/{COLLECTION}/derived_data/giza')"
   ]
  },
  {
   "cell_type": "markdown",
   "metadata": {},
   "source": [
    "### Retrieval"
   ]
  },
  {
   "cell_type": "code",
   "execution_count": 6,
   "metadata": {},
   "outputs": [],
   "source": [
    "from scripts.config import QUESTION_FILE_JSON, QREL_FILE, DOCID_FIELD, TEXT_FIELD_NAME"
   ]
  },
  {
   "cell_type": "code",
   "execution_count": 7,
   "metadata": {},
   "outputs": [],
   "source": [
    "from scripts.py_flexneuart.cand_provider import *\n",
    "# create a candidate provider/generator\n",
    "cand_prov = create_cand_provider(resource_manager, PROVIDER_TYPE_LUCENE, f'collections/{COLLECTION}/lucene_index')"
   ]
  },
  {
   "cell_type": "code",
   "execution_count": 8,
   "metadata": {},
   "outputs": [],
   "source": [
    "QUERY_TEXT = \"vein carry blood heart away\""
   ]
  },
  {
   "cell_type": "code",
   "execution_count": 9,
   "metadata": {},
   "outputs": [
    {
     "data": {
      "text/plain": [
       "(1338,\n",
       " [CandidateEntry(doc_id='639661', score=18.328275680541992),\n",
       "  CandidateEntry(doc_id='472789', score=16.816619873046875),\n",
       "  CandidateEntry(doc_id='1776205', score=16.630727767944336),\n",
       "  CandidateEntry(doc_id='639669', score=15.6367826461792),\n",
       "  CandidateEntry(doc_id='8448903', score=15.448601722717285),\n",
       "  CandidateEntry(doc_id='8448902', score=15.369601249694824),\n",
       "  CandidateEntry(doc_id='639670', score=15.27547550201416),\n",
       "  CandidateEntry(doc_id='639663', score=14.904623985290527),\n",
       "  CandidateEntry(doc_id='35722', score=14.59425163269043),\n",
       "  CandidateEntry(doc_id='1302853', score=14.318553924560547),\n",
       "  CandidateEntry(doc_id='639671', score=14.157160758972168),\n",
       "  CandidateEntry(doc_id='1786523', score=14.077558517456055),\n",
       "  CandidateEntry(doc_id='588394', score=13.997241973876953),\n",
       "  CandidateEntry(doc_id='639690', score=13.810718536376953),\n",
       "  CandidateEntry(doc_id='1450640', score=13.643953323364258),\n",
       "  CandidateEntry(doc_id='3936360', score=13.642525672912598),\n",
       "  CandidateEntry(doc_id='5622935', score=13.536111831665039),\n",
       "  CandidateEntry(doc_id='2992576', score=13.500545501708984),\n",
       "  CandidateEntry(doc_id='47133', score=13.166474342346191),\n",
       "  CandidateEntry(doc_id='47129', score=13.15163803100586)])"
      ]
     },
     "execution_count": 9,
     "metadata": {},
     "output_type": "execute_result"
    }
   ],
   "source": [
    "# An example of running a text query\n",
    "query_res = run_text_query(cand_prov, 20, QUERY_TEXT)\n",
    "query_res"
   ]
  },
  {
   "cell_type": "code",
   "execution_count": 10,
   "metadata": {},
   "outputs": [
    {
     "data": {
      "text/plain": [
       "(1338,\n",
       " [CandidateEntry(doc_id='639661', score=18.328275680541992),\n",
       "  CandidateEntry(doc_id='472789', score=16.816619873046875),\n",
       "  CandidateEntry(doc_id='1776205', score=16.630727767944336),\n",
       "  CandidateEntry(doc_id='639669', score=15.6367826461792),\n",
       "  CandidateEntry(doc_id='8448903', score=15.448601722717285),\n",
       "  CandidateEntry(doc_id='8448902', score=15.369601249694824),\n",
       "  CandidateEntry(doc_id='639670', score=15.27547550201416),\n",
       "  CandidateEntry(doc_id='639663', score=14.904623985290527),\n",
       "  CandidateEntry(doc_id='35722', score=14.59425163269043),\n",
       "  CandidateEntry(doc_id='1302853', score=14.318553924560547),\n",
       "  CandidateEntry(doc_id='639671', score=14.157160758972168),\n",
       "  CandidateEntry(doc_id='1786523', score=14.077558517456055),\n",
       "  CandidateEntry(doc_id='588394', score=13.997241973876953),\n",
       "  CandidateEntry(doc_id='639690', score=13.810718536376953),\n",
       "  CandidateEntry(doc_id='1450640', score=13.643953323364258),\n",
       "  CandidateEntry(doc_id='3936360', score=13.642525672912598),\n",
       "  CandidateEntry(doc_id='5622935', score=13.536111831665039),\n",
       "  CandidateEntry(doc_id='2992576', score=13.500545501708984),\n",
       "  CandidateEntry(doc_id='47133', score=13.166474342346191),\n",
       "  CandidateEntry(doc_id='47129', score=13.15163803100586)])"
      ]
     },
     "execution_count": 10,
     "metadata": {},
     "output_type": "execute_result"
    }
   ],
   "source": [
    "# An example of running a generic query interface\n",
    "query_res = run_query(cand_prov, 20, {TEXT_FIELD_NAME : QUERY_TEXT}, default_query_id=FAKE_QUERY_ID)\n",
    "query_res"
   ]
  },
  {
   "cell_type": "code",
   "execution_count": 11,
   "metadata": {},
   "outputs": [
    {
     "data": {
      "text/plain": [
       "(1338,\n",
       " [CandidateEntry(doc_id='639661', score=18.328275680541992),\n",
       "  CandidateEntry(doc_id='472789', score=16.816619873046875),\n",
       "  CandidateEntry(doc_id='1776205', score=16.630727767944336),\n",
       "  CandidateEntry(doc_id='639669', score=15.6367826461792),\n",
       "  CandidateEntry(doc_id='8448903', score=15.448601722717285),\n",
       "  CandidateEntry(doc_id='8448902', score=15.369601249694824),\n",
       "  CandidateEntry(doc_id='639670', score=15.27547550201416),\n",
       "  CandidateEntry(doc_id='639663', score=14.904623985290527),\n",
       "  CandidateEntry(doc_id='35722', score=14.59425163269043),\n",
       "  CandidateEntry(doc_id='1302853', score=14.318553924560547),\n",
       "  CandidateEntry(doc_id='639671', score=14.157160758972168),\n",
       "  CandidateEntry(doc_id='1786523', score=14.077558517456055),\n",
       "  CandidateEntry(doc_id='588394', score=13.997241973876953),\n",
       "  CandidateEntry(doc_id='639690', score=13.810718536376953),\n",
       "  CandidateEntry(doc_id='1450640', score=13.643953323364258),\n",
       "  CandidateEntry(doc_id='3936360', score=13.642525672912598),\n",
       "  CandidateEntry(doc_id='5622935', score=13.536111831665039),\n",
       "  CandidateEntry(doc_id='2992576', score=13.500545501708984),\n",
       "  CandidateEntry(doc_id='47133', score=13.166474342346191),\n",
       "  CandidateEntry(doc_id='47129', score=13.15163803100586)])"
      ]
     },
     "execution_count": 11,
     "metadata": {},
     "output_type": "execute_result"
    }
   ],
   "source": [
    "# An example of running a generic query interface\n",
    "query_res = run_query(cand_prov, 20, {DOCID_FIELD: FAKE_QUERY_ID, TEXT_FIELD_NAME : QUERY_TEXT})\n",
    "query_res"
   ]
  },
  {
   "cell_type": "markdown",
   "metadata": {},
   "source": [
    "### Forward index demo"
   ]
  },
  {
   "cell_type": "code",
   "execution_count": 12,
   "metadata": {},
   "outputs": [],
   "source": [
    "from scripts.py_flexneuart.fwd_index import get_forward_index"
   ]
  },
  {
   "cell_type": "markdown",
   "metadata": {},
   "source": [
    "#### First let's play with a raw index that keeps ony unparsed text"
   ]
  },
  {
   "cell_type": "code",
   "execution_count": 13,
   "metadata": {},
   "outputs": [],
   "source": [
    "raw_indx = get_forward_index(resource_manager, 'text_raw')"
   ]
  },
  {
   "cell_type": "code",
   "execution_count": 14,
   "metadata": {},
   "outputs": [
    {
     "data": {
      "text/plain": [
       "'textRaw'"
      ]
     },
     "execution_count": 14,
     "metadata": {},
     "output_type": "execute_result"
    }
   ],
   "source": [
    "# Index type\n",
    "raw_indx.indx_fld_type"
   ]
  },
  {
   "cell_type": "code",
   "execution_count": 15,
   "metadata": {},
   "outputs": [
    {
     "data": {
      "text/plain": [
       "'vein \"Vein Veins are blood vessels that carry blood toward the heart. Most veins carry deoxygenated blood from the tissues back to the heart; exceptions are the pulmonary and umbilical veins, both of which carry oxygenated blood to the heart. In contrast to veins, arteries carry blood away from the heart. Veins are less muscular than arteries and are often closer to the skin. There are valves in most veins to prevent backflow. Veins are present throughout the body as tubes that carry blood back to the heart. Veins are classified in a number of ways, including superficial vs. deep, pulmonary\"'"
      ]
     },
     "execution_count": 15,
     "metadata": {},
     "output_type": "execute_result"
    }
   ],
   "source": [
    "raw_indx.get_doc_text_raw('639661')"
   ]
  },
  {
   "cell_type": "markdown",
   "metadata": {},
   "source": [
    "#### A parsed index has more info"
   ]
  },
  {
   "cell_type": "code",
   "execution_count": 16,
   "metadata": {},
   "outputs": [],
   "source": [
    "parsed_indx = get_forward_index(resource_manager, 'text')"
   ]
  },
  {
   "cell_type": "code",
   "execution_count": 17,
   "metadata": {},
   "outputs": [
    {
     "data": {
      "text/plain": [
       "'parsedText'"
      ]
     },
     "execution_count": 17,
     "metadata": {},
     "output_type": "execute_result"
    }
   ],
   "source": [
    "# Index type\n",
    "parsed_indx.indx_fld_type"
   ]
  },
  {
   "cell_type": "code",
   "execution_count": 18,
   "metadata": {},
   "outputs": [
    {
     "data": {
      "text/plain": [
       "DocEntryParsed(word_ids=[75, 144, 210, 246, 506, 587, 589, 591, 594, 867, 1268, 1282, 2311, 2516, 3125, 3352, 4121, 5121, 7795, 8410, 8455, 12461, 14717, 14722, 14724, 23655, 23669, 27261, 59794, 102036], word_qtys=[1, 1, 5, 1, 5, 1, 1, 1, 1, 1, 1, 1, 2, 1, 1, 1, 1, 1, 9, 6, 2, 1, 1, 1, 2, 1, 1, 1, 1, 1], word_id_seq=[7795, 7795, 102036, 8410, 5121, 506, 8410, 210, 7795, 506, 23655, 8410, 587, 2311, 210, 14724, 23669, 7795, 506, 14717, 8410, 210, 4121, 7795, 8455, 506, 8410, 3125, 210, 7795, 27261, 8455, 246, 589, 14722, 7795, 1282, 59794, 7795, 1268, 75, 2516, 506, 8410, 2311, 210, 7795, 3352, 144, 867, 591, 12461, 594, 14724], doc_len=54)"
      ]
     },
     "execution_count": 18,
     "metadata": {},
     "output_type": "execute_result"
    }
   ],
   "source": [
    "parsed_indx.get_doc_parsed('639661')"
   ]
  },
  {
   "cell_type": "code",
   "execution_count": 19,
   "metadata": {},
   "outputs": [
    {
     "data": {
      "text/plain": [
       "('body', WordEntry(word_id=75, word_freq=17735))"
      ]
     },
     "execution_count": 19,
     "metadata": {},
     "output_type": "execute_result"
    }
   ],
   "source": [
    "# Let's extract the first document word and its info\n",
    "parsed_indx.get_word_by_id(75), parsed_indx.get_word_entry_by_id(75)"
   ]
  },
  {
   "cell_type": "markdown",
   "metadata": {},
   "source": [
    "### Ranker API demo"
   ]
  },
  {
   "cell_type": "code",
   "execution_count": 20,
   "metadata": {},
   "outputs": [],
   "source": [
    "from scripts.py_flexneuart.ranker import *\n",
    "from scripts.py_flexneuart.utils import *"
   ]
  },
  {
   "cell_type": "code",
   "execution_count": 21,
   "metadata": {},
   "outputs": [],
   "source": [
    "MODEL_FILE_NAME=f'collections/{COLLECTION}/exper_desc.best/models/bm25_model1.model'\n",
    "FEAT_EXTR_FILE_NAME=f'collections/{COLLECTION}/exper_desc.best/extractors/bm25=text+model1=text_bert_tok+lambda=0.3+probSelfTran=0.35.json'\n",
    "QUERY_FILE_NAME=f'collections/{COLLECTION}/input_data/dev/{QUESTION_FILE_JSON}'\n",
    "QREL_FILE_NAME=f'collections/{COLLECTION}/input_data/dev/{QREL_FILE}'"
   ]
  },
  {
   "cell_type": "markdown",
   "metadata": {},
   "source": [
    "#### A toy example where we generate a list of candidates for merely one query (using the candidate provider) and re-rank them using the Java-layer re-ranker"
   ]
  },
  {
   "cell_type": "code",
   "execution_count": 22,
   "metadata": {},
   "outputs": [],
   "source": [
    "java_ranker = JavaQueryRanker(resource_manager, \n",
    "                              feat_extr_file_name=FEAT_EXTR_FILE_NAME, \n",
    "                              model_file_name=MODEL_FILE_NAME)"
   ]
  },
  {
   "cell_type": "code",
   "execution_count": 23,
   "metadata": {},
   "outputs": [
    {
     "data": {
      "text/plain": [
       "[('639661', 0.4589444396983704),\n",
       " ('1776205', 0.4341061334562677),\n",
       " ('472789', 0.4324617381414335),\n",
       " ('8448903', 0.4124776432310974),\n",
       " ('8448902', 0.41143788988374125),\n",
       " ('35722', 0.39951390916561724),\n",
       " ('639669', 0.38760818984443224),\n",
       " ('3936360', 0.3864522671342978),\n",
       " ('1450640', 0.38388484121055044),\n",
       " ('588394', 0.38289955583934543),\n",
       " ('639670', 0.3823782759630887),\n",
       " ('639663', 0.3775039059463895),\n",
       " ('47133', 0.3731257557936975),\n",
       " ('1302853', 0.36679545440286726),\n",
       " ('639690', 0.3653150559189846),\n",
       " ('639671', 0.36361852471115813),\n",
       " ('1786523', 0.36268165971062455),\n",
       " ('2992576', 0.353630291595394),\n",
       " ('5622935', 0.3518175514979561),\n",
       " ('47129', 0.34765838000119853)]"
      ]
     },
     "execution_count": 23,
     "metadata": {},
     "output_type": "execute_result"
    }
   ],
   "source": [
    "query_dict = {DOCID_FIELD : FAKE_QUERY_ID, \n",
    "              TEXT_FIELD_NAME : QUERY_TEXT}\n",
    "java_ranker.rank_candidates(query_res[1], query_dict)"
   ]
  },
  {
   "cell_type": "markdown",
   "metadata": {},
   "source": [
    "#### There's a function (used only for evaluation) to score candidates without sorting them scores"
   ]
  },
  {
   "cell_type": "code",
   "execution_count": 24,
   "metadata": {},
   "outputs": [
    {
     "data": {
      "text/plain": [
       "{'639661': 0.4589444396983704,\n",
       " '472789': 0.4324617381414335,\n",
       " '1776205': 0.4341061334562677,\n",
       " '639669': 0.38760818984443224,\n",
       " '8448903': 0.4124776432310974,\n",
       " '8448902': 0.41143788988374125,\n",
       " '639670': 0.3823782759630887,\n",
       " '639663': 0.3775039059463895,\n",
       " '35722': 0.39951390916561724,\n",
       " '1302853': 0.36679545440286726,\n",
       " '639671': 0.36361852471115813,\n",
       " '1786523': 0.36268165971062455,\n",
       " '588394': 0.38289955583934543,\n",
       " '639690': 0.3653150559189846,\n",
       " '1450640': 0.38388484121055044,\n",
       " '3936360': 0.3864522671342978,\n",
       " '5622935': 0.3518175514979561,\n",
       " '2992576': 0.353630291595394,\n",
       " '47133': 0.3731257557936975,\n",
       " '47129': 0.34765838000119853}"
      ]
     },
     "execution_count": 24,
     "metadata": {},
     "output_type": "execute_result"
    }
   ],
   "source": [
    "java_ranker.score_candidates(query_res[1], query_dict)"
   ]
  },
  {
   "cell_type": "markdown",
   "metadata": {},
   "source": [
    "#### A toy example where we re-rank the list of candidate using a BERT re-ranker"
   ]
  },
  {
   "cell_type": "code",
   "execution_count": 25,
   "metadata": {},
   "outputs": [],
   "source": [
    "# Re-ranking on CPU, which can be fairly slow\n",
    "neural_ranker = PythonNNQueryRanker(resource_manager, \n",
    "                         query_field_name='text_raw', max_query_len=64,\n",
    "                         index_field_name='text_raw', max_doc_len = 512 - 32 - 3,\n",
    "                         device_name='cuda', batch_size=25, \n",
    "                         model_file_name=f'collections/{COLLECTION}/derived_data/ir_models/vanilla_bert/model.best')"
   ]
  },
  {
   "cell_type": "code",
   "execution_count": 27,
   "metadata": {},
   "outputs": [
    {
     "name": "stdout",
     "output_type": "stream",
     "text": [
      "> \u001b[0;32m/home/leo/SourceTreeGit/FlexNeuART.refact2021/scripts/py_flexneuart/ranker.py\u001b[0m(226)\u001b[0;36mscore_candidates\u001b[0;34m()\u001b[0m\n",
      "\u001b[0;32m    224 \u001b[0;31m        \u001b[0;32mimport\u001b[0m \u001b[0mpdb\u001b[0m \u001b[0;34m;\u001b[0m \u001b[0mpdb\u001b[0m\u001b[0;34m.\u001b[0m\u001b[0mset_trace\u001b[0m\u001b[0;34m(\u001b[0m\u001b[0;34m)\u001b[0m\u001b[0;34m\u001b[0m\u001b[0;34m\u001b[0m\u001b[0m\n",
      "\u001b[0m\u001b[0;32m    225 \u001b[0;31m\u001b[0;34m\u001b[0m\u001b[0m\n",
      "\u001b[0m\u001b[0;32m--> 226 \u001b[0;31m        \u001b[0;32mwith\u001b[0m \u001b[0mtorch\u001b[0m\u001b[0;34m.\u001b[0m\u001b[0mno_grad\u001b[0m\u001b[0;34m(\u001b[0m\u001b[0;34m)\u001b[0m\u001b[0;34m:\u001b[0m\u001b[0;34m\u001b[0m\u001b[0;34m\u001b[0m\u001b[0m\n",
      "\u001b[0m\u001b[0;32m    227 \u001b[0;31m            for records in iter_valid_records(self.model, self.device_name, data_set, run,\n",
      "\u001b[0m\u001b[0;32m    228 \u001b[0;31m                                              \u001b[0mself\u001b[0m\u001b[0;34m.\u001b[0m\u001b[0mbatch_size\u001b[0m\u001b[0;34m,\u001b[0m\u001b[0;34m\u001b[0m\u001b[0;34m\u001b[0m\u001b[0m\n",
      "\u001b[0m\n",
      "ipdb> p run\n",
      "{'fake_query_id': {'639661': 0, '472789': 0, '1776205': 0, '639669': 0, '8448903': 0, '8448902': 0, '639670': 0, '639663': 0, '35722': 0, '1302853': 0, '639671': 0, '1786523': 0, '588394': 0, '639690': 0, '1450640': 0, '3936360': 0, '5622935': 0, '2992576': 0, '47133': 0, '47129': 0}}\n",
      "ipdb> n\n",
      "> \u001b[0;32m/home/leo/SourceTreeGit/FlexNeuART.refact2021/scripts/py_flexneuart/ranker.py\u001b[0m(227)\u001b[0;36mscore_candidates\u001b[0;34m()\u001b[0m\n",
      "\u001b[0;32m    225 \u001b[0;31m\u001b[0;34m\u001b[0m\u001b[0m\n",
      "\u001b[0m\u001b[0;32m    226 \u001b[0;31m        \u001b[0;32mwith\u001b[0m \u001b[0mtorch\u001b[0m\u001b[0;34m.\u001b[0m\u001b[0mno_grad\u001b[0m\u001b[0;34m(\u001b[0m\u001b[0;34m)\u001b[0m\u001b[0;34m:\u001b[0m\u001b[0;34m\u001b[0m\u001b[0;34m\u001b[0m\u001b[0m\n",
      "\u001b[0m\u001b[0;32m--> 227 \u001b[0;31m            for records in iter_valid_records(self.model, self.device_name, data_set, run,\n",
      "\u001b[0m\u001b[0;32m    228 \u001b[0;31m                                              \u001b[0mself\u001b[0m\u001b[0;34m.\u001b[0m\u001b[0mbatch_size\u001b[0m\u001b[0;34m,\u001b[0m\u001b[0;34m\u001b[0m\u001b[0;34m\u001b[0m\u001b[0m\n",
      "\u001b[0m\u001b[0;32m    229 \u001b[0;31m                                              self.max_query_len, self.max_doc_len):\n",
      "\u001b[0m\n",
      "ipdb> \n",
      "> \u001b[0;32m/home/leo/SourceTreeGit/FlexNeuART.refact2021/scripts/py_flexneuart/ranker.py\u001b[0m(228)\u001b[0;36mscore_candidates\u001b[0;34m()\u001b[0m\n",
      "\u001b[0;32m    226 \u001b[0;31m        \u001b[0;32mwith\u001b[0m \u001b[0mtorch\u001b[0m\u001b[0;34m.\u001b[0m\u001b[0mno_grad\u001b[0m\u001b[0;34m(\u001b[0m\u001b[0;34m)\u001b[0m\u001b[0;34m:\u001b[0m\u001b[0;34m\u001b[0m\u001b[0;34m\u001b[0m\u001b[0m\n",
      "\u001b[0m\u001b[0;32m    227 \u001b[0;31m            for records in iter_valid_records(self.model, self.device_name, data_set, run,\n",
      "\u001b[0m\u001b[0;32m--> 228 \u001b[0;31m                                              \u001b[0mself\u001b[0m\u001b[0;34m.\u001b[0m\u001b[0mbatch_size\u001b[0m\u001b[0;34m,\u001b[0m\u001b[0;34m\u001b[0m\u001b[0;34m\u001b[0m\u001b[0m\n",
      "\u001b[0m\u001b[0;32m    229 \u001b[0;31m                                              self.max_query_len, self.max_doc_len):\n",
      "\u001b[0m\u001b[0;32m    230 \u001b[0;31m                scores = self.model(records[QUERY_TOK_FIELD],\n",
      "\u001b[0m\n",
      "ipdb> \n",
      "> \u001b[0;32m/home/leo/SourceTreeGit/FlexNeuART.refact2021/scripts/py_flexneuart/ranker.py\u001b[0m(229)\u001b[0;36mscore_candidates\u001b[0;34m()\u001b[0m\n",
      "\u001b[0;32m    227 \u001b[0;31m            for records in iter_valid_records(self.model, self.device_name, data_set, run,\n",
      "\u001b[0m\u001b[0;32m    228 \u001b[0;31m                                              \u001b[0mself\u001b[0m\u001b[0;34m.\u001b[0m\u001b[0mbatch_size\u001b[0m\u001b[0;34m,\u001b[0m\u001b[0;34m\u001b[0m\u001b[0;34m\u001b[0m\u001b[0m\n",
      "\u001b[0m\u001b[0;32m--> 229 \u001b[0;31m                                              self.max_query_len, self.max_doc_len):\n",
      "\u001b[0m\u001b[0;32m    230 \u001b[0;31m                scores = self.model(records[QUERY_TOK_FIELD],\n",
      "\u001b[0m\u001b[0;32m    231 \u001b[0;31m                                    \u001b[0mrecords\u001b[0m\u001b[0;34m[\u001b[0m\u001b[0mQUERY_MASK_FIELD\u001b[0m\u001b[0;34m]\u001b[0m\u001b[0;34m,\u001b[0m\u001b[0;34m\u001b[0m\u001b[0;34m\u001b[0m\u001b[0m\n",
      "\u001b[0m\n",
      "ipdb> records\n",
      "*** NameError: name 'records' is not defined\n",
      "ipdb> p records\n",
      "*** NameError: name 'records' is not defined\n",
      "ipdb> n\n",
      "> \u001b[0;32m/home/leo/SourceTreeGit/FlexNeuART.refact2021/scripts/py_flexneuart/ranker.py\u001b[0m(230)\u001b[0;36mscore_candidates\u001b[0;34m()\u001b[0m\n",
      "\u001b[0;32m    228 \u001b[0;31m                                              \u001b[0mself\u001b[0m\u001b[0;34m.\u001b[0m\u001b[0mbatch_size\u001b[0m\u001b[0;34m,\u001b[0m\u001b[0;34m\u001b[0m\u001b[0;34m\u001b[0m\u001b[0m\n",
      "\u001b[0m\u001b[0;32m    229 \u001b[0;31m                                              self.max_query_len, self.max_doc_len):\n",
      "\u001b[0m\u001b[0;32m--> 230 \u001b[0;31m                scores = self.model(records[QUERY_TOK_FIELD],\n",
      "\u001b[0m\u001b[0;32m    231 \u001b[0;31m                                    \u001b[0mrecords\u001b[0m\u001b[0;34m[\u001b[0m\u001b[0mQUERY_MASK_FIELD\u001b[0m\u001b[0;34m]\u001b[0m\u001b[0;34m,\u001b[0m\u001b[0;34m\u001b[0m\u001b[0;34m\u001b[0m\u001b[0m\n",
      "\u001b[0m\u001b[0;32m    232 \u001b[0;31m                                    \u001b[0mrecords\u001b[0m\u001b[0;34m[\u001b[0m\u001b[0mDOC_TOK_FIELD\u001b[0m\u001b[0;34m]\u001b[0m\u001b[0;34m,\u001b[0m\u001b[0;34m\u001b[0m\u001b[0;34m\u001b[0m\u001b[0m\n",
      "\u001b[0m\n",
      "ipdb> p records\n",
      "{'query_id': ['fake_query_id', 'fake_query_id', 'fake_query_id', 'fake_query_id', 'fake_query_id', 'fake_query_id', 'fake_query_id', 'fake_query_id', 'fake_query_id', 'fake_query_id', 'fake_query_id', 'fake_query_id', 'fake_query_id', 'fake_query_id', 'fake_query_id', 'fake_query_id', 'fake_query_id', 'fake_query_id', 'fake_query_id', 'fake_query_id'], 'doc_id': ['639661', '472789', '1776205', '639669', '8448903', '8448902', '639670', '639663', '35722', '1302853', '639671', '1786523', '588394', '639690', '1450640', '3936360', '5622935', '2992576', '47133', '47129'], 'cand_score': tensor([0., 0., 0., 0., 0., 0., 0., 0., 0., 0., 0., 0., 0., 0., 0., 0., 0., 0., 0., 0.],\n",
      "       device='cuda:0'), 'query_tok': tensor([[12818,  4287,  2668,  ...,    -1,    -1,    -1],\n",
      "        [12818,  4287,  2668,  ...,    -1,    -1,    -1],\n",
      "        [12818,  4287,  2668,  ...,    -1,    -1,    -1],\n",
      "        ...,\n",
      "        [12818,  4287,  2668,  ...,    -1,    -1,    -1],\n",
      "        [12818,  4287,  2668,  ...,    -1,    -1,    -1],\n",
      "        [12818,  4287,  2668,  ...,    -1,    -1,    -1]], device='cuda:0'), 'doc_tok': tensor([[12818,  1000, 12818,  ...,    -1,    -1,    -1],\n",
      "        [16749,  1000,  2185,  ...,    -1,    -1,    -1],\n",
      "        [ 8529, 14454,  7476,  ...,    -1,    -1,    -1],\n",
      "        ...,\n",
      "        [21908, 12818,  1000,  ...,    -1,    -1,    -1],\n",
      "        [ 2668,  1000,  2060,  ...,    -1,    -1,    -1],\n",
      "        [ 2668,  1000,  8137,  ...,    -1,    -1,    -1]], device='cuda:0'), 'query_mask': tensor([[1., 1., 1.,  ..., 0., 0., 0.],\n",
      "        [1., 1., 1.,  ..., 0., 0., 0.],\n",
      "        [1., 1., 1.,  ..., 0., 0., 0.],\n",
      "        ...,\n",
      "        [1., 1., 1.,  ..., 0., 0., 0.],\n",
      "        [1., 1., 1.,  ..., 0., 0., 0.],\n",
      "        [1., 1., 1.,  ..., 0., 0., 0.]], device='cuda:0'), 'doc_mask': tensor([[1., 1., 1.,  ..., 0., 0., 0.],\n",
      "        [1., 1., 1.,  ..., 0., 0., 0.],\n",
      "        [1., 1., 1.,  ..., 0., 0., 0.],\n",
      "        ...,\n",
      "        [1., 1., 1.,  ..., 0., 0., 0.],\n",
      "        [1., 1., 1.,  ..., 0., 0., 0.],\n",
      "        [1., 1., 1.,  ..., 0., 0., 0.]], device='cuda:0')}\n",
      "ipdb> n\n",
      "> \u001b[0;32m/home/leo/SourceTreeGit/FlexNeuART.refact2021/scripts/py_flexneuart/ranker.py\u001b[0m(231)\u001b[0;36mscore_candidates\u001b[0;34m()\u001b[0m\n",
      "\u001b[0;32m    229 \u001b[0;31m                                              self.max_query_len, self.max_doc_len):\n",
      "\u001b[0m\u001b[0;32m    230 \u001b[0;31m                scores = self.model(records[QUERY_TOK_FIELD],\n",
      "\u001b[0m\u001b[0;32m--> 231 \u001b[0;31m                                    \u001b[0mrecords\u001b[0m\u001b[0;34m[\u001b[0m\u001b[0mQUERY_MASK_FIELD\u001b[0m\u001b[0;34m]\u001b[0m\u001b[0;34m,\u001b[0m\u001b[0;34m\u001b[0m\u001b[0;34m\u001b[0m\u001b[0m\n",
      "\u001b[0m\u001b[0;32m    232 \u001b[0;31m                                    \u001b[0mrecords\u001b[0m\u001b[0;34m[\u001b[0m\u001b[0mDOC_TOK_FIELD\u001b[0m\u001b[0;34m]\u001b[0m\u001b[0;34m,\u001b[0m\u001b[0;34m\u001b[0m\u001b[0;34m\u001b[0m\u001b[0m\n",
      "\u001b[0m\u001b[0;32m    233 \u001b[0;31m                                    records[DOC_MASK_FIELD])\n",
      "\u001b[0m\n",
      "ipdb> \n",
      "> \u001b[0;32m/home/leo/SourceTreeGit/FlexNeuART.refact2021/scripts/py_flexneuart/ranker.py\u001b[0m(232)\u001b[0;36mscore_candidates\u001b[0;34m()\u001b[0m\n",
      "\u001b[0;32m    230 \u001b[0;31m                scores = self.model(records[QUERY_TOK_FIELD],\n",
      "\u001b[0m\u001b[0;32m    231 \u001b[0;31m                                    \u001b[0mrecords\u001b[0m\u001b[0;34m[\u001b[0m\u001b[0mQUERY_MASK_FIELD\u001b[0m\u001b[0;34m]\u001b[0m\u001b[0;34m,\u001b[0m\u001b[0;34m\u001b[0m\u001b[0;34m\u001b[0m\u001b[0m\n",
      "\u001b[0m\u001b[0;32m--> 232 \u001b[0;31m                                    \u001b[0mrecords\u001b[0m\u001b[0;34m[\u001b[0m\u001b[0mDOC_TOK_FIELD\u001b[0m\u001b[0;34m]\u001b[0m\u001b[0;34m,\u001b[0m\u001b[0;34m\u001b[0m\u001b[0;34m\u001b[0m\u001b[0m\n",
      "\u001b[0m\u001b[0;32m    233 \u001b[0;31m                                    records[DOC_MASK_FIELD])\n",
      "\u001b[0m\u001b[0;32m    234 \u001b[0;31m\u001b[0;34m\u001b[0m\u001b[0m\n",
      "\u001b[0m\n",
      "ipdb> \n",
      "> \u001b[0;32m/home/leo/SourceTreeGit/FlexNeuART.refact2021/scripts/py_flexneuart/ranker.py\u001b[0m(233)\u001b[0;36mscore_candidates\u001b[0;34m()\u001b[0m\n",
      "\u001b[0;32m    231 \u001b[0;31m                                    \u001b[0mrecords\u001b[0m\u001b[0;34m[\u001b[0m\u001b[0mQUERY_MASK_FIELD\u001b[0m\u001b[0;34m]\u001b[0m\u001b[0;34m,\u001b[0m\u001b[0;34m\u001b[0m\u001b[0;34m\u001b[0m\u001b[0m\n",
      "\u001b[0m\u001b[0;32m    232 \u001b[0;31m                                    \u001b[0mrecords\u001b[0m\u001b[0;34m[\u001b[0m\u001b[0mDOC_TOK_FIELD\u001b[0m\u001b[0;34m]\u001b[0m\u001b[0;34m,\u001b[0m\u001b[0;34m\u001b[0m\u001b[0;34m\u001b[0m\u001b[0m\n",
      "\u001b[0m\u001b[0;32m--> 233 \u001b[0;31m                                    records[DOC_MASK_FIELD])\n",
      "\u001b[0m\u001b[0;32m    234 \u001b[0;31m\u001b[0;34m\u001b[0m\u001b[0m\n",
      "\u001b[0m\u001b[0;32m    235 \u001b[0;31m                \u001b[0mscores\u001b[0m \u001b[0;34m=\u001b[0m \u001b[0mscores\u001b[0m\u001b[0;34m.\u001b[0m\u001b[0mtolist\u001b[0m\u001b[0;34m(\u001b[0m\u001b[0;34m)\u001b[0m\u001b[0;34m\u001b[0m\u001b[0;34m\u001b[0m\u001b[0m\n",
      "\u001b[0m\n"
     ]
    },
    {
     "name": "stdout",
     "output_type": "stream",
     "text": [
      "ipdb> scores.shape\n",
      "*** NameError: name 'scores' is not defined\n",
      "ipdb> n\n",
      "> \u001b[0;32m/home/leo/SourceTreeGit/FlexNeuART.refact2021/scripts/py_flexneuart/ranker.py\u001b[0m(235)\u001b[0;36mscore_candidates\u001b[0;34m()\u001b[0m\n",
      "\u001b[0;32m    233 \u001b[0;31m                                    records[DOC_MASK_FIELD])\n",
      "\u001b[0m\u001b[0;32m    234 \u001b[0;31m\u001b[0;34m\u001b[0m\u001b[0m\n",
      "\u001b[0m\u001b[0;32m--> 235 \u001b[0;31m                \u001b[0mscores\u001b[0m \u001b[0;34m=\u001b[0m \u001b[0mscores\u001b[0m\u001b[0;34m.\u001b[0m\u001b[0mtolist\u001b[0m\u001b[0;34m(\u001b[0m\u001b[0;34m)\u001b[0m\u001b[0;34m\u001b[0m\u001b[0;34m\u001b[0m\u001b[0m\n",
      "\u001b[0m\u001b[0;32m    236 \u001b[0;31m\u001b[0;34m\u001b[0m\u001b[0m\n",
      "\u001b[0m\u001b[0;32m    237 \u001b[0;31m                \u001b[0;32mfor\u001b[0m \u001b[0mqid\u001b[0m\u001b[0;34m,\u001b[0m \u001b[0mdid\u001b[0m\u001b[0;34m,\u001b[0m \u001b[0mscore\u001b[0m \u001b[0;32min\u001b[0m \u001b[0mzip\u001b[0m\u001b[0;34m(\u001b[0m\u001b[0mrecords\u001b[0m\u001b[0;34m[\u001b[0m\u001b[0mQUERY_ID_FIELD\u001b[0m\u001b[0;34m]\u001b[0m\u001b[0;34m,\u001b[0m \u001b[0mrecords\u001b[0m\u001b[0;34m[\u001b[0m\u001b[0mDOC_ID_FIELD\u001b[0m\u001b[0;34m]\u001b[0m\u001b[0;34m,\u001b[0m \u001b[0mscores\u001b[0m\u001b[0;34m)\u001b[0m\u001b[0;34m:\u001b[0m\u001b[0;34m\u001b[0m\u001b[0;34m\u001b[0m\u001b[0m\n",
      "\u001b[0m\n",
      "ipdb> scores.shape\n",
      "torch.Size([20])\n",
      "ipdb> scores\n",
      "tensor([3.1648, 2.1924, 1.6631, 1.7364, 1.4759, 1.1316, 2.0322, 1.7072, 1.9419,\n",
      "        0.8632, 1.7556, 1.8832, 1.2385, 2.2597, 1.1466, 1.3319, 0.7988, 0.3805,\n",
      "        0.6458, 0.8424], device='cuda:0')\n",
      "ipdb> records['query_id']\n",
      "['fake_query_id', 'fake_query_id', 'fake_query_id', 'fake_query_id', 'fake_query_id', 'fake_query_id', 'fake_query_id', 'fake_query_id', 'fake_query_id', 'fake_query_id', 'fake_query_id', 'fake_query_id', 'fake_query_id', 'fake_query_id', 'fake_query_id', 'fake_query_id', 'fake_query_id', 'fake_query_id', 'fake_query_id', 'fake_query_id']\n",
      "ipdb> records['doc_id']\n",
      "['639661', '472789', '1776205', '639669', '8448903', '8448902', '639670', '639663', '35722', '1302853', '639671', '1786523', '588394', '639690', '1450640', '3936360', '5622935', '2992576', '47133', '47129']\n",
      "ipdb> n\n",
      "> \u001b[0;32m/home/leo/SourceTreeGit/FlexNeuART.refact2021/scripts/py_flexneuart/ranker.py\u001b[0m(237)\u001b[0;36mscore_candidates\u001b[0;34m()\u001b[0m\n",
      "\u001b[0;32m    235 \u001b[0;31m                \u001b[0mscores\u001b[0m \u001b[0;34m=\u001b[0m \u001b[0mscores\u001b[0m\u001b[0;34m.\u001b[0m\u001b[0mtolist\u001b[0m\u001b[0;34m(\u001b[0m\u001b[0;34m)\u001b[0m\u001b[0;34m\u001b[0m\u001b[0;34m\u001b[0m\u001b[0m\n",
      "\u001b[0m\u001b[0;32m    236 \u001b[0;31m\u001b[0;34m\u001b[0m\u001b[0m\n",
      "\u001b[0m\u001b[0;32m--> 237 \u001b[0;31m                \u001b[0;32mfor\u001b[0m \u001b[0mqid\u001b[0m\u001b[0;34m,\u001b[0m \u001b[0mdid\u001b[0m\u001b[0;34m,\u001b[0m \u001b[0mscore\u001b[0m \u001b[0;32min\u001b[0m \u001b[0mzip\u001b[0m\u001b[0;34m(\u001b[0m\u001b[0mrecords\u001b[0m\u001b[0;34m[\u001b[0m\u001b[0mQUERY_ID_FIELD\u001b[0m\u001b[0;34m]\u001b[0m\u001b[0;34m,\u001b[0m \u001b[0mrecords\u001b[0m\u001b[0;34m[\u001b[0m\u001b[0mDOC_ID_FIELD\u001b[0m\u001b[0;34m]\u001b[0m\u001b[0;34m,\u001b[0m \u001b[0mscores\u001b[0m\u001b[0;34m)\u001b[0m\u001b[0;34m:\u001b[0m\u001b[0;34m\u001b[0m\u001b[0;34m\u001b[0m\u001b[0m\n",
      "\u001b[0m\u001b[0;32m    238 \u001b[0;31m                    \u001b[0mres\u001b[0m\u001b[0;34m[\u001b[0m\u001b[0mdoc_id\u001b[0m\u001b[0;34m]\u001b[0m \u001b[0;34m=\u001b[0m \u001b[0mscore\u001b[0m\u001b[0;34m\u001b[0m\u001b[0;34m\u001b[0m\u001b[0m\n",
      "\u001b[0m\u001b[0;32m    239 \u001b[0;31m\u001b[0;34m\u001b[0m\u001b[0m\n",
      "\u001b[0m\n",
      "ipdb> scores\n",
      "[3.1647984981536865, 2.1923577785491943, 1.663066029548645, 1.7364437580108643, 1.4759409427642822, 1.131631851196289, 2.032242774963379, 1.7072409391403198, 1.9418951272964478, 0.8631684184074402, 1.755630373954773, 1.8832405805587769, 1.2384809255599976, 2.259718656539917, 1.1465526819229126, 1.3319076299667358, 0.798784613609314, 0.380513995885849, 0.6458267569541931, 0.8423947095870972]\n",
      "ipdb> n\n",
      "> \u001b[0;32m/home/leo/SourceTreeGit/FlexNeuART.refact2021/scripts/py_flexneuart/ranker.py\u001b[0m(238)\u001b[0;36mscore_candidates\u001b[0;34m()\u001b[0m\n",
      "\u001b[0;32m    236 \u001b[0;31m\u001b[0;34m\u001b[0m\u001b[0m\n",
      "\u001b[0m\u001b[0;32m    237 \u001b[0;31m                \u001b[0;32mfor\u001b[0m \u001b[0mqid\u001b[0m\u001b[0;34m,\u001b[0m \u001b[0mdid\u001b[0m\u001b[0;34m,\u001b[0m \u001b[0mscore\u001b[0m \u001b[0;32min\u001b[0m \u001b[0mzip\u001b[0m\u001b[0;34m(\u001b[0m\u001b[0mrecords\u001b[0m\u001b[0;34m[\u001b[0m\u001b[0mQUERY_ID_FIELD\u001b[0m\u001b[0;34m]\u001b[0m\u001b[0;34m,\u001b[0m \u001b[0mrecords\u001b[0m\u001b[0;34m[\u001b[0m\u001b[0mDOC_ID_FIELD\u001b[0m\u001b[0;34m]\u001b[0m\u001b[0;34m,\u001b[0m \u001b[0mscores\u001b[0m\u001b[0;34m)\u001b[0m\u001b[0;34m:\u001b[0m\u001b[0;34m\u001b[0m\u001b[0;34m\u001b[0m\u001b[0m\n",
      "\u001b[0m\u001b[0;32m--> 238 \u001b[0;31m                    \u001b[0mres\u001b[0m\u001b[0;34m[\u001b[0m\u001b[0mdoc_id\u001b[0m\u001b[0;34m]\u001b[0m \u001b[0;34m=\u001b[0m \u001b[0mscore\u001b[0m\u001b[0;34m\u001b[0m\u001b[0;34m\u001b[0m\u001b[0m\n",
      "\u001b[0m\u001b[0;32m    239 \u001b[0;31m\u001b[0;34m\u001b[0m\u001b[0m\n",
      "\u001b[0m\u001b[0;32m    240 \u001b[0;31m        \u001b[0;32mreturn\u001b[0m \u001b[0mres\u001b[0m\u001b[0;34m\u001b[0m\u001b[0;34m\u001b[0m\u001b[0m\n",
      "\u001b[0m\n",
      "ipdb> l\n",
      "\u001b[1;32m    233 \u001b[0m                                    records[DOC_MASK_FIELD])\n",
      "\u001b[1;32m    234 \u001b[0m\u001b[0;34m\u001b[0m\u001b[0m\n",
      "\u001b[1;32m    235 \u001b[0m                \u001b[0mscores\u001b[0m \u001b[0;34m=\u001b[0m \u001b[0mscores\u001b[0m\u001b[0;34m.\u001b[0m\u001b[0mtolist\u001b[0m\u001b[0;34m(\u001b[0m\u001b[0;34m)\u001b[0m\u001b[0;34m\u001b[0m\u001b[0;34m\u001b[0m\u001b[0m\n",
      "\u001b[1;32m    236 \u001b[0m\u001b[0;34m\u001b[0m\u001b[0m\n",
      "\u001b[1;32m    237 \u001b[0m                \u001b[0;32mfor\u001b[0m \u001b[0mqid\u001b[0m\u001b[0;34m,\u001b[0m \u001b[0mdid\u001b[0m\u001b[0;34m,\u001b[0m \u001b[0mscore\u001b[0m \u001b[0;32min\u001b[0m \u001b[0mzip\u001b[0m\u001b[0;34m(\u001b[0m\u001b[0mrecords\u001b[0m\u001b[0;34m[\u001b[0m\u001b[0mQUERY_ID_FIELD\u001b[0m\u001b[0;34m]\u001b[0m\u001b[0;34m,\u001b[0m \u001b[0mrecords\u001b[0m\u001b[0;34m[\u001b[0m\u001b[0mDOC_ID_FIELD\u001b[0m\u001b[0;34m]\u001b[0m\u001b[0;34m,\u001b[0m \u001b[0mscores\u001b[0m\u001b[0;34m)\u001b[0m\u001b[0;34m:\u001b[0m\u001b[0;34m\u001b[0m\u001b[0;34m\u001b[0m\u001b[0m\n",
      "\u001b[0;32m--> 238 \u001b[0;31m                    \u001b[0mres\u001b[0m\u001b[0;34m[\u001b[0m\u001b[0mdoc_id\u001b[0m\u001b[0;34m]\u001b[0m \u001b[0;34m=\u001b[0m \u001b[0mscore\u001b[0m\u001b[0;34m\u001b[0m\u001b[0;34m\u001b[0m\u001b[0m\n",
      "\u001b[0m\u001b[1;32m    239 \u001b[0m\u001b[0;34m\u001b[0m\u001b[0m\n",
      "\u001b[1;32m    240 \u001b[0m        \u001b[0;32mreturn\u001b[0m \u001b[0mres\u001b[0m\u001b[0;34m\u001b[0m\u001b[0;34m\u001b[0m\u001b[0m\n",
      "\u001b[1;32m    241 \u001b[0m\u001b[0;34m\u001b[0m\u001b[0m\n",
      "\u001b[1;32m    242 \u001b[0m\u001b[0;34m\u001b[0m\u001b[0m\n",
      "\n",
      "ipdb> exit\n"
     ]
    },
    {
     "ename": "BdbQuit",
     "evalue": "",
     "output_type": "error",
     "traceback": [
      "\u001b[0;31m---------------------------------------------------------------------------\u001b[0m",
      "\u001b[0;31mBdbQuit\u001b[0m                                   Traceback (most recent call last)",
      "\u001b[0;32m<ipython-input-27-4efe73279beb>\u001b[0m in \u001b[0;36m<module>\u001b[0;34m\u001b[0m\n\u001b[1;32m      1\u001b[0m query_dict = {DOCID_FIELD : FAKE_QUERY_ID, \n\u001b[1;32m      2\u001b[0m               'text_raw' : QUERY_TEXT}\n\u001b[0;32m----> 3\u001b[0;31m \u001b[0mneural_ranker\u001b[0m\u001b[0;34m.\u001b[0m\u001b[0mrank_candidates\u001b[0m\u001b[0;34m(\u001b[0m\u001b[0mquery_res\u001b[0m\u001b[0;34m[\u001b[0m\u001b[0;36m1\u001b[0m\u001b[0;34m]\u001b[0m\u001b[0;34m,\u001b[0m \u001b[0mquery_dict\u001b[0m\u001b[0;34m)\u001b[0m\u001b[0;34m\u001b[0m\u001b[0;34m\u001b[0m\u001b[0m\n\u001b[0m",
      "\u001b[0;32m~/SourceTreeGit/FlexNeuART.refact2021/scripts/py_flexneuart/ranker.py\u001b[0m in \u001b[0;36mrank_candidates\u001b[0;34m(self, cand_list, query_info_obj_or_dict)\u001b[0m\n\u001b[1;32m     71\u001b[0m         \u001b[0mtmp_res\u001b[0m \u001b[0;34m=\u001b[0m \u001b[0;34m[\u001b[0m\u001b[0;34m]\u001b[0m\u001b[0;34m\u001b[0m\u001b[0;34m\u001b[0m\u001b[0m\n\u001b[1;32m     72\u001b[0m \u001b[0;34m\u001b[0m\u001b[0m\n\u001b[0;32m---> 73\u001b[0;31m         \u001b[0;32mfor\u001b[0m \u001b[0mdid\u001b[0m\u001b[0;34m,\u001b[0m \u001b[0mscore\u001b[0m \u001b[0;32min\u001b[0m \u001b[0mself\u001b[0m\u001b[0;34m.\u001b[0m\u001b[0mscore_candidates\u001b[0m\u001b[0;34m(\u001b[0m\u001b[0mcand_list\u001b[0m\u001b[0;34m,\u001b[0m \u001b[0mquery_info_obj_or_dict\u001b[0m\u001b[0;34m)\u001b[0m\u001b[0;34m.\u001b[0m\u001b[0mitems\u001b[0m\u001b[0;34m(\u001b[0m\u001b[0;34m)\u001b[0m\u001b[0;34m:\u001b[0m\u001b[0;34m\u001b[0m\u001b[0;34m\u001b[0m\u001b[0m\n\u001b[0m\u001b[1;32m     74\u001b[0m             \u001b[0mtmp_res\u001b[0m\u001b[0;34m.\u001b[0m\u001b[0mappend\u001b[0m\u001b[0;34m(\u001b[0m \u001b[0;34m(\u001b[0m\u001b[0mscore\u001b[0m\u001b[0;34m,\u001b[0m \u001b[0mdid\u001b[0m\u001b[0;34m)\u001b[0m\u001b[0;34m)\u001b[0m\u001b[0;34m\u001b[0m\u001b[0;34m\u001b[0m\u001b[0m\n\u001b[1;32m     75\u001b[0m \u001b[0;34m\u001b[0m\u001b[0m\n",
      "\u001b[0;32m~/SourceTreeGit/FlexNeuART.refact2021/scripts/py_flexneuart/ranker.py\u001b[0m in \u001b[0;36mscore_candidates\u001b[0;34m(self, cand_list, query_info_obj_or_dict)\u001b[0m\n\u001b[1;32m    236\u001b[0m \u001b[0;34m\u001b[0m\u001b[0m\n\u001b[1;32m    237\u001b[0m                 \u001b[0;32mfor\u001b[0m \u001b[0mqid\u001b[0m\u001b[0;34m,\u001b[0m \u001b[0mdid\u001b[0m\u001b[0;34m,\u001b[0m \u001b[0mscore\u001b[0m \u001b[0;32min\u001b[0m \u001b[0mzip\u001b[0m\u001b[0;34m(\u001b[0m\u001b[0mrecords\u001b[0m\u001b[0;34m[\u001b[0m\u001b[0mQUERY_ID_FIELD\u001b[0m\u001b[0;34m]\u001b[0m\u001b[0;34m,\u001b[0m \u001b[0mrecords\u001b[0m\u001b[0;34m[\u001b[0m\u001b[0mDOC_ID_FIELD\u001b[0m\u001b[0;34m]\u001b[0m\u001b[0;34m,\u001b[0m \u001b[0mscores\u001b[0m\u001b[0;34m)\u001b[0m\u001b[0;34m:\u001b[0m\u001b[0;34m\u001b[0m\u001b[0;34m\u001b[0m\u001b[0m\n\u001b[0;32m--> 238\u001b[0;31m                     \u001b[0mres\u001b[0m\u001b[0;34m[\u001b[0m\u001b[0mdoc_id\u001b[0m\u001b[0;34m]\u001b[0m \u001b[0;34m=\u001b[0m \u001b[0mscore\u001b[0m\u001b[0;34m\u001b[0m\u001b[0;34m\u001b[0m\u001b[0m\n\u001b[0m\u001b[1;32m    239\u001b[0m \u001b[0;34m\u001b[0m\u001b[0m\n\u001b[1;32m    240\u001b[0m         \u001b[0;32mreturn\u001b[0m \u001b[0mres\u001b[0m\u001b[0;34m\u001b[0m\u001b[0;34m\u001b[0m\u001b[0m\n",
      "\u001b[0;32m~/SourceTreeGit/FlexNeuART.refact2021/scripts/py_flexneuart/ranker.py\u001b[0m in \u001b[0;36mscore_candidates\u001b[0;34m(self, cand_list, query_info_obj_or_dict)\u001b[0m\n\u001b[1;32m    236\u001b[0m \u001b[0;34m\u001b[0m\u001b[0m\n\u001b[1;32m    237\u001b[0m                 \u001b[0;32mfor\u001b[0m \u001b[0mqid\u001b[0m\u001b[0;34m,\u001b[0m \u001b[0mdid\u001b[0m\u001b[0;34m,\u001b[0m \u001b[0mscore\u001b[0m \u001b[0;32min\u001b[0m \u001b[0mzip\u001b[0m\u001b[0;34m(\u001b[0m\u001b[0mrecords\u001b[0m\u001b[0;34m[\u001b[0m\u001b[0mQUERY_ID_FIELD\u001b[0m\u001b[0;34m]\u001b[0m\u001b[0;34m,\u001b[0m \u001b[0mrecords\u001b[0m\u001b[0;34m[\u001b[0m\u001b[0mDOC_ID_FIELD\u001b[0m\u001b[0;34m]\u001b[0m\u001b[0;34m,\u001b[0m \u001b[0mscores\u001b[0m\u001b[0;34m)\u001b[0m\u001b[0;34m:\u001b[0m\u001b[0;34m\u001b[0m\u001b[0;34m\u001b[0m\u001b[0m\n\u001b[0;32m--> 238\u001b[0;31m                     \u001b[0mres\u001b[0m\u001b[0;34m[\u001b[0m\u001b[0mdoc_id\u001b[0m\u001b[0;34m]\u001b[0m \u001b[0;34m=\u001b[0m \u001b[0mscore\u001b[0m\u001b[0;34m\u001b[0m\u001b[0;34m\u001b[0m\u001b[0m\n\u001b[0m\u001b[1;32m    239\u001b[0m \u001b[0;34m\u001b[0m\u001b[0m\n\u001b[1;32m    240\u001b[0m         \u001b[0;32mreturn\u001b[0m \u001b[0mres\u001b[0m\u001b[0;34m\u001b[0m\u001b[0;34m\u001b[0m\u001b[0m\n",
      "\u001b[0;32m~/.conda/envs/knn4qa/lib/python3.6/bdb.py\u001b[0m in \u001b[0;36mtrace_dispatch\u001b[0;34m(self, frame, event, arg)\u001b[0m\n\u001b[1;32m     49\u001b[0m             \u001b[0;32mreturn\u001b[0m \u001b[0;31m# None\u001b[0m\u001b[0;34m\u001b[0m\u001b[0;34m\u001b[0m\u001b[0m\n\u001b[1;32m     50\u001b[0m         \u001b[0;32mif\u001b[0m \u001b[0mevent\u001b[0m \u001b[0;34m==\u001b[0m \u001b[0;34m'line'\u001b[0m\u001b[0;34m:\u001b[0m\u001b[0;34m\u001b[0m\u001b[0;34m\u001b[0m\u001b[0m\n\u001b[0;32m---> 51\u001b[0;31m             \u001b[0;32mreturn\u001b[0m \u001b[0mself\u001b[0m\u001b[0;34m.\u001b[0m\u001b[0mdispatch_line\u001b[0m\u001b[0;34m(\u001b[0m\u001b[0mframe\u001b[0m\u001b[0;34m)\u001b[0m\u001b[0;34m\u001b[0m\u001b[0;34m\u001b[0m\u001b[0m\n\u001b[0m\u001b[1;32m     52\u001b[0m         \u001b[0;32mif\u001b[0m \u001b[0mevent\u001b[0m \u001b[0;34m==\u001b[0m \u001b[0;34m'call'\u001b[0m\u001b[0;34m:\u001b[0m\u001b[0;34m\u001b[0m\u001b[0;34m\u001b[0m\u001b[0m\n\u001b[1;32m     53\u001b[0m             \u001b[0;32mreturn\u001b[0m \u001b[0mself\u001b[0m\u001b[0;34m.\u001b[0m\u001b[0mdispatch_call\u001b[0m\u001b[0;34m(\u001b[0m\u001b[0mframe\u001b[0m\u001b[0;34m,\u001b[0m \u001b[0marg\u001b[0m\u001b[0;34m)\u001b[0m\u001b[0;34m\u001b[0m\u001b[0;34m\u001b[0m\u001b[0m\n",
      "\u001b[0;32m~/.conda/envs/knn4qa/lib/python3.6/bdb.py\u001b[0m in \u001b[0;36mdispatch_line\u001b[0;34m(self, frame)\u001b[0m\n\u001b[1;32m     68\u001b[0m         \u001b[0;32mif\u001b[0m \u001b[0mself\u001b[0m\u001b[0;34m.\u001b[0m\u001b[0mstop_here\u001b[0m\u001b[0;34m(\u001b[0m\u001b[0mframe\u001b[0m\u001b[0;34m)\u001b[0m \u001b[0;32mor\u001b[0m \u001b[0mself\u001b[0m\u001b[0;34m.\u001b[0m\u001b[0mbreak_here\u001b[0m\u001b[0;34m(\u001b[0m\u001b[0mframe\u001b[0m\u001b[0;34m)\u001b[0m\u001b[0;34m:\u001b[0m\u001b[0;34m\u001b[0m\u001b[0;34m\u001b[0m\u001b[0m\n\u001b[1;32m     69\u001b[0m             \u001b[0mself\u001b[0m\u001b[0;34m.\u001b[0m\u001b[0muser_line\u001b[0m\u001b[0;34m(\u001b[0m\u001b[0mframe\u001b[0m\u001b[0;34m)\u001b[0m\u001b[0;34m\u001b[0m\u001b[0;34m\u001b[0m\u001b[0m\n\u001b[0;32m---> 70\u001b[0;31m             \u001b[0;32mif\u001b[0m \u001b[0mself\u001b[0m\u001b[0;34m.\u001b[0m\u001b[0mquitting\u001b[0m\u001b[0;34m:\u001b[0m \u001b[0;32mraise\u001b[0m \u001b[0mBdbQuit\u001b[0m\u001b[0;34m\u001b[0m\u001b[0;34m\u001b[0m\u001b[0m\n\u001b[0m\u001b[1;32m     71\u001b[0m         \u001b[0;32mreturn\u001b[0m \u001b[0mself\u001b[0m\u001b[0;34m.\u001b[0m\u001b[0mtrace_dispatch\u001b[0m\u001b[0;34m\u001b[0m\u001b[0;34m\u001b[0m\u001b[0m\n\u001b[1;32m     72\u001b[0m \u001b[0;34m\u001b[0m\u001b[0m\n",
      "\u001b[0;31mBdbQuit\u001b[0m: "
     ]
    }
   ],
   "source": [
    "query_dict = {DOCID_FIELD : FAKE_QUERY_ID, \n",
    "              'text_raw' : QUERY_TEXT}\n",
    "neural_ranker.rank_candidates(query_res[1], query_dict)"
   ]
  },
  {
   "cell_type": "code",
   "execution_count": null,
   "metadata": {},
   "outputs": [],
   "source": [
    "query_dict = {DOCID_FIELD : FAKE_QUERY_ID, \n",
    "              'text_raw' : QUERY_TEXT}\n",
    "import pdb ; pdb.set_trace()\n",
    "neural_ranker.score_candidates(query_res[1], query_dict)"
   ]
  },
  {
   "cell_type": "code",
   "execution_count": null,
   "metadata": {},
   "outputs": [],
   "source": [
    "query_res[1]"
   ]
  },
  {
   "cell_type": "markdown",
   "metadata": {},
   "source": [
    "#### A comprehensive example where we evaluate **all** queries from `dev`"
   ]
  },
  {
   "cell_type": "code",
   "execution_count": null,
   "metadata": {},
   "outputs": [],
   "source": [
    "from scripts.data_convert.convert_common import *\n",
    "all_queries = read_queries(QUERY_FILE_NAME)"
   ]
  },
  {
   "cell_type": "code",
   "execution_count": null,
   "metadata": {},
   "outputs": [],
   "source": [
    "# Query sample\n",
    "all_queries[0:5]"
   ]
  },
  {
   "cell_type": "markdown",
   "metadata": {},
   "source": [
    "### Queries have one extra field that cannot be \"digested\" by the ranking API and we need to delete it:"
   ]
  },
  {
   "cell_type": "code",
   "execution_count": null,
   "metadata": {},
   "outputs": [],
   "source": [
    "from tqdm import tqdm\n",
    "for query_dict in tqdm(all_queries):\n",
    "    # Delete this field, it cannot be used by ranker\n",
    "    del query_dict['answer_list']"
   ]
  },
  {
   "cell_type": "code",
   "execution_count": null,
   "metadata": {},
   "outputs": [],
   "source": [
    "from scripts.common_eval import *\n",
    "from scripts.utils import sync_out_streams\n",
    "from tqdm import tqdm\n",
    "\n",
    "TOP_K=50\n",
    "qrels=read_qrels_dict(QREL_FILE_NAME)\n",
    "\n",
    "for ranker in [java_ranker, neural_ranker]:\n",
    "    run_dict = {}\n",
    "    with tqdm(all_queries[0:100]) as pbar:\n",
    "        for query_dict in pbar:\n",
    "            qid = query_dict[DOCID_FIELD]\n",
    "            query_res = run_query(cand_prov, TOP_K, query_dict)\n",
    "            rank_res = ranker.score_candidates(query_res[1], query_dict)\n",
    "            run_dict[qid] = rank_res\n",
    "    tqdm.write('\\n')\n",
    "        \n",
    "    # Let us compute various metrics using our Python code. \n",
    "    # Note that results should generally match results obtained using `scripts/exper/run_experiments.sh`\n",
    "    for eval_obj in [NormalizedDiscountedCumulativeGain(10), \\\n",
    "                 NormalizedDiscountedCumulativeGain(20), \\\n",
    "                 MeanAveragePrecision(), \\\n",
    "                 MeanReciprocalRank()]:\n",
    "        tqdm.write(str(eval_run(rerank_run=run_dict, metric_func=eval_obj, qrels_dict=qrels)) + '\\n')\n",
    "    \n",
    "    tqdm.write('==========================='+ '\\n')"
   ]
  },
  {
   "cell_type": "markdown",
   "metadata": {},
   "source": [
    "#### Optionally we can save the run to be later evaluated using external evaluation tools"
   ]
  },
  {
   "cell_type": "code",
   "execution_count": null,
   "metadata": {},
   "outputs": [],
   "source": [
    "write_run_dict(run_dict, 'run.txt')"
   ]
  },
  {
   "cell_type": "code",
   "execution_count": null,
   "metadata": {},
   "outputs": [],
   "source": [
    "!head run.txt"
   ]
  }
 ],
 "metadata": {
  "kernelspec": {
   "display_name": "Python 3",
   "language": "python",
   "name": "python3"
  },
  "language_info": {
   "codemirror_mode": {
    "name": "ipython",
    "version": 3
   },
   "file_extension": ".py",
   "mimetype": "text/x-python",
   "name": "python",
   "nbconvert_exporter": "python",
   "pygments_lexer": "ipython3",
   "version": "3.6.10"
  }
 },
 "nbformat": 4,
 "nbformat_minor": 4
}
