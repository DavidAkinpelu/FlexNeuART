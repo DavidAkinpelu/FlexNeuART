{
 "cells": [
  {
   "cell_type": "markdown",
   "metadata": {},
   "source": [
    "## Preparation"
   ]
  },
  {
   "cell_type": "markdown",
   "metadata": {},
   "source": [
    "### Installation"
   ]
  },
  {
   "cell_type": "code",
   "execution_count": null,
   "metadata": {},
   "outputs": [],
   "source": [
    "# Building sources\n",
    "!git clone git@github.com:oaqa/FlexNeuART.git"
   ]
  },
  {
   "cell_type": "code",
   "execution_count": null,
   "metadata": {},
   "outputs": [],
   "source": [
    "!./build.sh"
   ]
  },
  {
   "cell_type": "markdown",
   "metadata": {},
   "source": [
    "### Downloading demo data"
   ]
  },
  {
   "cell_type": "code",
   "execution_count": null,
   "metadata": {},
   "outputs": [],
   "source": [
    "!wget boytsov.info/datasets/flecsneurt-demo-2020-04-07.tar.bz2 "
   ]
  },
  {
   "cell_type": "code",
   "execution_count": null,
   "metadata": {},
   "outputs": [],
   "source": [
    "# Unpacking it\n",
    "!tar jxvf flecsneurt-demo-2020-04-07.tar.bz2"
   ]
  },
  {
   "cell_type": "code",
   "execution_count": null,
   "metadata": {},
   "outputs": [],
   "source": [
    "# Creating a Lucene index\n",
    "!scripts/index/create_lucene_index.sh squad"
   ]
  },
  {
   "cell_type": "code",
   "execution_count": null,
   "metadata": {},
   "outputs": [],
   "source": [
    "#!creating a forward index for two fields:\n",
    "# text is a parsed text field\n",
    "# text_raw is a raw text field that keeps the text as is\n",
    "# -clean removes all previous forward indices\n",
    "!scripts/index/create_fwd_index.sh squad mapdb  \\\n",
    "                               \"text:parsedText text_unlemm:raw\" \\\n",
    "                               -clean"
   ]
  },
  {
   "cell_type": "markdown",
   "metadata": {},
   "source": [
    "## API demo"
   ]
  },
  {
   "cell_type": "code",
   "execution_count": 1,
   "metadata": {},
   "outputs": [],
   "source": [
    "from scripts.pyflexneuart.setup import *"
   ]
  },
  {
   "cell_type": "code",
   "execution_count": 2,
   "metadata": {},
   "outputs": [],
   "source": [
    "# add Java JAR to the class path\n",
    "configure_classpath('target')"
   ]
  },
  {
   "cell_type": "code",
   "execution_count": 3,
   "metadata": {},
   "outputs": [],
   "source": [
    "# create a resource manager\n",
    "resource_manager=create_featextr_resource_manager('collections/squad/forward_index')"
   ]
  },
  {
   "cell_type": "markdown",
   "metadata": {},
   "source": [
    "### Retrieval"
   ]
  },
  {
   "cell_type": "code",
   "execution_count": 4,
   "metadata": {},
   "outputs": [],
   "source": [
    "from scripts.pyflexneuart.cand_provider import *\n",
    "# create a candidate provider/generator\n",
    "cand_prov = create_cand_provider(resource_manager, PROVIDER_TYPE_LUCENE, 'collections/squad/lucene_index')"
   ]
  },
  {
   "cell_type": "code",
   "execution_count": 6,
   "metadata": {},
   "outputs": [
    {
     "data": {
      "text/plain": [
       "(1961,\n",
       " [CandidateEntry(doc_id='@4309', score=27.225019454956055),\n",
       "  CandidateEntry(doc_id='@4323', score=27.155115127563477),\n",
       "  CandidateEntry(doc_id='@2608', score=26.603111267089844),\n",
       "  CandidateEntry(doc_id='@4310', score=26.364826202392578),\n",
       "  CandidateEntry(doc_id='@4303', score=26.196977615356445),\n",
       "  CandidateEntry(doc_id='@4350', score=25.074060440063477),\n",
       "  CandidateEntry(doc_id='@4346', score=24.675006866455078),\n",
       "  CandidateEntry(doc_id='@4316', score=24.361064910888672),\n",
       "  CandidateEntry(doc_id='@4336', score=23.92790985107422),\n",
       "  CandidateEntry(doc_id='@4345', score=23.00181007385254),\n",
       "  CandidateEntry(doc_id='@4320', score=22.964710235595703),\n",
       "  CandidateEntry(doc_id='@2607', score=22.55484390258789),\n",
       "  CandidateEntry(doc_id='@4325', score=22.466575622558594),\n",
       "  CandidateEntry(doc_id='@4330', score=21.723785400390625),\n",
       "  CandidateEntry(doc_id='@4348', score=21.596769332885742),\n",
       "  CandidateEntry(doc_id='@4321', score=21.47646713256836),\n",
       "  CandidateEntry(doc_id='@4338', score=21.426464080810547),\n",
       "  CandidateEntry(doc_id='@4307', score=21.014934539794922),\n",
       "  CandidateEntry(doc_id='@2067', score=20.57712745666504),\n",
       "  CandidateEntry(doc_id='@4342', score=20.57712745666504)])"
      ]
     },
     "execution_count": 6,
     "metadata": {},
     "output_type": "execute_result"
    }
   ],
   "source": [
    "run_query(cand_prov, 20, \"university notre dame student run\".split())"
   ]
  },
  {
   "cell_type": "markdown",
   "metadata": {},
   "source": [
    "#### Forward index demo"
   ]
  },
  {
   "cell_type": "code",
   "execution_count": null,
   "metadata": {},
   "outputs": [],
   "source": [
    "from scripts.pyflexneuart.fwd_index import get_forward_index"
   ]
  },
  {
   "cell_type": "markdown",
   "metadata": {},
   "source": [
    "### First let's play with a raw index that keeps ony unparsed text"
   ]
  },
  {
   "cell_type": "code",
   "execution_count": null,
   "metadata": {},
   "outputs": [],
   "source": [
    "raw_indx = get_forward_index(resource_manager, 'text_unlemm')"
   ]
  },
  {
   "cell_type": "code",
   "execution_count": null,
   "metadata": {},
   "outputs": [],
   "source": [
    "# the raw flag is set\n",
    "raw_indx.is_raw"
   ]
  },
  {
   "cell_type": "code",
   "execution_count": null,
   "metadata": {},
   "outputs": [],
   "source": [
    "raw_indx.get_doc_raw('@4302')"
   ]
  },
  {
   "cell_type": "markdown",
   "metadata": {},
   "source": [
    "### A parsed index has more info"
   ]
  },
  {
   "cell_type": "code",
   "execution_count": null,
   "metadata": {},
   "outputs": [],
   "source": [
    "parsed_indx = get_forward_index(resource_manager, 'text')"
   ]
  },
  {
   "cell_type": "code",
   "execution_count": null,
   "metadata": {},
   "outputs": [],
   "source": [
    "# here is_raw is False\n",
    "parsed_indx.is_raw"
   ]
  },
  {
   "cell_type": "code",
   "execution_count": null,
   "metadata": {},
   "outputs": [],
   "source": [
    "parsed_indx.get_doc_parsed('@4302')"
   ]
  },
  {
   "cell_type": "code",
   "execution_count": null,
   "metadata": {},
   "outputs": [],
   "source": [
    "# Let's extract the first document word and its info\n",
    "parsed_indx.get_word_by_id(10063), parsed_indx.get_word_entry_by_id(10063)"
   ]
  }
 ],
 "metadata": {
  "kernelspec": {
   "display_name": "Python 3",
   "language": "python",
   "name": "python3"
  },
  "language_info": {
   "codemirror_mode": {
    "name": "ipython",
    "version": 3
   },
   "file_extension": ".py",
   "mimetype": "text/x-python",
   "name": "python",
   "nbconvert_exporter": "python",
   "pygments_lexer": "ipython3",
   "version": "3.6.12"
  }
 },
 "nbformat": 4,
 "nbformat_minor": 4
}
