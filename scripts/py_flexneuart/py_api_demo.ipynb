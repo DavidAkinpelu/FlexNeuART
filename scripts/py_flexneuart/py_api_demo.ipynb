{
 "cells": [
  {
   "cell_type": "markdown",
   "metadata": {},
   "source": [
    "## Preparation"
   ]
  },
  {
   "cell_type": "markdown",
   "metadata": {},
   "source": [
    "### Installation"
   ]
  },
  {
   "cell_type": "markdown",
   "metadata": {},
   "source": [
    "We assume that the repo is cloned, all necessary packages are installed, including calling the script:\n",
    "\n",
    "```./install_packages.sh```\n",
    "\n",
    "and the code is compiled:\n",
    "\n",
    "```./build.sh```"
   ]
  },
  {
   "cell_type": "markdown",
   "metadata": {},
   "source": [
    "### Changing directory to the repo root"
   ]
  },
  {
   "cell_type": "code",
   "execution_count": null,
   "metadata": {},
   "outputs": [],
   "source": [
    "cd ../.."
   ]
  },
  {
   "cell_type": "markdown",
   "metadata": {},
   "source": [
    "### Downloading demo data"
   ]
  },
  {
   "cell_type": "code",
   "execution_count": null,
   "metadata": {},
   "outputs": [],
   "source": [
    "!wget boytsov.info/datasets/flecsneurt-demo-2020-04-07.tar.bz2 "
   ]
  },
  {
   "cell_type": "code",
   "execution_count": null,
   "metadata": {},
   "outputs": [],
   "source": [
    "# Unpacking it\n",
    "!tar jxvf flecsneurt-demo-2020-04-07.tar.bz2"
   ]
  },
  {
   "cell_type": "code",
   "execution_count": 2,
   "metadata": {},
   "outputs": [
    {
     "name": "stdout",
     "output_type": "stream",
     "text": [
      "Using collection root: collections\n",
      "==========================================================================\n",
      "Data directory: collections/squad/input_data\n",
      "Index directory: collections/squad/lucene_index\n",
      "Removing previously created index (if exists)\n",
      "==========================================================================\n",
      "Checking data sub-directory: dev1\n",
      "Found indexable data file: dev1/AnswerFields.jsonl\n",
      "Checking data sub-directory: dev2\n",
      "Found indexable data file: dev2/AnswerFields.jsonl\n",
      "Checking data sub-directory: test\n",
      "Found indexable data file: test/AnswerFields.jsonl\n",
      "Checking data sub-directory: train\n",
      "Found indexable data file: train/AnswerFields.jsonl\n",
      "Checking data sub-directory: train_bitext\n",
      "Found indexable data file: train_bitext/AnswerFields.jsonl\n",
      "Found query file: dev1/QuestionFields.jsonl\n",
      "Found query file: dev2/QuestionFields.jsonl\n",
      "Found query file: test/QuestionFields.jsonl\n",
      "Found query file: train/QuestionFields.jsonl\n",
      "Found query file: train_bitext/QuestionFields.jsonl\n",
      "Using the data input file: AnswerFields.jsonl\n",
      "JAVA_OPTS=-Xms65972946k -Xmx115452655k -server\n",
      "Creating a new Lucene index, maximum # of docs to process: 2147483647\n",
      "Input file name: collections/squad/input_data/dev1/AnswerFields.jsonl\n",
      "Indexed 539 docs\n",
      "Input file name: collections/squad/input_data/dev2/AnswerFields.jsonl\n",
      "Indexed 1106 docs\n",
      "Input file name: collections/squad/input_data/test/AnswerFields.jsonl\n",
      "Indexed 3173 docs\n",
      "Input file name: collections/squad/input_data/train/AnswerFields.jsonl\n",
      "Indexed 4302 docs\n",
      "Input file name: collections/squad/input_data/train_bitext/AnswerFields.jsonl\n",
      "Indexed 10000 docs\n",
      "Indexed 20000 docs\n",
      "Indexed 20963 docs\n"
     ]
    }
   ],
   "source": [
    "# Creating a Lucene index\n",
    "!scripts/index/create_lucene_index.sh squad"
   ]
  },
  {
   "cell_type": "code",
   "execution_count": 3,
   "metadata": {},
   "outputs": [
    {
     "name": "stdout",
     "output_type": "stream",
     "text": [
      "Using collection root: collections\n",
      "==========================================================================\n",
      "Data directory:            collections/squad/input_data\n",
      "Forward index directory:   collections/squad/forward_index/\n",
      "Clean old index?:          1\n",
      "Removing previously created index (if exists)\n",
      "Field list definition:     text:parsedText text_unlemm:raw\n",
      "==========================================================================\n",
      "Checking data sub-directory: dev1\n",
      "Found indexable data file: dev1/AnswerFields.jsonl\n",
      "Checking data sub-directory: dev2\n",
      "Found indexable data file: dev2/AnswerFields.jsonl\n",
      "Checking data sub-directory: test\n",
      "Found indexable data file: test/AnswerFields.jsonl\n",
      "Checking data sub-directory: train\n",
      "Found indexable data file: train/AnswerFields.jsonl\n",
      "Checking data sub-directory: train_bitext\n",
      "Found indexable data file: train_bitext/AnswerFields.jsonl\n",
      "Found query file: dev1/QuestionFields.jsonl\n",
      "Found query file: dev2/QuestionFields.jsonl\n",
      "Found query file: test/QuestionFields.jsonl\n",
      "Found query file: train/QuestionFields.jsonl\n",
      "Found query file: train_bitext/QuestionFields.jsonl\n",
      "JAVA_OPTS=-Xms98959419k -Xmx115452655k -server\n",
      "[main] INFO edu.cmu.lti.oaqa.flexneuart.apps.BuildFwdIndexApp - Processing field: 'text'\n",
      "[main] INFO edu.cmu.lti.oaqa.flexneuart.apps.BuildFwdIndexApp - Forward index storage type: parsedText\n",
      "[main] INFO edu.cmu.lti.oaqa.flexneuart.apps.BuildFwdIndexApp - Forward index storage type: mapdb\n",
      "[main] INFO edu.cmu.lti.oaqa.flexneuart.fwdindx.ForwardIndex - Creating a new forward index, maximum # of docs to process: 2147483647\n",
      "[main] INFO edu.cmu.lti.oaqa.flexneuart.fwdindx.ForwardIndex - Finished processing file: collections/squad/input_data/dev1/AnswerFields.jsonl\n",
      "[main] INFO edu.cmu.lti.oaqa.flexneuart.fwdindx.ForwardIndex - Finished processing file: collections/squad/input_data/dev2/AnswerFields.jsonl\n",
      "[main] INFO edu.cmu.lti.oaqa.flexneuart.fwdindx.ForwardIndex - Finished processing file: collections/squad/input_data/test/AnswerFields.jsonl\n",
      "[main] INFO edu.cmu.lti.oaqa.flexneuart.fwdindx.ForwardIndex - Finished processing file: collections/squad/input_data/train/AnswerFields.jsonl\n",
      "[main] INFO edu.cmu.lti.oaqa.flexneuart.fwdindx.ForwardIndex - Processed 10000 documents\n",
      "[main] INFO edu.cmu.lti.oaqa.flexneuart.fwdindx.ForwardIndex - Processed 20000 documents\n",
      "[main] INFO edu.cmu.lti.oaqa.flexneuart.fwdindx.ForwardIndex - Finished processing file: collections/squad/input_data/train_bitext/AnswerFields.jsonl\n",
      "[main] INFO edu.cmu.lti.oaqa.flexneuart.fwdindx.ForwardIndex - Final statistics: \n",
      "[main] INFO edu.cmu.lti.oaqa.flexneuart.fwdindx.ForwardIndex - Number of documents 20963, total number of words 1381723, average reduction due to keeping only unique words 1.278678\n",
      "JAVA_OPTS=-Xms98959419k -Xmx115452655k -server\n",
      "[main] INFO edu.cmu.lti.oaqa.flexneuart.apps.BuildFwdIndexApp - Processing field: 'text_unlemm'\n",
      "[main] INFO edu.cmu.lti.oaqa.flexneuart.apps.BuildFwdIndexApp - Forward index storage type: raw\n",
      "[main] INFO edu.cmu.lti.oaqa.flexneuart.apps.BuildFwdIndexApp - Forward index storage type: mapdb\n",
      "[main] INFO edu.cmu.lti.oaqa.flexneuart.fwdindx.ForwardIndex - Creating a new forward index, maximum # of docs to process: 2147483647\n",
      "[main] INFO edu.cmu.lti.oaqa.flexneuart.fwdindx.ForwardIndex - Finished processing file: collections/squad/input_data/dev1/AnswerFields.jsonl\n",
      "[main] INFO edu.cmu.lti.oaqa.flexneuart.fwdindx.ForwardIndex - Finished processing file: collections/squad/input_data/dev2/AnswerFields.jsonl\n",
      "[main] INFO edu.cmu.lti.oaqa.flexneuart.fwdindx.ForwardIndex - Finished processing file: collections/squad/input_data/test/AnswerFields.jsonl\n",
      "[main] INFO edu.cmu.lti.oaqa.flexneuart.fwdindx.ForwardIndex - Finished processing file: collections/squad/input_data/train/AnswerFields.jsonl\n",
      "[main] INFO edu.cmu.lti.oaqa.flexneuart.fwdindx.ForwardIndex - Processed 10000 documents\n",
      "[main] INFO edu.cmu.lti.oaqa.flexneuart.fwdindx.ForwardIndex - Processed 20000 documents\n",
      "[main] INFO edu.cmu.lti.oaqa.flexneuart.fwdindx.ForwardIndex - Finished processing file: collections/squad/input_data/train_bitext/AnswerFields.jsonl\n",
      "[main] INFO edu.cmu.lti.oaqa.flexneuart.fwdindx.ForwardIndex - Final statistics: \n",
      "[main] INFO edu.cmu.lti.oaqa.flexneuart.fwdindx.ForwardIndex - Number of documents 20963, total number of words 0, average reduction due to keeping only unique words 0.000000\n"
     ]
    }
   ],
   "source": [
    "#!creating a forward index for two fields:\n",
    "# text is a parsed text field\n",
    "# text_raw is a raw text field that keeps the text as is\n",
    "# -clean removes all previous forward indices\n",
    "!scripts/index/create_fwd_index.sh squad mapdb  \\\n",
    "                               \"text:parsedText text_unlemm:raw\" \\\n",
    "                               -clean"
   ]
  },
  {
   "cell_type": "markdown",
   "metadata": {},
   "source": [
    "## API demo"
   ]
  },
  {
   "cell_type": "code",
   "execution_count": 4,
   "metadata": {},
   "outputs": [],
   "source": [
    "from scripts.py_flexneuart.setup import *"
   ]
  },
  {
   "cell_type": "code",
   "execution_count": 5,
   "metadata": {},
   "outputs": [],
   "source": [
    "# add Java JAR to the class path\n",
    "configure_classpath('target')"
   ]
  },
  {
   "cell_type": "code",
   "execution_count": 6,
   "metadata": {},
   "outputs": [],
   "source": [
    "# create a resource manager\n",
    "resource_manager=create_featextr_resource_manager('collections/squad/forward_index')"
   ]
  },
  {
   "cell_type": "markdown",
   "metadata": {},
   "source": [
    "### Retrieval"
   ]
  },
  {
   "cell_type": "code",
   "execution_count": 7,
   "metadata": {},
   "outputs": [],
   "source": [
    "from scripts.py_flexneuart.cand_provider import *\n",
    "# create a candidate provider/generator\n",
    "cand_prov = create_cand_provider(resource_manager, PROVIDER_TYPE_LUCENE, 'collections/squad/lucene_index')"
   ]
  },
  {
   "cell_type": "code",
   "execution_count": 8,
   "metadata": {},
   "outputs": [
    {
     "data": {
      "text/plain": [
       "(1961,\n",
       " [CandidateEntry(doc_id='@4309', score=27.225019454956055),\n",
       "  CandidateEntry(doc_id='@4323', score=27.155115127563477),\n",
       "  CandidateEntry(doc_id='@2608', score=26.603111267089844),\n",
       "  CandidateEntry(doc_id='@4310', score=26.364826202392578),\n",
       "  CandidateEntry(doc_id='@4303', score=26.196977615356445),\n",
       "  CandidateEntry(doc_id='@4350', score=25.074060440063477),\n",
       "  CandidateEntry(doc_id='@4346', score=24.675006866455078),\n",
       "  CandidateEntry(doc_id='@4316', score=24.361064910888672),\n",
       "  CandidateEntry(doc_id='@4336', score=23.92790985107422),\n",
       "  CandidateEntry(doc_id='@4345', score=23.00181007385254),\n",
       "  CandidateEntry(doc_id='@4320', score=22.964710235595703),\n",
       "  CandidateEntry(doc_id='@2607', score=22.55484390258789),\n",
       "  CandidateEntry(doc_id='@4325', score=22.466575622558594),\n",
       "  CandidateEntry(doc_id='@4330', score=21.723785400390625),\n",
       "  CandidateEntry(doc_id='@4348', score=21.596769332885742),\n",
       "  CandidateEntry(doc_id='@4321', score=21.47646713256836),\n",
       "  CandidateEntry(doc_id='@4338', score=21.426464080810547),\n",
       "  CandidateEntry(doc_id='@4307', score=21.014934539794922),\n",
       "  CandidateEntry(doc_id='@2067', score=20.57712745666504),\n",
       "  CandidateEntry(doc_id='@4342', score=20.57712745666504)])"
      ]
     },
     "execution_count": 8,
     "metadata": {},
     "output_type": "execute_result"
    }
   ],
   "source": [
    "run_query(cand_prov, 20, \"university notre dame student run\".split())"
   ]
  },
  {
   "cell_type": "markdown",
   "metadata": {},
   "source": [
    "### Forward index demo"
   ]
  },
  {
   "cell_type": "code",
   "execution_count": 9,
   "metadata": {},
   "outputs": [],
   "source": [
    "from scripts.py_flexneuart.fwd_index import get_forward_index"
   ]
  },
  {
   "cell_type": "markdown",
   "metadata": {},
   "source": [
    "#### First let's play with a raw index that keeps ony unparsed text"
   ]
  },
  {
   "cell_type": "code",
   "execution_count": 10,
   "metadata": {},
   "outputs": [],
   "source": [
    "raw_indx = get_forward_index(resource_manager, 'text_unlemm')"
   ]
  },
  {
   "cell_type": "code",
   "execution_count": 11,
   "metadata": {},
   "outputs": [
    {
     "data": {
      "text/plain": [
       "True"
      ]
     },
     "execution_count": 11,
     "metadata": {},
     "output_type": "execute_result"
    }
   ],
   "source": [
    "# the raw flag is set\n",
    "raw_indx.is_raw"
   ]
  },
  {
   "cell_type": "code",
   "execution_count": 12,
   "metadata": {},
   "outputs": [
    {
     "data": {
      "text/plain": [
       "'architecturally school catholic character atop main building gold dome golden statue virgin mary immediately main building facing copper statue christ arms upraised legend venite ad omnes main building basilica sacred heart immediately basilica grotto marian place prayer reflection replica grotto lourdes france virgin mary reputedly appeared saint bernadette soubirous 1858 end main drive direct line connects 3 statues gold dome simple modern stone statue mary'"
      ]
     },
     "execution_count": 12,
     "metadata": {},
     "output_type": "execute_result"
    }
   ],
   "source": [
    "raw_indx.get_doc_raw('@4302')"
   ]
  },
  {
   "cell_type": "markdown",
   "metadata": {},
   "source": [
    "#### A parsed index has more info"
   ]
  },
  {
   "cell_type": "code",
   "execution_count": 13,
   "metadata": {},
   "outputs": [],
   "source": [
    "parsed_indx = get_forward_index(resource_manager, 'text')"
   ]
  },
  {
   "cell_type": "code",
   "execution_count": 14,
   "metadata": {},
   "outputs": [
    {
     "data": {
      "text/plain": [
       "False"
      ]
     },
     "execution_count": 14,
     "metadata": {},
     "output_type": "execute_result"
    }
   ],
   "source": [
    "# here is_raw is False\n",
    "parsed_indx.is_raw"
   ]
  },
  {
   "cell_type": "code",
   "execution_count": 15,
   "metadata": {},
   "outputs": [
    {
     "data": {
      "text/plain": [
       "DocEntryParsed(word_ids=[1, 470, 480, 549, 770, 848, 857, 867, 1143, 1193, 1291, 1514, 1562, 1597, 1897, 2210, 2425, 2513, 2579, 3171, 3207, 3357, 3806, 3899, 3960, 4056, 4334, 4790, 5881, 6258, 6274, 6629, 6645, 7051, 7557, 8066, 9139, 10063, 11826, 12878, 13240, 16221, 20752, 32578, 32579, 32580, 32581, 32582, 32583], word_qtys=[1, 1, 1, 1, 1, 1, 1, 1, 2, 3, 4, 1, 1, 2, 1, 1, 1, 1, 1, 1, 1, 1, 1, 1, 1, 1, 3, 2, 1, 1, 1, 1, 2, 1, 1, 1, 2, 1, 4, 1, 1, 1, 1, 1, 1, 2, 1, 1, 1], word_id_seq=[10063, 1, 6274, 848, 8066, 1291, 1193, 6645, 9139, 3171, 11826, 1143, 4334, 1597, 1291, 1193, 2210, 3899, 11826, 2425, 3806, 32578, 857, 32579, 7051, 13240, 1291, 1193, 4790, 7557, 4056, 1597, 4790, 32580, 6258, 1897, 5881, 16221, 6629, 32580, 32581, 3207, 1143, 4334, 20752, 470, 2579, 32582, 32583, 12878, 1562, 1291, 3357, 867, 770, 2513, 549, 11826, 6645, 9139, 1514, 480, 3960, 11826, 4334], doc_len=65)"
      ]
     },
     "execution_count": 15,
     "metadata": {},
     "output_type": "execute_result"
    }
   ],
   "source": [
    "parsed_indx.get_doc_parsed('@4302')"
   ]
  },
  {
   "cell_type": "code",
   "execution_count": 16,
   "metadata": {},
   "outputs": [
    {
     "data": {
      "text/plain": [
       "('architecturally', WordEntry(word_id=10063, word_freq=11))"
      ]
     },
     "execution_count": 16,
     "metadata": {},
     "output_type": "execute_result"
    }
   ],
   "source": [
    "# Let's extract the first document word and its info\n",
    "parsed_indx.get_word_by_id(10063), parsed_indx.get_word_entry_by_id(10063)"
   ]
  },
  {
   "cell_type": "code",
   "execution_count": null,
   "metadata": {},
   "outputs": [],
   "source": []
  }
 ],
 "metadata": {
  "kernelspec": {
   "display_name": "Python 3",
   "language": "python",
   "name": "python3"
  },
  "language_info": {
   "codemirror_mode": {
    "name": "ipython",
    "version": 3
   },
   "file_extension": ".py",
   "mimetype": "text/x-python",
   "name": "python",
   "nbconvert_exporter": "python",
   "pygments_lexer": "ipython3",
   "version": "3.6.6"
  }
 },
 "nbformat": 4,
 "nbformat_minor": 4
}
