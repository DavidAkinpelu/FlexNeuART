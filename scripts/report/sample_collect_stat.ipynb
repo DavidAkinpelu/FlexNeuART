{
 "cells": [
  {
   "cell_type": "code",
   "execution_count": 1,
   "id": "44af9df5",
   "metadata": {},
   "outputs": [],
   "source": [
    "from flexneuart import configure_classpath\n",
    "# add Java JAR to the class path\n",
    "configure_classpath()\n",
    "COLLECTION_ROOT='/disk3/collections'"
   ]
  },
  {
   "cell_type": "code",
   "execution_count": 2,
   "id": "c3bfca83",
   "metadata": {},
   "outputs": [],
   "source": [
    "COLLECTION='wikipedia_dpr_nq_sample'\n",
    "QUERY_SETS=['dev_official', 'train_fusion']\n",
    "QUERY_FIELD_LIST=['text_raw', ]"
   ]
  },
  {
   "cell_type": "code",
   "execution_count": 3,
   "id": "d3c7ede2",
   "metadata": {},
   "outputs": [],
   "source": [
    "# A parsedBOW or parsedText index needs to exist for this field!\n",
    "INDEX_FIELD='text_bert_tok'"
   ]
  },
  {
   "cell_type": "code",
   "execution_count": 4,
   "id": "9c38e8e0",
   "metadata": {},
   "outputs": [
    {
     "name": "stderr",
     "output_type": "stream",
     "text": [
      "[main] INFO edu.cmu.lti.oaqa.flexneuart.resources.ResourceManager - Resource manager initialization. Resource root:/disk3/collections/wikipedia_dpr_nq_sample/\n"
     ]
    }
   ],
   "source": [
    "from flexneuart.retrieval import create_featextr_resource_manager\n",
    "from flexneuart.retrieval.fwd_index import get_forward_index\n",
    "\n",
    "# create a resource manager\n",
    "resource_manager=create_featextr_resource_manager(resource_root_dir=f'{COLLECTION_ROOT}/{COLLECTION}/',\n",
    "                                                  fwd_index_dir='forward_index')\n"
   ]
  },
  {
   "cell_type": "code",
   "execution_count": 5,
   "id": "8fd7b942",
   "metadata": {},
   "outputs": [
    {
     "name": "stderr",
     "output_type": "stream",
     "text": [
      "[main] INFO edu.cmu.lti.oaqa.flexneuart.fwdindx.MapDbBackend - MapDB opened for reading: /disk3/collections/wikipedia_dpr_nq_sample/forward_index/text_bert_tok.mapdb_dataDict\n",
      "[main] INFO edu.cmu.lti.oaqa.flexneuart.fwdindx.ForwardIndexBinaryDataDict - Finished loading context from file: /disk3/collections/wikipedia_dpr_nq_sample/forward_index/text_bert_tok.mapdb_dataDict\n"
     ]
    }
   ],
   "source": [
    "fld_indx = get_forward_index(resource_manager, INDEX_FIELD)"
   ]
  },
  {
   "cell_type": "code",
   "execution_count": 6,
   "id": "b7a53a0c",
   "metadata": {},
   "outputs": [
    {
     "name": "stdout",
     "output_type": "stream",
     "text": [
      "wikipedia_dpr_nq_sample # of docs 774392 avg. # of BERT tokens per doc 140.7\n"
     ]
    }
   ],
   "source": [
    "print(COLLECTION, '# of docs', fld_indx.get_doc_qty(), \n",
    "      'avg. # of BERT tokens per doc', round(fld_indx.get_avg_doc_len(), 1))"
   ]
  },
  {
   "cell_type": "code",
   "execution_count": 7,
   "id": "3e02c165",
   "metadata": {},
   "outputs": [],
   "source": [
    "from transformers import AutoTokenizer\n",
    "\n",
    "tok = AutoTokenizer.from_pretrained('bert-base-uncased')"
   ]
  },
  {
   "cell_type": "code",
   "execution_count": 8,
   "id": "f91d3d6a",
   "metadata": {},
   "outputs": [
    {
     "name": "stderr",
     "output_type": "stream",
     "text": [
      "                                                       \r"
     ]
    },
    {
     "name": "stdout",
     "output_type": "stream",
     "text": [
      "input part: dev_official # of queries 6515 avg. # of positive QRELs per query: 7.9\n"
     ]
    },
    {
     "name": "stderr",
     "output_type": "stream",
     "text": [
      "100%|██████████████████████████████████████████████████████████████████████████████████████| 6515/6515 [00:00<00:00, 7920.99it/s]\n"
     ]
    },
    {
     "name": "stdout",
     "output_type": "stream",
     "text": [
      "Query field: text_raw query part: dev_official avg. # of BERT tokens per query: 9.8\n"
     ]
    },
    {
     "name": "stderr",
     "output_type": "stream",
     "text": [
      "                                                       \r"
     ]
    },
    {
     "name": "stdout",
     "output_type": "stream",
     "text": [
      "input part: train_fusion # of queries 2500 avg. # of positive QRELs per query: 7.7\n"
     ]
    },
    {
     "name": "stderr",
     "output_type": "stream",
     "text": [
      "100%|██████████████████████████████████████████████████████████████████████████████████████| 2500/2500 [00:00<00:00, 8060.93it/s]"
     ]
    },
    {
     "name": "stdout",
     "output_type": "stream",
     "text": [
      "Query field: text_raw query part: train_fusion avg. # of BERT tokens per query: 9.8\n"
     ]
    },
    {
     "name": "stderr",
     "output_type": "stream",
     "text": [
      "\n"
     ]
    }
   ],
   "source": [
    "from tqdm import tqdm\n",
    "import numpy as np\n",
    "from flexneuart.io.queries import read_queries_dict\n",
    "from flexneuart.io.qrels import read_qrels_dict\n",
    "from flexneuart.config import QUESTION_FILE_JSON, QREL_FILE\n",
    "\n",
    "MIN_REL_GRADE=1\n",
    "\n",
    "for query_part in QUERY_SETS:\n",
    "    queries = read_queries_dict(f'{COLLECTION_ROOT}/{COLLECTION}/input_data/{query_part}/{QUESTION_FILE_JSON}')\n",
    "    qrel_dict = read_qrels_dict(f'{COLLECTION_ROOT}/{COLLECTION}/input_data/{query_part}/{QREL_FILE}')\n",
    "    \n",
    "            \n",
    "    query_qty = len(queries)\n",
    "            \n",
    "    qrel_pos_qty  = 0\n",
    "\n",
    "    for qid, qdict in qrel_dict.items():\n",
    "        for did, grade in qdict.items():\n",
    "            qrel_pos_qty += int(grade >= MIN_REL_GRADE)\n",
    "    \n",
    "    print('input part:', query_part,\n",
    "          '# of queries', query_qty,\n",
    "          'avg. # of positive QRELs per query:', round(qrel_pos_qty / query_qty, 1))\n",
    "        \n",
    "    for query_field in QUERY_FIELD_LIST:\n",
    "        query_lens = []\n",
    "\n",
    "        for qid, e in tqdm(queries.items()):\n",
    "            text = e[query_field]\n",
    "            query_lens.append(len(tok.tokenize(text)))\n",
    "        print('Query field:', query_field, 'query part:', query_part, \n",
    "              'avg. # of BERT tokens per query:', round(np.mean(query_lens), 1))"
   ]
  },
  {
   "cell_type": "code",
   "execution_count": null,
   "id": "ec1dbf99",
   "metadata": {},
   "outputs": [],
   "source": []
  }
 ],
 "metadata": {
  "kernelspec": {
   "display_name": "Python 3 (ipykernel)",
   "language": "python",
   "name": "python3"
  },
  "language_info": {
   "codemirror_mode": {
    "name": "ipython",
    "version": 3
   },
   "file_extension": ".py",
   "mimetype": "text/x-python",
   "name": "python",
   "nbconvert_exporter": "python",
   "pygments_lexer": "ipython3",
   "version": "3.8.12"
  }
 },
 "nbformat": 4,
 "nbformat_minor": 5
}
