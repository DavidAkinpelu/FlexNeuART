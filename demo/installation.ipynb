{
 "cells": [
  {
   "cell_type": "markdown",
   "id": "3359df92",
   "metadata": {},
   "source": [
    "### The core library can be installed by pip:"
   ]
  },
  {
   "cell_type": "code",
   "execution_count": null,
   "id": "76e6077a",
   "metadata": {},
   "outputs": [],
   "source": [
    "!pip install flexneuart"
   ]
  },
  {
   "cell_type": "markdown",
   "id": "053eb381",
   "metadata": {},
   "source": [
    "### However, most functionality such as procesing data, creating indices, and running basic experiments requires additional executable files. \n",
    "These executables become available after an extra installation step via `flexneuart_install_extra.sh` (which is installed by pip). Extra executables can be installed to any directory, but for the purpose of this demonstration we use `/home/leo/flexneuart_scripts`. \n",
    "\n",
    "The second argument of `flexneuart_install_extra.sh` is `1`, which instructs the script to install `MGIZA` (specify `0` to skip installation of `MGIZA`):"
   ]
  },
  {
   "cell_type": "code",
   "execution_count": 2,
   "id": "0986cf12",
   "metadata": {},
   "outputs": [
    {
     "name": "stdout",
     "output_type": "stream",
     "text": [
      "==============================================\n",
      " Installing additional scripts & binaries \n",
      " log: /home/leo/SourceTreeGit/FlexNeuART.pypi2021/demo/install.log\n",
      "==============================================\n",
      "            INSTALL IS COMPLETE!\n",
      "==============================================\n"
     ]
    }
   ],
   "source": [
    "!flexneuart_install_extra.sh /home/leo/flexneuart_scripts 1"
   ]
  },
  {
   "cell_type": "code",
   "execution_count": null,
   "id": "ba2c2510",
   "metadata": {},
   "outputs": [],
   "source": []
  }
 ],
 "metadata": {
  "kernelspec": {
   "display_name": "Python 3",
   "language": "python",
   "name": "python3"
  },
  "language_info": {
   "codemirror_mode": {
    "name": "ipython",
    "version": 3
   },
   "file_extension": ".py",
   "mimetype": "text/x-python",
   "name": "python",
   "nbconvert_exporter": "python",
   "pygments_lexer": "ipython3",
   "version": "3.6.13"
  }
 },
 "nbformat": 4,
 "nbformat_minor": 5
}
