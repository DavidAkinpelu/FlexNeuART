{
 "cells": [
  {
   "cell_type": "markdown",
   "metadata": {},
   "source": [
    "# Indexing notebook"
   ]
  },
  {
   "cell_type": "markdown",
   "metadata": {},
   "source": [
    "### Two things to do before we start:\n",
    "1. Point environment variable `COLLECT_ROOT` to the collection root.\n",
    "2. Change directory to the location of installed scripts/binaries"
   ]
  },
  {
   "cell_type": "code",
   "execution_count": 1,
   "metadata": {},
   "outputs": [
    {
     "name": "stdout",
     "output_type": "stream",
     "text": [
      "env: COLLECT_ROOT=/home/leo/flexneuart_collections\n"
     ]
    }
   ],
   "source": [
    "%env COLLECT_ROOT=/home/leo/flexneuart_collections"
   ]
  },
  {
   "cell_type": "code",
   "execution_count": 6,
   "metadata": {},
   "outputs": [
    {
     "name": "stdout",
     "output_type": "stream",
     "text": [
      "/home/leo/flexneuart_scripts\n"
     ]
    }
   ],
   "source": [
    "cd /home/leo/flexneuart_scripts/"
   ]
  },
  {
   "cell_type": "markdown",
   "metadata": {},
   "source": [
    "### Lucene indexer options"
   ]
  },
  {
   "cell_type": "code",
   "execution_count": 3,
   "metadata": {},
   "outputs": [
    {
     "name": "stdout",
     "output_type": "stream",
     "text": [
      "Using collection root: /home/leo/flexneuart_collections\r\n",
      "Specify collection sub-directory, e.g., msmarco_pass (1st arg)\r\n",
      "Usage: <collection> [additional options]\r\n",
      "Additional options:\r\n",
      "-h print help\r\n",
      "-exact_match create index for exact match\r\n",
      "-index_field indexing field name (default text)\r\n",
      "-input_subdir input data sub-directory (default input_data)\r\n",
      "-index_subdir index subdirectory (default lucene_index)\r\n"
     ]
    }
   ],
   "source": [
    "!./index/create_lucene_index.sh"
   ]
  },
  {
   "cell_type": "markdown",
   "metadata": {},
   "source": [
    "By default Lucene using the context of the field `text` to create the full-text index, which is stored in the sub-directory `lucene_index`, but it is possible to create an index for an exact match, use a content of a different field, or store the inde"
   ]
  },
  {
   "cell_type": "markdown",
   "metadata": {},
   "source": [
    "### Lucene index"
   ]
  },
  {
   "cell_type": "code",
   "execution_count": 4,
   "metadata": {},
   "outputs": [
    {
     "name": "stdout",
     "output_type": "stream",
     "text": [
      "Using collection root: /home/leo/flexneuart_collections\n",
      "==========================================================================\n",
      "Input data directory: /home/leo/flexneuart_collections/wikipedia_dpr_nq_sample/input_data\n",
      "Index directory:      /home/leo/flexneuart_collections/wikipedia_dpr_nq_sample/lucene_index\n",
      "Index field name:     text\n",
      "Exact match param:    \n",
      "==========================================================================\n",
      "Checking input sub-directory: bitext\n",
      "Checking input sub-directory: dev\n",
      "Checking input sub-directory: dev_official\n",
      "Checking input sub-directory: pass_sample\n",
      "Found indexable data file: pass_sample/AnswerFields.jsonl.gz\n",
      "Checking input sub-directory: train_fusion\n",
      "Found query file: bitext/QuestionFields.jsonl\n",
      "Found query file: dev/QuestionFields.jsonl\n",
      "Found query file: dev_official/QuestionFields.jsonl\n",
      "Found query file: train_fusion/QuestionFields.jsonl\n",
      "Using the data input file: AnswerFields.jsonl.gz\n",
      "JAVA_OPTS=-Xms4117329k -Xmx28821303k -server\n",
      "[main] INFO edu.cmu.lti.oaqa.flexneuart.apps.LuceneIndexer - Creating a new Lucene index, maximum # of docs to process: 2147483647 index field name: text exact match? false\n",
      "[main] INFO edu.cmu.lti.oaqa.flexneuart.apps.LuceneIndexer - Input file name: /home/leo/flexneuart_collections/wikipedia_dpr_nq_sample/input_data/pass_sample/AnswerFields.jsonl.gz\n",
      "[main] INFO edu.cmu.lti.oaqa.flexneuart.apps.LuceneIndexer - Indexed 100000 docs\n",
      "[main] INFO edu.cmu.lti.oaqa.flexneuart.apps.LuceneIndexer - Indexed 200000 docs\n",
      "[main] INFO edu.cmu.lti.oaqa.flexneuart.apps.LuceneIndexer - Indexed 300000 docs\n",
      "[main] INFO edu.cmu.lti.oaqa.flexneuart.apps.LuceneIndexer - Indexed 400000 docs\n",
      "[main] INFO edu.cmu.lti.oaqa.flexneuart.apps.LuceneIndexer - Indexed 500000 docs\n",
      "[main] INFO edu.cmu.lti.oaqa.flexneuart.apps.LuceneIndexer - Indexed 600000 docs\n",
      "[main] INFO edu.cmu.lti.oaqa.flexneuart.apps.LuceneIndexer - Indexed 700000 docs\n",
      "[main] INFO edu.cmu.lti.oaqa.flexneuart.apps.LuceneIndexer - Indexed 774392 docs\n"
     ]
    }
   ],
   "source": [
    "!./index/create_lucene_index.sh wikipedia_dpr_nq_sample"
   ]
  },
  {
   "cell_type": "markdown",
   "metadata": {},
   "source": [
    "### Forward indices"
   ]
  },
  {
   "cell_type": "markdown",
   "metadata": {},
   "source": [
    "A forward index allows one to retrieve an original or parsed field content using a document identifier. The forward index can be stored using two foramts and two storage engines (mapdb and lucene). In most cases, default settings (we use `mapdb` directly) works well: It permis the fastest re-rankers when there is enough memory. When there is not enough memory, one can build using an option `-fwd_index_type offsetDict` possibly combined with `-fwd_index_store_type lucene`, which stores data records in a separate file and uses `mapdb` or `lucene` key-value index to store only offsets & lengths.\n",
    "\n",
    "There are four types of the field, which include:\n",
    "1. two parsed textual field formats: \n",
    "    - Parsed text without positional information (bag-of-words): **parsedBOW**   \n",
    "    - Parsed text with positional information: **parsedText**\n",
    "2. original/unparsed/raw text: **textRaw**\n",
    "3. binary (can be anything): **binary**\n",
    "\n",
    "The options are printed by the indexing script:"
   ]
  },
  {
   "cell_type": "code",
   "execution_count": 5,
   "metadata": {},
   "outputs": [
    {
     "name": "stdout",
     "output_type": "stream",
     "text": [
      "Using collection root: /home/leo/flexneuart_collections\r\n",
      "collection sub-directory, e.g., msmarco_pass (1st arg)\r\n",
      "Usage: <collection> <field definition: examples: text:parsedBOW, text_unlemm:parsedText, text_raw:textRaw, dense_embed:binary> [additional options]\r\n",
      "Additional options:\r\n",
      "-h print help\r\n",
      "-clean remove the previous index\r\n",
      "-input_subdir input data sub-directory (default input_data)\r\n",
      "-index_subdir index subdirectory (default forward_index)\r\n",
      "-fwd_index_type forward index type: dataDict, offsetDict\r\n",
      "-fwd_index_store_type a forward backend storage type: lucene, mapdb\r\n",
      "-expect_doc_qty expected # of documents in the index\r\n"
     ]
    }
   ],
   "source": [
    "!./index/create_fwd_index.sh "
   ]
  },
  {
   "cell_type": "markdown",
   "metadata": {},
   "source": [
    "Here we create indices sequentially, but they can also be created **in parallel** (independently for each field):"
   ]
  },
  {
   "cell_type": "code",
   "execution_count": null,
   "metadata": {},
   "outputs": [],
   "source": [
    "!for field_def in dense:binary text:parsedText \\\n",
    "                  text_unlemm:parsedText \\\n",
    "                  title:parsedBOW \\\n",
    "                  text_bert_tok:parsedText \\\n",
    "                  text_raw:textRaw ; do \\\n",
    "    ./index/create_fwd_index.sh wikipedia_dpr_nq_sample $field_def ; \\\n",
    "done"
   ]
  }
 ],
 "metadata": {
  "kernelspec": {
   "display_name": "Python 3",
   "language": "python",
   "name": "python3"
  },
  "language_info": {
   "codemirror_mode": {
    "name": "ipython",
    "version": 3
   },
   "file_extension": ".py",
   "mimetype": "text/x-python",
   "name": "python",
   "nbconvert_exporter": "python",
   "pygments_lexer": "ipython3",
   "version": "3.6.13"
  }
 },
 "nbformat": 4,
 "nbformat_minor": 4
}
